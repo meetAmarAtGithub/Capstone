{
  "cells": [
    {
      "cell_type": "markdown",
      "metadata": {
        "id": "view-in-github",
        "colab_type": "text"
      },
      "source": [
        "<a href=\"https://colab.research.google.com/github/meetAmarAtGithub/Capstone/blob/main/CarDamageDetection.ipynb\" target=\"_parent\"><img src=\"https://colab.research.google.com/assets/colab-badge.svg\" alt=\"Open In Colab\"/></a>"
      ]
    },
    {
      "cell_type": "code",
      "execution_count": null,
      "metadata": {
        "colab": {
          "base_uri": "https://localhost:8080/"
        },
        "id": "EOZS2rBh_IiO",
        "outputId": "1a102468-21e7-44a0-917b-e9f4107263c8"
      },
      "outputs": [
        {
          "output_type": "stream",
          "name": "stdout",
          "text": [
            "Mounted at /content/gdrive\n"
          ]
        }
      ],
      "source": [
        "from google.colab import drive\n",
        "\n",
        "drive.mount('/content/gdrive')"
      ]
    },
    {
      "cell_type": "code",
      "execution_count": null,
      "metadata": {
        "colab": {
          "base_uri": "https://localhost:8080/"
        },
        "id": "Enexy6gjlH8B",
        "outputId": "52921e5b-b70d-462b-d363-eaeb971f7f11"
      },
      "outputs": [
        {
          "output_type": "stream",
          "name": "stdout",
          "text": [
            "/content/gdrive/MyDrive/Colab Notebooks/Reva/Capstone\n"
          ]
        }
      ],
      "source": [
        "%cd \"/content/gdrive/MyDrive/Colab Notebooks/Reva/Capstone\""
      ]
    },
    {
      "cell_type": "code",
      "execution_count": null,
      "metadata": {
        "id": "OdQ6RPsf_brq"
      },
      "outputs": [],
      "source": [
        "ROOT_DIR = \"/content/gdrive/My Drive/Colab Notebooks/Reva/Capstone\""
      ]
    },
    {
      "cell_type": "markdown",
      "source": [
        "#Install Ultralytics"
      ],
      "metadata": {
        "id": "ORin7fEY1FjL"
      }
    },
    {
      "cell_type": "code",
      "execution_count": null,
      "metadata": {
        "id": "j_opHa3pAATv"
      },
      "outputs": [],
      "source": [
        "!pip install ultralytics  > /dev/null 2>&1;"
      ]
    },
    {
      "cell_type": "code",
      "source": [
        "import ultralytics\n",
        "ultralytics.checks()"
      ],
      "metadata": {
        "id": "HMxJLWfM1Dfc",
        "colab": {
          "base_uri": "https://localhost:8080/"
        },
        "outputId": "7c67c1b6-b75f-4c24-f7c7-607eccee0f38"
      },
      "execution_count": null,
      "outputs": [
        {
          "output_type": "stream",
          "name": "stdout",
          "text": [
            "Ultralytics YOLOv8.2.17 🚀 Python-3.10.12 torch-2.2.1+cu121 CPU (Intel Xeon 2.20GHz)\n",
            "Setup complete ✅ (2 CPUs, 12.7 GB RAM, 29.8/107.7 GB disk)\n"
          ]
        }
      ]
    },
    {
      "cell_type": "code",
      "execution_count": null,
      "metadata": {
        "colab": {
          "base_uri": "https://localhost:8080/"
        },
        "id": "6xqldT4q__b-",
        "outputId": "ce955797-8ce2-4bbe-f8fe-4bfe94a213bb"
      },
      "outputs": [
        {
          "name": "stdout",
          "output_type": "stream",
          "text": [
            "0642.JPEG\n",
            "data\n",
            "runs\n",
            "TrainYolov8CustomDataset\n",
            "yolov8n.pt\n",
            "google_colab_config.yaml\n",
            "CarDamageDetection.ipynb\n"
          ]
        }
      ],
      "source": [
        "# prompt: list all files in current directory\n",
        "\n",
        "import os\n",
        "\n",
        "for filename in os.listdir(ROOT_DIR):\n",
        "  print(filename)\n"
      ]
    },
    {
      "cell_type": "markdown",
      "source": [
        "# Albumentation"
      ],
      "metadata": {
        "id": "Heo1LTm90FMJ"
      }
    },
    {
      "cell_type": "code",
      "source": [
        "from google.colab import drive\n",
        "drive.mount('/content/gdrive')"
      ],
      "metadata": {
        "colab": {
          "base_uri": "https://localhost:8080/"
        },
        "id": "SckTHoHRd8xd",
        "outputId": "65f498cf-d303-45cd-ee2a-62a211c60ea8"
      },
      "execution_count": null,
      "outputs": [
        {
          "output_type": "stream",
          "name": "stdout",
          "text": [
            "Drive already mounted at /content/gdrive; to attempt to forcibly remount, call drive.mount(\"/content/gdrive\", force_remount=True).\n"
          ]
        }
      ]
    },
    {
      "cell_type": "code",
      "source": [
        "import albumentations as A\n",
        "import cv2\n",
        "import os\n",
        "\n",
        "# Define the path for the images and labels folder\n",
        "image_folder = '/content/gdrive/MyDrive/Colab Notebooks/Reva/Capstone/data/images'\n",
        "label_folder = '/content/gdrive/MyDrive/Colab Notebooks/Reva/Capstone/data/labels'"
      ],
      "metadata": {
        "id": "QZhz2yUxS_sk"
      },
      "execution_count": null,
      "outputs": []
    },
    {
      "cell_type": "code",
      "source": [
        "'''\n",
        "# Function to load labels from a txt file\n",
        "def load_label_function(label_path):\n",
        "    # Sample implementation: Read label data from a txt file\n",
        "    with open(label_path, 'r') as file:\n",
        "        label_data = file.read()\n",
        "        # Process label data as per your label format\n",
        "        # Return the loaded label data\n",
        "        return label_data\n",
        "\n",
        "# Function to save labels to a txt file\n",
        "def save_label_function(label_path, bboxes, class_labels):\n",
        "    # Sample implementation: Save label data to a txt file\n",
        "    with open(label_path, 'w') as file:\n",
        "        # Process bboxes and class_labels to the required format for saving\n",
        "        # Write the processed label data to the file\n",
        "        file.write(\"Processed label data to be saved\")\n",
        "\n",
        "# Apply transformations to the images and save the transformed images with corresponding labels\n",
        "def apply_transformations_and_save(image_folder, label_folder):\n",
        "    transform = A.Compose([\n",
        "        A.RandomCrop(width=450, height=450),\n",
        "        A.HorizontalFlip(p=0.5),\n",
        "        A.RandomBrightnessContrast(p=0.2),\n",
        "    ], bbox_params=A.BboxParams(format='yolo', label_fields=['Classes']))\n",
        "\n",
        "    for image_name in os.listdir(image_folder):\n",
        "        if image_name.endswith('.jpg'):\n",
        "            image_path = os.path.join(image_folder, image_name)\n",
        "            label_path = os.path.join(label_folder, image_name.replace('.jpg', '.txt'))\n",
        "\n",
        "            original_image = cv2.imread(image_path)\n",
        "            original_image = cv2.cvtColor(original_image, cv2.COLOR_BGR2RGB)\n",
        "            original_label = load_label_function(label_path)\n",
        "\n",
        "            transformed = transform(image=original_image, bboxes=original_label['bboxes'], class_labels=original_label['Classes'])\n",
        "            transformed_image = transformed['image']\n",
        "            transformed_bboxes = transformed['bboxes']\n",
        "            transformed_class_labels = transformed['Classes']\n",
        "\n",
        "            # Save the transformed image\n",
        "            transformed_image_path = os.path.join(image_folder, 'transformed_' + image_name)\n",
        "            cv2.imwrite(transformed_image_path, cv2.cvtColor(transformed_image, cv2.COLOR_RGB2BGR))\n",
        "\n",
        "            # Save the corresponding label as a txt file\n",
        "            transformed_label_path = os.path.join(label_folder, 'transformed_' + image_name.replace('.jpg', '.txt'))\n",
        "            save_label_function(transformed_label_path, transformed_bboxes, transformed_class_labels)\n",
        "\n",
        "# Example usage\n",
        "apply_transformations_and_save(image_folder, label_folder)\n",
        "'''"
      ],
      "metadata": {
        "id": "_rek2EjZ0roe"
      },
      "execution_count": null,
      "outputs": []
    },
    {
      "cell_type": "code",
      "source": [
        "# Function to load labels from a txt file\n",
        "def load_label_function(label_path):\n",
        "    with open(label_path, 'r') as file:\n",
        "        lines = file.readlines()\n",
        "        class_labels = []\n",
        "        bboxes = []\n",
        "\n",
        "        for line in lines:\n",
        "            data = line.split(' ')\n",
        "            class_label = int(data[0])  # Assuming the class label is an integer\n",
        "            x_min = float(data[1])\n",
        "            y_min = float(data[2])\n",
        "            x_max = float(data[3])\n",
        "            y_max = float(data[4])\n",
        "            class_labels.append(class_label)\n",
        "            bboxes.append([x_min, y_min, x_max, y_max])\n",
        "\n",
        "        return {'bboxes': bboxes, 'class_labels': class_labels}\n",
        "\n",
        "# Apply transformations to the images and save the transformed images with corresponding labels\n",
        "def apply_transformations_and_save(image_folder, label_folder, transform, transformation_name):\n",
        "    transformed_image_folder = os.path.join(image_folder, f\"transformed_{transformation_name}_images\")\n",
        "    transformed_label_folder = os.path.join(label_folder, f\"transformed_{transformation_name}_labels\")\n",
        "    os.makedirs(transformed_image_folder, exist_ok=True)\n",
        "    os.makedirs(transformed_label_folder, exist_ok=True)\n",
        "\n",
        "    for image_name in os.listdir(image_folder):\n",
        "        if image_name.endswith(('.jpeg','.JPEG')):\n",
        "            image_path = os.path.join(image_folder, image_name)\n",
        "            label_path = os.path.join(label_folder, os.path.splitext(image_name)[0] + '.txt')\n",
        "\n",
        "            if not os.path.exists(label_path):\n",
        "                print(f\"No label file found for image {image_name}. Skipping transformation.\")\n",
        "                continue\n",
        "\n",
        "            # Check if transformed image already exists, then skip the transformatin\n",
        "            transformed_image_path = os.path.join(transformed_image_folder, f\"{transformation_name}\" + image_name)\n",
        "            if os.path.exists(transformed_image_path):\n",
        "                print(f\"Transformed image already exists for {image_name}. Skipping transformation.\")\n",
        "                continue\n",
        "\n",
        "            original_image = cv2.imread(image_path)\n",
        "            original_image = cv2.cvtColor(original_image, cv2.COLOR_BGR2RGB)\n",
        "            #print('label_path ', label_path)\n",
        "            original_label = load_label_function(label_path)\n",
        "            #print('original_label ', original_label)\n",
        "\n",
        "            # Normalize bounding box coordinates to the range [0.0, 1.0]\n",
        "            normalized_bboxes = []\n",
        "            for bbox in original_label['bboxes']:\n",
        "                x_min = max(min(bbox[0], 1.0), 0.0)  # x_min\n",
        "                y_min = max(min(bbox[1], 1.0), 0.0)  # y_min\n",
        "                x_max = max(min(bbox[2], 1.0), 0.0)  # x_max\n",
        "                y_max = max(min(bbox[3], 1.0), 0.0)  # y_max\n",
        "                normalized_bboxes.append([x_min, y_min, x_max, y_max])\n",
        "\n",
        "            original_label['bboxes'] = normalized_bboxes\n",
        "\n",
        "            print('original_label - ', original_label)\n",
        "            #print('image_name - ', image_name)\n",
        "            try:\n",
        "              transformed = transform(image=original_image, bboxes=original_label['bboxes'], Classes=original_label['class_labels'])\n",
        "              transformed_image = transformed['image']\n",
        "              transformed_bboxes = transformed['bboxes']\n",
        "              print('transformed_bboxes - ' , transformed_bboxes)\n",
        "              transformed_class_labels = transformed['Classes']\n",
        "\n",
        "              # Save the transformed image\n",
        "              transformed_image_path = os.path.join(transformed_image_path)\n",
        "              cv2.imwrite(transformed_image_path, cv2.cvtColor(transformed_image, cv2.COLOR_RGB2BGR))\n",
        "\n",
        "              # Save the corresponding label as a txt file\n",
        "              transformed_label_name = os.path.splitext(image_name)[0] + '.txt'\n",
        "              transformed_label_path = os.path.join(transformed_label_folder, f\"{transformation_name}\" + f\"{transformed_label_name}\")\n",
        "              if os.path.exists(transformed_label_path):\n",
        "                print(f\"Transformed label already exists for {transformed_label_name}. Skipping transformation.\")\n",
        "                continue\n",
        "              else:\n",
        "                with open(transformed_label_path, 'w') as file:\n",
        "                    for i in range(len(transformed_bboxes)):\n",
        "                        bbox = transformed_bboxes[i]\n",
        "                        class_label = transformed_class_labels[i]\n",
        "                        file.write(f\"{class_label} {bbox[0]} {bbox[1]} {bbox[2]} {bbox[3]}\\n\")\n",
        "            except ValueError as e:\n",
        "                  print(f\"Error processing image {image_name}: {e}. Skipping transformation.\")\n",
        "                  continue"
      ],
      "metadata": {
        "id": "KtoeD8qm7qz1"
      },
      "execution_count": null,
      "outputs": []
    },
    {
      "cell_type": "code",
      "source": [
        "transform = A.Compose([\n",
        "        #A.RandomCrop(width=150, height=150),\n",
        "        A.HorizontalFlip(p=0.5),\n",
        "        A.RandomBrightnessContrast(p=0.2),\n",
        "    ], bbox_params=A.BboxParams(format='yolo', label_fields=['Classes']))\n",
        "\n",
        "# Example usage\n",
        "apply_transformations_and_save(image_folder, label_folder, transform, 'HorizontalFlip_')"
      ],
      "metadata": {
        "colab": {
          "base_uri": "https://localhost:8080/"
        },
        "id": "JO4yublAFuLV",
        "outputId": "1ca9b625-ad04-436f-affa-063caae92ef5"
      },
      "execution_count": null,
      "outputs": [
        {
          "output_type": "stream",
          "name": "stdout",
          "text": [
            "original_label -  {'bboxes': [[0.632172, 0.430851, 0.563521, 0.249255], [0.56294, 0.573511, 0.272772, 0.252234], [0.603633, 0.797979, 0.368989, 0.307766]], 'class_labels': [6, 10, 0]}\n",
            "transformed_bboxes -  [(0.36782800000000004, 0.430851, 0.5635210000000002, 0.249255), (0.43706, 0.5735109999999999, 0.272772, 0.25223399999999996), (0.396367, 0.797979, 0.368989, 0.307766)]\n",
            "original_label -  {'bboxes': [[0.864402, 0.696701, 0.18332, 0.165155], [0.691776, 0.409897, 0.533127, 0.270309]], 'class_labels': [0, 6]}\n",
            "transformed_bboxes -  [(0.8644020000000001, 0.696701, 0.18332000000000004, 0.16515499999999994), (0.691776, 0.409897, 0.5331269999999999, 0.270309)]\n",
            "original_label -  {'bboxes': [[0.42917, 0.412887, 0.203591, 0.138144], [0.505077, 0.285284, 0.546602, 0.150155], [0.315, 0.457964, 0.202432, 0.31232]], 'class_labels': [10, 6, 3]}\n",
            "transformed_bboxes -  [(0.42917, 0.412887, 0.20359099999999997, 0.138144), (0.505077, 0.285284, 0.546602, 0.15015500000000004), (0.315, 0.4579639999999999, 0.20243200000000003, 0.31231999999999993)]\n",
            "original_label -  {'bboxes': [[0.354942, 0.444433, 0.549961, 0.279278], [0.170483, 0.676418, 0.244054, 0.370876]], 'class_labels': [6, 0]}\n",
            "transformed_bboxes -  [(0.354942, 0.444433, 0.5499609999999999, 0.279278), (0.170483, 0.676418, 0.244054, 0.370876)]\n",
            "original_label -  {'bboxes': [[0.602683, 0.26951, 0.794633, 0.480464]], 'class_labels': [6]}\n",
            "transformed_bboxes -  [(0.39731700000000003, 0.26951, 0.7946329999999999, 0.480464)]\n",
            "original_label -  {'bboxes': [[0.346486, 0.409149, 0.679305, 0.442938], [0.453919, 0.658402, 0.311544, 0.17268], [0.678764, 0.468557, 0.250965, 0.414433]], 'class_labels': [6, 10, 3]}\n",
            "transformed_bboxes -  [(0.34648599999999996, 0.409149, 0.679305, 0.44293800000000005), (0.453919, 0.658402, 0.31154399999999993, 0.17267999999999994), (0.6787639999999999, 0.468557, 0.250965, 0.41443300000000005)]\n",
            "original_label -  {'bboxes': [[0.556506, 0.449974, 0.498031, 0.147371]], 'class_labels': [4]}\n",
            "transformed_bboxes -  [(0.556506, 0.449974, 0.49803100000000006, 0.14737099999999997)]\n",
            "original_label -  {'bboxes': [[0.500656, 0.259639, 0.990811, 0.471959]], 'class_labels': [4]}\n",
            "transformed_bboxes -  [(0.500656, 0.259639, 0.9908109999999999, 0.471959)]\n",
            "original_label -  {'bboxes': [[0.478945, 0.514973, 0.907127, 0.931585]], 'class_labels': [8]}\n",
            "transformed_bboxes -  [(0.521055, 0.514973, 0.907127, 0.9315849999999999)]\n",
            "original_label -  {'bboxes': [[0.161486, 0.805541, 0.317181, 0.384381], [0.271699, 0.478969, 0.542085, 0.358866]], 'class_labels': [0, 6]}\n",
            "transformed_bboxes -  [(0.838514, 0.8055409999999998, 0.31718100000000005, 0.384381), (0.728301, 0.478969, 0.5420849999999999, 0.35886599999999996)]\n",
            "original_label -  {'bboxes': [[0.271139, 0.735722, 0.492625, 0.207216], [0.067027, 0.661392, 0.109112, 0.121649], [0.391506, 0.659149, 0.157452, 0.114072], [0.297008, 0.551778, 0.499344, 0.208711]], 'class_labels': [0, 10, 10, 6]}\n",
            "transformed_bboxes -  [(0.728861, 0.735722, 0.49262499999999987, 0.20721599999999996), (0.932973, 0.661392, 0.10911199999999999, 0.12164900000000001), (0.608494, 0.659149, 0.15745199999999993, 0.11407200000000006), (0.702992, 0.551778, 0.499344, 0.20871100000000004)]\n",
            "original_label -  {'bboxes': [[0.622193, 0.497686, 0.350409, 0.409947], [0.345725, 0.379069, 0.343123, 0.226755], [0.469033, 0.21766, 0.522602, 0.189149]], 'class_labels': [0, 3, 6]}\n",
            "transformed_bboxes -  [(0.377807, 0.497686, 0.35040899999999997, 0.40994699999999995), (0.6542749999999999, 0.379069, 0.34312299999999996, 0.22675500000000004), (0.530967, 0.21765999999999996, 0.522602, 0.18914899999999998)]\n",
            "original_label -  {'bboxes': [[0.552036, 0.451931, 0.87201, 0.306332]], 'class_labels': [6]}\n",
            "transformed_bboxes -  [(0.552036, 0.451931, 0.87201, 0.30633199999999994)]\n",
            "original_label -  {'bboxes': [[0.494721, 0.336417, 0.793309, 0.465455], [0.507862, 0.747834, 0.971784, 0.33631], [0.076171, 0.398743, 0.152342, 0.427968], [0.730186, 0.599947, 0.241115, 0.19369], [0.0971, 0.526364, 0.194201, 0.202674]], 'class_labels': [6, 0, 3, 10, 10]}\n",
            "Error processing image 0422.JPEG: Expected x_min for bbox (-5.000000000005e-07, 0.42502700000000004, 0.1942005, 0.6277010000000001, 10) to be in the range [0.0, 1.0], got -5.000000000005e-07.. Skipping transformation.\n",
            "original_label -  {'bboxes': [[0.437819, 0.38059, 0.644363, 0.319846]], 'class_labels': [6]}\n",
            "transformed_bboxes -  [(0.43781900000000007, 0.38059, 0.644363, 0.3198460000000001)]\n",
            "original_label -  {'bboxes': [[0.117824, 0.592403, 0.197593, 0.147124], [0.547014, 0.680236, 0.30125, 0.124592], [0.500856, 0.536094, 0.892454, 0.367897]], 'class_labels': [10, 10, 6]}\n",
            "transformed_bboxes -  [(0.117824, 0.592403, 0.197593, 0.14712400000000003), (0.547014, 0.680236, 0.30125, 0.12459200000000004), (0.500856, 0.536094, 0.8924539999999999, 0.3678969999999999)]\n",
            "original_label -  {'bboxes': [[0.478881, 0.216144, 0.515075, 0.226755], [0.270877, 0.629069, 0.162201, 0.403883], [0.470466, 0.415851, 0.458172, 0.226702], [0.335112, 0.45266, 0.166418, 0.210213]], 'class_labels': [6, 0, 3, 10]}\n",
            "transformed_bboxes -  [(0.478881, 0.216144, 0.515075, 0.22675500000000004), (0.2708769999999999, 0.629069, 0.16220099999999998, 0.403883), (0.47046599999999994, 0.4158510000000001, 0.45817199999999997, 0.22670200000000001), (0.33511199999999997, 0.45266000000000006, 0.166418, 0.21021300000000004)]\n",
            "original_label -  {'bboxes': [[0.232336, 0.710206, 0.417259, 0.32134], [0.279595, 0.430902, 0.491467, 0.315309]], 'class_labels': [0, 6]}\n",
            "transformed_bboxes -  [(0.232336, 0.710206, 0.41725900000000005, 0.32133999999999996), (0.279595, 0.43090199999999995, 0.491467, 0.31530899999999995)]\n",
            "original_label -  {'bboxes': [[0.255351, 0.444375, 0.385552, 0.441488], [0.497893, 0.270208, 0.995518, 0.53756]], 'class_labels': [10, 6]}\n",
            "transformed_bboxes -  [(0.744649, 0.444375, 0.3855519999999999, 0.441488), (0.5021070000000001, 0.270208, 0.995518, 0.53756)]\n",
            "original_label -  {'bboxes': [[0.631042, 0.478969, 0.412741, 0.253711], [0.565251, 0.562294, 0.170965, 0.243247], [0.855405, 0.496985, 0.071969, 0.16067]], 'class_labels': [6, 10, 10]}\n",
            "transformed_bboxes -  [(0.368958, 0.478969, 0.412741, 0.253711), (0.43474900000000005, 0.562294, 0.17096500000000003, 0.243247), (0.14459499999999997, 0.496985, 0.07196900000000006, 0.16067000000000004)]\n",
            "original_label -  {'bboxes': [[0.51249, 0.395619, 0.967143, 0.378969]], 'class_labels': [4]}\n",
            "transformed_bboxes -  [(0.48751, 0.395619, 0.9671429999999999, 0.378969)]\n",
            "original_label -  {'bboxes': [[0.523958, 0.220696, 0.952085, 0.391907], [0.102452, 0.325799, 0.192317, 0.533041]], 'class_labels': [6, 0]}\n",
            "transformed_bboxes -  [(0.47604225, 0.220696, 0.9520845, 0.391907), (0.897548, 0.325799, 0.19231700000000007, 0.533041)]\n",
            "original_label -  {'bboxes': [[0.500467, 0.505298, 0.9972, 0.987738]], 'class_labels': [4]}\n",
            "transformed_bboxes -  [(0.499533, 0.505298, 0.9971999999999999, 0.987738)]\n",
            "original_label -  {'bboxes': [[0.311259, 0.245526, 0.601692, 0.210211], [0.348778, 0.391921, 0.191992, 0.172684], [0.763853, 0.852868, 0.318534, 0.142684], [0.406184, 0.623158, 0.48906, 0.289789], [0.137124, 0.372368, 0.274248, 0.232737]], 'class_labels': [6, 10, 10, 0, 3]}\n",
            "transformed_bboxes -  [(0.688741, 0.245526, 0.601692, 0.21021099999999998), (0.651222, 0.3919210000000001, 0.19199200000000005, 0.172684), (0.23614699999999994, 0.852868, 0.318534, 0.14268400000000003), (0.593816, 0.623158, 0.48906000000000005, 0.2897890000000001), (0.862876, 0.37236800000000003, 0.27424800000000005, 0.23273700000000003)]\n",
            "original_label -  {'bboxes': [[0.740683, 0.30003, 0.357633, 0.398274], [0.397817, 0.314077, 0.400833, 0.436845]], 'class_labels': [8, 8]}\n",
            "transformed_bboxes -  [(0.25931699999999996, 0.30003, 0.357633, 0.398274), (0.602183, 0.314077, 0.400833, 0.43684500000000004)]\n",
            "original_label -  {'bboxes': [[0.641178, 0.560773, 0.383514, 0.348351], [0.95888, 0.342345, 0.074208, 0.142629], [0.721023, 0.359588, 0.520734, 0.258247]], 'class_labels': [10, 10, 6]}\n",
            "transformed_bboxes -  [(0.358822, 0.560773, 0.3835139999999999, 0.3483510000000001), (0.041120000000000045, 0.342345, 0.07420800000000005, 0.142629), (0.27897700000000003, 0.359588, 0.520734, 0.258247)]\n",
            "original_label -  {'bboxes': [[0.577066, 0.421907, 0.32278, 0.193711], [0.629363, 0.638866, 0.256409, 0.378351]], 'class_labels': [6, 5]}\n",
            "transformed_bboxes -  [(0.42293400000000003, 0.42190700000000003, 0.32278000000000007, 0.19371100000000002), (0.37063699999999994, 0.638866, 0.256409, 0.37835100000000005)]\n",
            "original_label -  {'bboxes': [[0.738436, 0.60884, 0.305907, 0.270258], [0.551197, 0.239485, 0.846873, 0.462474]], 'class_labels': [10, 6]}\n",
            "transformed_bboxes -  [(0.26156399999999996, 0.60884, 0.30590700000000004, 0.27025800000000005), (0.44880299999999995, 0.239485, 0.846873, 0.46247399999999994)]\n",
            "original_label -  {'bboxes': [[0.49722, 0.271753, 0.774903, 0.421959]], 'class_labels': [6]}\n",
            "transformed_bboxes -  [(0.49722, 0.271753, 0.7749030000000001, 0.421959)]\n",
            "original_label -  {'bboxes': [[0.084089, 0.623111, 0.168178, 0.237244], [0.469222, 0.436933, 0.938444, 0.321333], [0.8994, 0.564556, 0.2012, 0.255244]], 'class_labels': [3, 6, 3]}\n",
            "transformed_bboxes -  [(0.915911, 0.623111, 0.16817799999999994, 0.237244), (0.530778, 0.436933, 0.938444, 0.32133300000000004), (0.10060000000000002, 0.564556, 0.20120000000000005, 0.255244)]\n",
            "original_label -  {'bboxes': [[0.5492, 0.184613, 0.8728, 0.331845], [0.143083, 0.545714, 0.227033, 0.372381]], 'class_labels': [6, 3]}\n",
            "transformed_bboxes -  [(0.5492, 0.184613, 0.8728, 0.331845), (0.143083, 0.545714, 0.22703299999999998, 0.37238099999999996)]\n",
            "original_label -  {'bboxes': [[0.396564, 0.340851, 0.593822, 0.208711]], 'class_labels': [6]}\n",
            "transformed_bboxes -  [(0.603436, 0.340851, 0.5938220000000001, 0.20871100000000004)]\n",
            "original_label -  {'bboxes': [[0.442865, 0.479716, 0.341731, 0.165206], [0.493288, 0.325052, 0.520962, 0.303299]], 'class_labels': [3, 6]}\n",
            "transformed_bboxes -  [(0.557135, 0.47971600000000003, 0.341731, 0.16520600000000002), (0.506712, 0.325052, 0.520962, 0.303299)]\n",
            "original_label -  {'bboxes': [[0.081641, 0.673428, 0.110232, 0.129124], [0.398803, 0.665902, 0.159691, 0.108093], [0.227278, 0.722964, 0.239575, 0.192216], [0.299826, 0.550284, 0.506139, 0.195206]], 'class_labels': [10, 10, 0, 6]}\n",
            "transformed_bboxes -  [(0.9183589999999999, 0.673428, 0.110232, 0.12912400000000002), (0.601197, 0.665902, 0.15969100000000003, 0.108093), (0.7727219999999999, 0.722964, 0.23957499999999998, 0.19221599999999994), (0.7001740000000001, 0.550284, 0.506139, 0.195206)]\n",
            "original_label -  {'bboxes': [[0.578185, 0.460954, 0.697297, 0.330361]], 'class_labels': [6]}\n",
            "transformed_bboxes -  [(0.578185, 0.460954, 0.6972969999999998, 0.33036100000000007)]\n",
            "original_label -  {'bboxes': [[0.405, 0.648571, 0.258133, 0.286786], [0.468483, 0.34753, 0.4339, 0.282321], [0.260367, 0.433125, 0.079867, 0.144107], [0.566017, 0.499911, 0.147967, 0.160655]], 'class_labels': [0, 6, 10, 10]}\n",
            "transformed_bboxes -  [(0.595, 0.648571, 0.25813299999999995, 0.286786), (0.531517, 0.34753, 0.43389999999999995, 0.28232100000000004), (0.739633, 0.433125, 0.07986700000000002, 0.14410699999999999), (0.433983, 0.499911, 0.14796699999999996, 0.160655)]\n",
            "original_label -  {'bboxes': [[0.49834, 0.194433, 0.813127, 0.372371]], 'class_labels': [6]}\n",
            "transformed_bboxes -  [(0.50166, 0.19443299999999997, 0.8131270000000002, 0.372371)]\n",
            "original_label -  {'bboxes': [[0.555996, 0.322778, 0.561165, 0.114127]], 'class_labels': [6]}\n",
            "transformed_bboxes -  [(0.44400399999999995, 0.322778, 0.5611650000000001, 0.11412700000000003)]\n",
            "original_label -  {'bboxes': [[0.343755, 0.614093, 0.681588, 0.771813], [0.349982, 0.616786, 0.676643, 0.76489]], 'class_labels': [7, 4]}\n",
            "transformed_bboxes -  [(0.343755, 0.614093, 0.681588, 0.7718129999999999), (0.349982, 0.616786, 0.6766429999999999, 0.7648900000000001)]\n",
            "original_label -  {'bboxes': [[0.58026, 0.340771, 0.564535, 0.357394]], 'class_labels': [6]}\n",
            "transformed_bboxes -  [(0.58026, 0.34077100000000005, 0.564535, 0.35739400000000004)]\n",
            "original_label -  {'bboxes': [[0.515251, 0.330282, 0.888571, 0.259744]], 'class_labels': [6]}\n",
            "transformed_bboxes -  [(0.484749, 0.330282, 0.888571, 0.259744)]\n",
            "original_label -  {'bboxes': [[0.500579, 0.52701, 0.362162, 0.279278], [0.618108, 0.376856, 0.73668, 0.468454]], 'class_labels': [10, 6]}\n",
            "transformed_bboxes -  [(0.500579, 0.52701, 0.36216199999999993, 0.2792780000000001), (0.618108, 0.376856, 0.73668, 0.46845400000000004)]\n",
            "original_label -  {'bboxes': [[0.654745, 0.552554, 0.155255, 0.190543], [0.457628, 0.39856, 0.422482, 0.165163]], 'class_labels': [0, 6]}\n",
            "transformed_bboxes -  [(0.6547450000000001, 0.552554, 0.15525500000000003, 0.19054299999999996), (0.4576279999999999, 0.39856, 0.42248199999999997, 0.165163)]\n",
            "original_label -  {'bboxes': [[0.503398, 0.408376, 0.760309, 0.629124]], 'class_labels': [6]}\n",
            "transformed_bboxes -  [(0.496602, 0.4083760000000001, 0.7603089999999999, 0.629124)]\n",
            "original_label -  {'bboxes': [[0.484247, 0.200876, 0.59529, 0.315773], [0.479208, 0.218454, 0.552239, 0.400928]], 'class_labels': [4, 7]}\n",
            "transformed_bboxes -  [(0.515753, 0.200876, 0.5952900000000001, 0.31577299999999997), (0.5207919999999999, 0.218454, 0.552239, 0.400928)]\n",
            "original_label -  {'bboxes': [[0.516892, 0.306289, 0.832239, 0.417423], [0.505849, 0.310825, 0.922355, 0.370619]], 'class_labels': [7, 4]}\n",
            "transformed_bboxes -  [(0.483108, 0.306289, 0.832239, 0.417423), (0.494151, 0.310825, 0.922355, 0.37061900000000003)]\n",
            "original_label -  {'bboxes': [[0.50722, 0.500839, 0.968307, 0.622795], [0.520112, 0.512795, 0.93607, 0.58559]], 'class_labels': [4, 7]}\n",
            "transformed_bboxes -  [(0.50722, 0.500839, 0.968307, 0.622795), (0.520112, 0.512795, 0.93607, 0.58559)]\n",
            "original_label -  {'bboxes': [[0.469533, 0.49128, 0.927467, 0.903512], [0.4895, 0.48497, 0.927467, 0.903512]], 'class_labels': [4, 7]}\n",
            "transformed_bboxes -  [(0.530467, 0.49128, 0.927467, 0.903512), (0.5105, 0.48497, 0.927467, 0.9035119999999999)]\n",
            "original_label -  {'bboxes': [[0.7157, 0.492113, 0.5686, 0.635298], [0.228767, 0.493929, 0.457533, 0.576548]], 'class_labels': [4, 8]}\n",
            "transformed_bboxes -  [(0.7157, 0.492113, 0.5686, 0.6352980000000001), (0.228767, 0.493929, 0.4575330000000001, 0.576548)]\n",
            "original_label -  {'bboxes': [[0.461776, 0.414381, 0.5061, 0.231237], [0.456641, 0.414923, 0.511197, 0.164897]], 'class_labels': [7, 4]}\n",
            "transformed_bboxes -  [(0.46177599999999996, 0.414381, 0.5061, 0.23123699999999997), (0.456641, 0.414923, 0.511197, 0.16489699999999996)]\n",
            "original_label -  {'bboxes': [[0.501718, 0.506753, 0.977336, 0.962474], [0.501988, 0.510077, 0.990849, 0.979845]], 'class_labels': [7, 4]}\n",
            "transformed_bboxes -  [(0.498282, 0.506753, 0.977336, 0.962474), (0.498012, 0.510077, 0.9908490000000001, 0.9798449999999999)]\n",
            "original_label -  {'bboxes': [[0.405982, 0.532541, 0.803236, 0.928033]], 'class_labels': [4]}\n",
            "transformed_bboxes -  [(0.405982, 0.532541, 0.803236, 0.9280329999999999)]\n",
            "original_label -  {'bboxes': [[0.494749, 0.289459, 0.608417, 0.240361]], 'class_labels': [4]}\n",
            "transformed_bboxes -  [(0.505251, 0.289459, 0.608417, 0.24036100000000002)]\n",
            "original_label -  {'bboxes': [[0.55913, 0.342113, 0.710702, 0.622798], [0.556104, 0.31372, 0.675753, 0.606607]], 'class_labels': [4, 7]}\n",
            "transformed_bboxes -  [(0.55913, 0.342113, 0.710702, 0.622798), (0.556104, 0.31372, 0.675753, 0.6066069999999999)]\n"
          ]
        }
      ]
    },
    {
      "cell_type": "code",
      "source": [
        "transform = A.Compose([\n",
        "        #A.RandomCrop(width=150, height=150),\n",
        "        A.VerticalFlip(p=0.5),\n",
        "        A.RandomBrightnessContrast(p=0.2),\n",
        "    ], bbox_params=A.BboxParams(format='yolo', label_fields=['Classes']))\n",
        "\n",
        "# Example usage\n",
        "apply_transformations_and_save(image_folder, label_folder, transform, 'VerticalFlip_')"
      ],
      "metadata": {
        "colab": {
          "base_uri": "https://localhost:8080/"
        },
        "id": "BDmyfBgNImIo",
        "outputId": "546ff307-d4b3-423a-e8b7-f8b0d3b02c12"
      },
      "execution_count": null,
      "outputs": [
        {
          "output_type": "stream",
          "name": "stdout",
          "text": [
            "original_label -  {'bboxes': [[0.632172, 0.430851, 0.563521, 0.249255], [0.56294, 0.573511, 0.272772, 0.252234], [0.603633, 0.797979, 0.368989, 0.307766]], 'class_labels': [6, 10, 0]}\n",
            "transformed_bboxes -  [(0.632172, 0.430851, 0.5635210000000002, 0.249255), (0.56294, 0.5735109999999999, 0.272772, 0.25223399999999996), (0.603633, 0.797979, 0.368989, 0.307766)]\n",
            "original_label -  {'bboxes': [[0.864402, 0.696701, 0.18332, 0.165155], [0.691776, 0.409897, 0.533127, 0.270309]], 'class_labels': [0, 6]}\n",
            "transformed_bboxes -  [(0.8644020000000001, 0.696701, 0.18332000000000004, 0.16515499999999994), (0.691776, 0.409897, 0.5331269999999999, 0.270309)]\n",
            "original_label -  {'bboxes': [[0.42917, 0.412887, 0.203591, 0.138144], [0.505077, 0.285284, 0.546602, 0.150155], [0.315, 0.457964, 0.202432, 0.31232]], 'class_labels': [10, 6, 3]}\n",
            "transformed_bboxes -  [(0.42917, 0.587113, 0.20359099999999997, 0.13814400000000004), (0.505077, 0.714716, 0.546602, 0.15015500000000004), (0.315, 0.5420360000000001, 0.20243200000000003, 0.31231999999999993)]\n",
            "original_label -  {'bboxes': [[0.354942, 0.444433, 0.549961, 0.279278], [0.170483, 0.676418, 0.244054, 0.370876]], 'class_labels': [6, 0]}\n",
            "transformed_bboxes -  [(0.354942, 0.444433, 0.5499609999999999, 0.279278), (0.170483, 0.676418, 0.244054, 0.370876)]\n",
            "original_label -  {'bboxes': [[0.602683, 0.26951, 0.794633, 0.480464]], 'class_labels': [6]}\n",
            "transformed_bboxes -  [(0.602683, 0.26951, 0.7946329999999999, 0.480464)]\n",
            "original_label -  {'bboxes': [[0.346486, 0.409149, 0.679305, 0.442938], [0.453919, 0.658402, 0.311544, 0.17268], [0.678764, 0.468557, 0.250965, 0.414433]], 'class_labels': [6, 10, 3]}\n",
            "transformed_bboxes -  [(0.34648599999999996, 0.590851, 0.679305, 0.44293800000000005), (0.453919, 0.34159799999999996, 0.31154399999999993, 0.17267999999999994), (0.6787639999999999, 0.531443, 0.250965, 0.41443300000000005)]\n",
            "original_label -  {'bboxes': [[0.556506, 0.449974, 0.498031, 0.147371]], 'class_labels': [4]}\n",
            "transformed_bboxes -  [(0.556506, 0.550026, 0.49803100000000006, 0.14737099999999992)]\n",
            "original_label -  {'bboxes': [[0.500656, 0.259639, 0.990811, 0.471959]], 'class_labels': [4]}\n",
            "transformed_bboxes -  [(0.500656, 0.259639, 0.9908109999999999, 0.471959)]\n",
            "original_label -  {'bboxes': [[0.478945, 0.514973, 0.907127, 0.931585]], 'class_labels': [8]}\n",
            "transformed_bboxes -  [(0.47894499999999995, 0.514973, 0.907127, 0.9315849999999999)]\n",
            "original_label -  {'bboxes': [[0.161486, 0.805541, 0.317181, 0.384381], [0.271699, 0.478969, 0.542085, 0.358866]], 'class_labels': [0, 6]}\n",
            "transformed_bboxes -  [(0.161486, 0.1944590000000001, 0.317181, 0.384381), (0.271699, 0.521031, 0.5420849999999999, 0.3588659999999999)]\n",
            "original_label -  {'bboxes': [[0.271139, 0.735722, 0.492625, 0.207216], [0.067027, 0.661392, 0.109112, 0.121649], [0.391506, 0.659149, 0.157452, 0.114072], [0.297008, 0.551778, 0.499344, 0.208711]], 'class_labels': [0, 10, 10, 6]}\n",
            "transformed_bboxes -  [(0.271139, 0.735722, 0.4926249999999999, 0.20721599999999996), (0.067027, 0.661392, 0.10911199999999999, 0.12164900000000001), (0.391506, 0.659149, 0.15745199999999998, 0.11407200000000006), (0.29700800000000005, 0.551778, 0.49934400000000007, 0.20871100000000004)]\n",
            "original_label -  {'bboxes': [[0.622193, 0.497686, 0.350409, 0.409947], [0.345725, 0.379069, 0.343123, 0.226755], [0.469033, 0.21766, 0.522602, 0.189149]], 'class_labels': [0, 3, 6]}\n",
            "transformed_bboxes -  [(0.622193, 0.5023139999999999, 0.35040899999999997, 0.40994699999999995), (0.345725, 0.620931, 0.34312299999999996, 0.22675500000000004), (0.46903300000000003, 0.78234, 0.522602, 0.189149)]\n",
            "original_label -  {'bboxes': [[0.552036, 0.451931, 0.87201, 0.306332]], 'class_labels': [6]}\n",
            "transformed_bboxes -  [(0.552036, 0.5480689999999999, 0.87201, 0.30633199999999994)]\n",
            "original_label -  {'bboxes': [[0.494721, 0.336417, 0.793309, 0.465455], [0.507862, 0.747834, 0.971784, 0.33631], [0.076171, 0.398743, 0.152342, 0.427968], [0.730186, 0.599947, 0.241115, 0.19369], [0.0971, 0.526364, 0.194201, 0.202674]], 'class_labels': [6, 0, 3, 10, 10]}\n",
            "Error processing image 0422.JPEG: Expected x_min for bbox (-5.000000000005e-07, 0.42502700000000004, 0.1942005, 0.6277010000000001, 10) to be in the range [0.0, 1.0], got -5.000000000005e-07.. Skipping transformation.\n",
            "original_label -  {'bboxes': [[0.437819, 0.38059, 0.644363, 0.319846]], 'class_labels': [6]}\n",
            "transformed_bboxes -  [(0.43781900000000007, 0.61941, 0.644363, 0.3198460000000001)]\n",
            "original_label -  {'bboxes': [[0.117824, 0.592403, 0.197593, 0.147124], [0.547014, 0.680236, 0.30125, 0.124592], [0.500856, 0.536094, 0.892454, 0.367897]], 'class_labels': [10, 10, 6]}\n",
            "transformed_bboxes -  [(0.117824, 0.592403, 0.197593, 0.14712400000000003), (0.547014, 0.680236, 0.30125, 0.12459200000000004), (0.500856, 0.536094, 0.8924539999999999, 0.3678969999999999)]\n",
            "original_label -  {'bboxes': [[0.478881, 0.216144, 0.515075, 0.226755], [0.270877, 0.629069, 0.162201, 0.403883], [0.470466, 0.415851, 0.458172, 0.226702], [0.335112, 0.45266, 0.166418, 0.210213]], 'class_labels': [6, 0, 3, 10]}\n",
            "transformed_bboxes -  [(0.478881, 0.783856, 0.515075, 0.22675500000000004), (0.2708769999999999, 0.370931, 0.16220099999999998, 0.403883), (0.47046599999999994, 0.584149, 0.45817199999999997, 0.22670200000000007), (0.33511199999999997, 0.5473399999999999, 0.166418, 0.21021299999999998)]\n",
            "original_label -  {'bboxes': [[0.232336, 0.710206, 0.417259, 0.32134], [0.279595, 0.430902, 0.491467, 0.315309]], 'class_labels': [0, 6]}\n",
            "transformed_bboxes -  [(0.232336, 0.710206, 0.41725900000000005, 0.32133999999999996), (0.279595, 0.43090199999999995, 0.491467, 0.31530899999999995)]\n",
            "original_label -  {'bboxes': [[0.255351, 0.444375, 0.385552, 0.441488], [0.497893, 0.270208, 0.995518, 0.53756]], 'class_labels': [10, 6]}\n",
            "transformed_bboxes -  [(0.255351, 0.555625, 0.385552, 0.441488), (0.497893, 0.729792, 0.995518, 0.53756)]\n",
            "original_label -  {'bboxes': [[0.631042, 0.478969, 0.412741, 0.253711], [0.565251, 0.562294, 0.170965, 0.243247], [0.855405, 0.496985, 0.071969, 0.16067]], 'class_labels': [6, 10, 10]}\n",
            "transformed_bboxes -  [(0.631042, 0.478969, 0.412741, 0.253711), (0.565251, 0.562294, 0.17096500000000003, 0.243247), (0.855405, 0.496985, 0.07196900000000006, 0.16067000000000004)]\n",
            "original_label -  {'bboxes': [[0.51249, 0.395619, 0.967143, 0.378969]], 'class_labels': [4]}\n",
            "transformed_bboxes -  [(0.51249, 0.6043810000000001, 0.9671429999999999, 0.378969)]\n",
            "original_label -  {'bboxes': [[0.523958, 0.220696, 0.952085, 0.391907], [0.102452, 0.325799, 0.192317, 0.533041]], 'class_labels': [6, 0]}\n",
            "transformed_bboxes -  [(0.52395775, 0.220696, 0.9520845, 0.391907), (0.102452, 0.325799, 0.192317, 0.533041)]\n",
            "original_label -  {'bboxes': [[0.500467, 0.505298, 0.9972, 0.987738]], 'class_labels': [4]}\n",
            "transformed_bboxes -  [(0.500467, 0.494702, 0.9971999999999999, 0.987738)]\n",
            "original_label -  {'bboxes': [[0.311259, 0.245526, 0.601692, 0.210211], [0.348778, 0.391921, 0.191992, 0.172684], [0.763853, 0.852868, 0.318534, 0.142684], [0.406184, 0.623158, 0.48906, 0.289789], [0.137124, 0.372368, 0.274248, 0.232737]], 'class_labels': [6, 10, 10, 0, 3]}\n",
            "transformed_bboxes -  [(0.311259, 0.245526, 0.601692, 0.21021099999999998), (0.3487779999999999, 0.3919210000000001, 0.191992, 0.172684), (0.7638530000000001, 0.852868, 0.318534, 0.14268400000000003), (0.406184, 0.623158, 0.48906000000000005, 0.2897890000000001), (0.137124, 0.37236800000000003, 0.274248, 0.23273700000000003)]\n",
            "original_label -  {'bboxes': [[0.740683, 0.30003, 0.357633, 0.398274], [0.397817, 0.314077, 0.400833, 0.436845]], 'class_labels': [8, 8]}\n",
            "transformed_bboxes -  [(0.740683, 0.30003, 0.357633, 0.398274), (0.397817, 0.314077, 0.400833, 0.43684500000000004)]\n",
            "original_label -  {'bboxes': [[0.641178, 0.560773, 0.383514, 0.348351], [0.95888, 0.342345, 0.074208, 0.142629], [0.721023, 0.359588, 0.520734, 0.258247]], 'class_labels': [10, 10, 6]}\n",
            "transformed_bboxes -  [(0.641178, 0.560773, 0.38351399999999997, 0.3483510000000001), (0.95888, 0.342345, 0.07420800000000005, 0.142629), (0.721023, 0.359588, 0.520734, 0.258247)]\n",
            "original_label -  {'bboxes': [[0.577066, 0.421907, 0.32278, 0.193711], [0.629363, 0.638866, 0.256409, 0.378351]], 'class_labels': [6, 5]}\n",
            "transformed_bboxes -  [(0.577066, 0.42190700000000003, 0.32278000000000007, 0.19371100000000002), (0.6293630000000001, 0.638866, 0.256409, 0.37835100000000005)]\n",
            "original_label -  {'bboxes': [[0.738436, 0.60884, 0.305907, 0.270258], [0.551197, 0.239485, 0.846873, 0.462474]], 'class_labels': [10, 6]}\n",
            "transformed_bboxes -  [(0.7384360000000001, 0.39115999999999995, 0.30590700000000004, 0.2702580000000001), (0.551197, 0.760515, 0.846873, 0.46247399999999994)]\n",
            "original_label -  {'bboxes': [[0.49722, 0.271753, 0.774903, 0.421959]], 'class_labels': [6]}\n",
            "transformed_bboxes -  [(0.49722, 0.271753, 0.7749030000000001, 0.421959)]\n",
            "original_label -  {'bboxes': [[0.084089, 0.623111, 0.168178, 0.237244], [0.469222, 0.436933, 0.938444, 0.321333], [0.8994, 0.564556, 0.2012, 0.255244]], 'class_labels': [3, 6, 3]}\n",
            "transformed_bboxes -  [(0.084089, 0.37688900000000003, 0.168178, 0.237244), (0.469222, 0.563067, 0.938444, 0.3213330000000001), (0.8994, 0.43544400000000005, 0.20120000000000005, 0.255244)]\n",
            "original_label -  {'bboxes': [[0.5492, 0.184613, 0.8728, 0.331845], [0.143083, 0.545714, 0.227033, 0.372381]], 'class_labels': [6, 3]}\n",
            "transformed_bboxes -  [(0.5492, 0.8153870000000001, 0.8728, 0.33184500000000006), (0.143083, 0.454286, 0.22703299999999998, 0.37238099999999996)]\n",
            "original_label -  {'bboxes': [[0.396564, 0.340851, 0.593822, 0.208711]], 'class_labels': [6]}\n",
            "transformed_bboxes -  [(0.396564, 0.659149, 0.5938220000000001, 0.2087110000000001)]\n",
            "original_label -  {'bboxes': [[0.442865, 0.479716, 0.341731, 0.165206], [0.493288, 0.325052, 0.520962, 0.303299]], 'class_labels': [3, 6]}\n",
            "transformed_bboxes -  [(0.44286499999999995, 0.47971600000000003, 0.34173099999999995, 0.16520600000000002), (0.493288, 0.325052, 0.520962, 0.303299)]\n",
            "original_label -  {'bboxes': [[0.081641, 0.673428, 0.110232, 0.129124], [0.398803, 0.665902, 0.159691, 0.108093], [0.227278, 0.722964, 0.239575, 0.192216], [0.299826, 0.550284, 0.506139, 0.195206]], 'class_labels': [10, 10, 0, 6]}\n",
            "transformed_bboxes -  [(0.08164100000000002, 0.326572, 0.11023200000000001, 0.12912400000000002), (0.398803, 0.334098, 0.15969100000000003, 0.108093), (0.227278, 0.27703599999999995, 0.23957500000000004, 0.19221599999999994), (0.299826, 0.449716, 0.506139, 0.195206)]\n",
            "original_label -  {'bboxes': [[0.578185, 0.460954, 0.697297, 0.330361]], 'class_labels': [6]}\n",
            "transformed_bboxes -  [(0.578185, 0.539046, 0.6972969999999998, 0.3303610000000001)]\n",
            "original_label -  {'bboxes': [[0.405, 0.648571, 0.258133, 0.286786], [0.468483, 0.34753, 0.4339, 0.282321], [0.260367, 0.433125, 0.079867, 0.144107], [0.566017, 0.499911, 0.147967, 0.160655]], 'class_labels': [0, 6, 10, 10]}\n",
            "transformed_bboxes -  [(0.405, 0.648571, 0.25813299999999995, 0.286786), (0.468483, 0.34753, 0.43389999999999995, 0.28232100000000004), (0.260367, 0.433125, 0.07986699999999997, 0.14410699999999999), (0.566017, 0.499911, 0.14796699999999996, 0.160655)]\n",
            "original_label -  {'bboxes': [[0.49834, 0.194433, 0.813127, 0.372371]], 'class_labels': [6]}\n",
            "transformed_bboxes -  [(0.49834, 0.19443299999999997, 0.8131270000000002, 0.372371)]\n",
            "original_label -  {'bboxes': [[0.555996, 0.322778, 0.561165, 0.114127]], 'class_labels': [6]}\n",
            "transformed_bboxes -  [(0.555996, 0.322778, 0.5611650000000001, 0.11412700000000003)]\n",
            "original_label -  {'bboxes': [[0.343755, 0.614093, 0.681588, 0.771813], [0.349982, 0.616786, 0.676643, 0.76489]], 'class_labels': [7, 4]}\n",
            "transformed_bboxes -  [(0.343755, 0.614093, 0.681588, 0.7718129999999999), (0.349982, 0.616786, 0.6766429999999999, 0.7648900000000001)]\n",
            "original_label -  {'bboxes': [[0.58026, 0.340771, 0.564535, 0.357394]], 'class_labels': [6]}\n",
            "transformed_bboxes -  [(0.58026, 0.659229, 0.564535, 0.357394)]\n",
            "original_label -  {'bboxes': [[0.515251, 0.330282, 0.888571, 0.259744]], 'class_labels': [6]}\n",
            "transformed_bboxes -  [(0.515251, 0.669718, 0.888571, 0.259744)]\n",
            "original_label -  {'bboxes': [[0.500579, 0.52701, 0.362162, 0.279278], [0.618108, 0.376856, 0.73668, 0.468454]], 'class_labels': [10, 6]}\n",
            "transformed_bboxes -  [(0.500579, 0.47299, 0.36216199999999993, 0.27927800000000014), (0.618108, 0.6231439999999999, 0.73668, 0.46845400000000004)]\n",
            "original_label -  {'bboxes': [[0.654745, 0.552554, 0.155255, 0.190543], [0.457628, 0.39856, 0.422482, 0.165163]], 'class_labels': [0, 6]}\n",
            "transformed_bboxes -  [(0.6547450000000001, 0.552554, 0.15525500000000003, 0.19054299999999996), (0.4576279999999999, 0.39856, 0.42248199999999997, 0.165163)]\n",
            "original_label -  {'bboxes': [[0.503398, 0.408376, 0.760309, 0.629124]], 'class_labels': [6]}\n",
            "transformed_bboxes -  [(0.503398, 0.4083760000000001, 0.7603089999999999, 0.629124)]\n",
            "original_label -  {'bboxes': [[0.484247, 0.200876, 0.59529, 0.315773], [0.479208, 0.218454, 0.552239, 0.400928]], 'class_labels': [4, 7]}\n",
            "transformed_bboxes -  [(0.484247, 0.200876, 0.5952900000000001, 0.31577299999999997), (0.479208, 0.218454, 0.552239, 0.400928)]\n",
            "original_label -  {'bboxes': [[0.516892, 0.306289, 0.832239, 0.417423], [0.505849, 0.310825, 0.922355, 0.370619]], 'class_labels': [7, 4]}\n",
            "transformed_bboxes -  [(0.516892, 0.693711, 0.832239, 0.417423), (0.505849, 0.689175, 0.922355, 0.37061900000000003)]\n",
            "original_label -  {'bboxes': [[0.50722, 0.500839, 0.968307, 0.622795], [0.520112, 0.512795, 0.93607, 0.58559]], 'class_labels': [4, 7]}\n",
            "transformed_bboxes -  [(0.50722, 0.49916099999999997, 0.968307, 0.622795), (0.520112, 0.487205, 0.93607, 0.58559)]\n",
            "original_label -  {'bboxes': [[0.469533, 0.49128, 0.927467, 0.903512], [0.4895, 0.48497, 0.927467, 0.903512]], 'class_labels': [4, 7]}\n",
            "transformed_bboxes -  [(0.469533, 0.5087200000000001, 0.927467, 0.903512), (0.48950000000000005, 0.51503, 0.927467, 0.9035119999999999)]\n",
            "original_label -  {'bboxes': [[0.7157, 0.492113, 0.5686, 0.635298], [0.228767, 0.493929, 0.457533, 0.576548]], 'class_labels': [4, 8]}\n",
            "transformed_bboxes -  [(0.7157, 0.492113, 0.5686, 0.6352980000000001), (0.228767, 0.493929, 0.4575330000000001, 0.576548)]\n",
            "original_label -  {'bboxes': [[0.461776, 0.414381, 0.5061, 0.231237], [0.456641, 0.414923, 0.511197, 0.164897]], 'class_labels': [7, 4]}\n",
            "transformed_bboxes -  [(0.46177599999999996, 0.414381, 0.5061, 0.23123699999999997), (0.456641, 0.414923, 0.511197, 0.16489699999999996)]\n",
            "original_label -  {'bboxes': [[0.501718, 0.506753, 0.977336, 0.962474], [0.501988, 0.510077, 0.990849, 0.979845]], 'class_labels': [7, 4]}\n",
            "transformed_bboxes -  [(0.501718, 0.493247, 0.977336, 0.962474), (0.501988, 0.489923, 0.9908490000000001, 0.9798449999999999)]\n",
            "original_label -  {'bboxes': [[0.405982, 0.532541, 0.803236, 0.928033]], 'class_labels': [4]}\n",
            "transformed_bboxes -  [(0.405982, 0.46745899999999996, 0.803236, 0.9280329999999999)]\n",
            "original_label -  {'bboxes': [[0.494749, 0.289459, 0.608417, 0.240361]], 'class_labels': [4]}\n",
            "transformed_bboxes -  [(0.494749, 0.289459, 0.608417, 0.24036100000000002)]\n",
            "original_label -  {'bboxes': [[0.55913, 0.342113, 0.710702, 0.622798], [0.556104, 0.31372, 0.675753, 0.606607]], 'class_labels': [4, 7]}\n",
            "transformed_bboxes -  [(0.55913, 0.342113, 0.710702, 0.622798), (0.556104, 0.31372, 0.675753, 0.6066069999999999)]\n"
          ]
        }
      ]
    },
    {
      "cell_type": "code",
      "source": [
        "transform = A.Compose([\n",
        "        A.Rotate(limit=(-90, 90), p=0.5),\n",
        "        A.RandomBrightnessContrast(p=0.2),\n",
        "    ], bbox_params=A.BboxParams(format='yolo', label_fields=['Classes']))\n",
        "\n",
        "# Example usage\n",
        "apply_transformations_and_save(image_folder, label_folder, transform, 'Rotate_')"
      ],
      "metadata": {
        "colab": {
          "base_uri": "https://localhost:8080/"
        },
        "id": "TSbSLmDbJI5o",
        "outputId": "4b0bb813-f505-4ad7-8df3-920e411d983f"
      },
      "execution_count": null,
      "outputs": [
        {
          "output_type": "stream",
          "name": "stdout",
          "text": [
            "original_label -  {'bboxes': [[0.632172, 0.430851, 0.563521, 0.249255], [0.56294, 0.573511, 0.272772, 0.252234], [0.603633, 0.797979, 0.368989, 0.307766]], 'class_labels': [6, 10, 0]}\n",
            "transformed_bboxes -  [(0.632172, 0.430851, 0.5635210000000002, 0.249255), (0.56294, 0.5735109999999999, 0.272772, 0.25223399999999996), (0.603633, 0.797979, 0.368989, 0.307766)]\n",
            "original_label -  {'bboxes': [[0.864402, 0.696701, 0.18332, 0.165155], [0.691776, 0.409897, 0.533127, 0.270309]], 'class_labels': [0, 6]}\n",
            "transformed_bboxes -  [(0.8644020000000001, 0.696701, 0.18332000000000004, 0.16515499999999994), (0.691776, 0.409897, 0.5331269999999999, 0.270309)]\n",
            "original_label -  {'bboxes': [[0.42917, 0.412887, 0.203591, 0.138144], [0.505077, 0.285284, 0.546602, 0.150155], [0.315, 0.457964, 0.202432, 0.31232]], 'class_labels': [10, 6, 3]}\n",
            "transformed_bboxes -  [(0.4378859438778834, 0.4017454477033443, 0.21493278811414052, 0.17105002922059181), (0.5251496936338724, 0.287817188001782, 0.5563761668623993, 0.24023405590754737), (0.32038981481084666, 0.42740736163140075, 0.23009803453609978, 0.34366521612466305)]\n",
            "original_label -  {'bboxes': [[0.354942, 0.444433, 0.549961, 0.279278], [0.170483, 0.676418, 0.244054, 0.370876]], 'class_labels': [6, 0]}\n",
            "transformed_bboxes -  [(0.35091121984041607, 0.5312161699515496, 0.5868979846329581, 0.5626737116603059), (0.2568547228862158, 0.8042760976590599, 0.3383910951201725, 0.3914478046818801)]\n",
            "original_label -  {'bboxes': [[0.602683, 0.26951, 0.794633, 0.480464]], 'class_labels': [6]}\n",
            "transformed_bboxes -  [(0.602683, 0.26951, 0.7946329999999999, 0.480464)]\n",
            "original_label -  {'bboxes': [[0.346486, 0.409149, 0.679305, 0.442938], [0.453919, 0.658402, 0.311544, 0.17268], [0.678764, 0.468557, 0.250965, 0.414433]], 'class_labels': [6, 10, 3]}\n",
            "transformed_bboxes -  [(0.35287409873879005, 0.5504786896760736, 0.7057481974775801, 0.8990426206478528), (0.5402290292084763, 0.6612185970703635, 0.32240870793855403, 0.39835805465656937), (0.6226119563382728, 0.3235025105056481, 0.3913131202197105, 0.5328903385860267)]\n",
            "original_label -  {'bboxes': [[0.556506, 0.449974, 0.498031, 0.147371]], 'class_labels': [4]}\n",
            "transformed_bboxes -  [(0.46984216942070234, 0.4189290012087609, 0.1714279341201297, 0.678057825944932)]\n",
            "original_label -  {'bboxes': [[0.500656, 0.259639, 0.990811, 0.471959]], 'class_labels': [4]}\n",
            "transformed_bboxes -  [(0.500656, 0.259639, 0.9908109999999999, 0.471959)]\n",
            "original_label -  {'bboxes': [[0.478945, 0.514973, 0.907127, 0.931585]], 'class_labels': [8]}\n",
            "transformed_bboxes -  [(0.47894499999999995, 0.514973, 0.907127, 0.9315849999999999)]\n",
            "original_label -  {'bboxes': [[0.161486, 0.805541, 0.317181, 0.384381], [0.271699, 0.478969, 0.542085, 0.358866]], 'class_labels': [0, 6]}\n",
            "transformed_bboxes -  [(0.5887745152386474, 0.8825201129436285, 0.384173681828448, 0.23495977411274294), (0.40162094002265547, 0.6866991654249333, 0.448871438872992, 0.6266016691501334)]\n",
            "original_label -  {'bboxes': [[0.271139, 0.735722, 0.492625, 0.207216], [0.067027, 0.661392, 0.109112, 0.121649], [0.391506, 0.659149, 0.157452, 0.114072], [0.297008, 0.551778, 0.499344, 0.208711]], 'class_labels': [0, 10, 10, 6]}\n",
            "transformed_bboxes -  [(0.271139, 0.735722, 0.4926249999999999, 0.20721599999999996), (0.067027, 0.661392, 0.10911199999999999, 0.12164900000000001), (0.391506, 0.659149, 0.15745199999999998, 0.11407200000000006), (0.29700800000000005, 0.551778, 0.49934400000000007, 0.20871100000000004)]\n",
            "original_label -  {'bboxes': [[0.622193, 0.497686, 0.350409, 0.409947], [0.345725, 0.379069, 0.343123, 0.226755], [0.469033, 0.21766, 0.522602, 0.189149]], 'class_labels': [0, 3, 6]}\n",
            "transformed_bboxes -  [(0.5501436196923799, 0.3405428217034006, 0.40769572866891013, 0.6276130838457076), (0.35823190054220877, 0.6490125189376097, 0.28856836023817484, 0.5407903208768906), (0.30806157893880615, 0.4209137622452076, 0.3405502502549166, 0.7576847021186042)]\n",
            "original_label -  {'bboxes': [[0.552036, 0.451931, 0.87201, 0.306332]], 'class_labels': [6]}\n",
            "transformed_bboxes -  [(0.4407551167410162, 0.4568659544370441, 0.48558853049103146, 0.6780252243672608)]\n",
            "original_label -  {'bboxes': [[0.494721, 0.336417, 0.793309, 0.465455], [0.507862, 0.747834, 0.971784, 0.33631], [0.076171, 0.398743, 0.152342, 0.427968], [0.730186, 0.599947, 0.241115, 0.19369], [0.0971, 0.526364, 0.194201, 0.202674]], 'class_labels': [6, 0, 3, 10, 10]}\n",
            "Error processing image 0422.JPEG: Expected x_min for bbox (-5.000000000005e-07, 0.42502700000000004, 0.1942005, 0.6277010000000001, 10) to be in the range [0.0, 1.0], got -5.000000000005e-07.. Skipping transformation.\n",
            "original_label -  {'bboxes': [[0.437819, 0.38059, 0.644363, 0.319846]], 'class_labels': [6]}\n",
            "transformed_bboxes -  [(0.43781900000000007, 0.38059, 0.644363, 0.3198460000000001)]\n",
            "original_label -  {'bboxes': [[0.117824, 0.592403, 0.197593, 0.147124], [0.547014, 0.680236, 0.30125, 0.124592], [0.500856, 0.536094, 0.892454, 0.367897]], 'class_labels': [10, 10, 6]}\n",
            "transformed_bboxes -  [(0.10819197898613903, 0.545543528527923, 0.21638395797227805, 0.16969620753721876), (0.5213307575467577, 0.6843733561782239, 0.3161698151099826, 0.1598523407767486), (0.4957853676718955, 0.5358906799691467, 0.9364846516968304, 0.4723661134634956)]\n",
            "original_label -  {'bboxes': [[0.478881, 0.216144, 0.515075, 0.226755], [0.270877, 0.629069, 0.162201, 0.403883], [0.470466, 0.415851, 0.458172, 0.226702], [0.335112, 0.45266, 0.166418, 0.210213]], 'class_labels': [6, 0, 3, 10]}\n",
            "transformed_bboxes -  [(0.6952587606215378, 0.4367291153882208, 0.2185227473071807, 0.7558235366374884), (0.3831482879589416, 0.19081830122452254, 0.30042636075489865, 0.27710484256433776), (0.5551480669172248, 0.44829667401684387, 0.21179555316528098, 0.6752628736209495), (0.5135919037939877, 0.26101125349734233, 0.1660063908365872, 0.2603041973414972)]\n",
            "original_label -  {'bboxes': [[0.232336, 0.710206, 0.417259, 0.32134], [0.279595, 0.430902, 0.491467, 0.315309]], 'class_labels': [0, 6]}\n",
            "transformed_bboxes -  [(0.232336, 0.710206, 0.41725900000000005, 0.32133999999999996), (0.279595, 0.43090199999999995, 0.491467, 0.31530899999999995)]\n",
            "original_label -  {'bboxes': [[0.255351, 0.444375, 0.385552, 0.441488], [0.497893, 0.270208, 0.995518, 0.53756]], 'class_labels': [10, 6]}\n",
            "transformed_bboxes -  [(0.255351, 0.444375, 0.385552, 0.441488), (0.497893, 0.270208, 0.995518, 0.53756)]\n",
            "original_label -  {'bboxes': [[0.631042, 0.478969, 0.412741, 0.253711], [0.565251, 0.562294, 0.170965, 0.243247], [0.855405, 0.496985, 0.071969, 0.16067]], 'class_labels': [6, 10, 10]}\n",
            "transformed_bboxes -  [(0.631042, 0.478969, 0.412741, 0.253711), (0.565251, 0.562294, 0.17096500000000003, 0.243247), (0.855405, 0.496985, 0.07196900000000006, 0.16067000000000004)]\n",
            "original_label -  {'bboxes': [[0.51249, 0.395619, 0.967143, 0.378969]], 'class_labels': [4]}\n",
            "transformed_bboxes -  [(0.4244888544808887, 0.5, 0.4225040202753942, 1.0)]\n",
            "original_label -  {'bboxes': [[0.523958, 0.220696, 0.952085, 0.391907], [0.102452, 0.325799, 0.192317, 0.533041]], 'class_labels': [6, 0]}\n",
            "transformed_bboxes -  [(0.31367061083408043, 0.5, 0.6184352971977061, 1.0), (0.2343975584780455, 0.8577208099047052, 0.44181211094459194, 0.28455838019058954)]\n",
            "original_label -  {'bboxes': [[0.500467, 0.505298, 0.9972, 0.987738]], 'class_labels': [4]}\n",
            "transformed_bboxes -  [(0.5029166552885408, 0.5, 0.8957265937865644, 1.0)]\n",
            "original_label -  {'bboxes': [[0.311259, 0.245526, 0.601692, 0.210211], [0.348778, 0.391921, 0.191992, 0.172684], [0.763853, 0.852868, 0.318534, 0.142684], [0.406184, 0.623158, 0.48906, 0.289789], [0.137124, 0.372368, 0.274248, 0.232737]], 'class_labels': [6, 10, 10, 0, 3]}\n",
            "transformed_bboxes -  [(0.25645571145289586, 0.6042062859387787, 0.38551325366622347, 0.7915874281224426), (0.3671792682050585, 0.6480725948997119, 0.1916956685858776, 0.3161382162881113), (0.8385946928944279, 0.30957672687576476, 0.22451017919020322, 0.4650368743507205), (0.5413039387757445, 0.6494480295321219, 0.3906940772150085, 0.7011039409357561), (0.2669435529532692, 0.8434363057743266, 0.26476468910953965, 0.3131273884513467)]\n",
            "original_label -  {'bboxes': [[0.740683, 0.30003, 0.357633, 0.398274], [0.397817, 0.314077, 0.400833, 0.436845]], 'class_labels': [8, 8]}\n",
            "transformed_bboxes -  [(0.740683, 0.30003, 0.357633, 0.398274), (0.397817, 0.314077, 0.400833, 0.43684500000000004)]\n",
            "original_label -  {'bboxes': [[0.641178, 0.560773, 0.383514, 0.348351], [0.95888, 0.342345, 0.074208, 0.142629], [0.721023, 0.359588, 0.520734, 0.258247]], 'class_labels': [10, 10, 6]}\n",
            "transformed_bboxes -  [(0.641178, 0.560773, 0.38351399999999997, 0.3483510000000001), (0.95888, 0.342345, 0.07420800000000005, 0.142629), (0.721023, 0.359588, 0.520734, 0.258247)]\n",
            "original_label -  {'bboxes': [[0.577066, 0.421907, 0.32278, 0.193711], [0.629363, 0.638866, 0.256409, 0.378351]], 'class_labels': [6, 5]}\n",
            "transformed_bboxes -  [(0.577066, 0.42190700000000003, 0.32278000000000007, 0.19371100000000002), (0.6293630000000001, 0.638866, 0.256409, 0.37835100000000005)]\n",
            "original_label -  {'bboxes': [[0.738436, 0.60884, 0.305907, 0.270258], [0.551197, 0.239485, 0.846873, 0.462474]], 'class_labels': [10, 6]}\n",
            "transformed_bboxes -  [(0.7384360000000001, 0.60884, 0.30590700000000004, 0.27025800000000005), (0.551197, 0.239485, 0.846873, 0.46247399999999994)]\n",
            "original_label -  {'bboxes': [[0.49722, 0.271753, 0.774903, 0.421959]], 'class_labels': [6]}\n",
            "transformed_bboxes -  [(0.49722, 0.271753, 0.7749030000000001, 0.421959)]\n",
            "original_label -  {'bboxes': [[0.084089, 0.623111, 0.168178, 0.237244], [0.469222, 0.436933, 0.938444, 0.321333], [0.8994, 0.564556, 0.2012, 0.255244]], 'class_labels': [3, 6, 3]}\n",
            "transformed_bboxes -  [(0.084089, 0.623111, 0.168178, 0.237244), (0.469222, 0.436933, 0.938444, 0.32133300000000004), (0.8994, 0.564556, 0.20120000000000005, 0.255244)]\n",
            "original_label -  {'bboxes': [[0.5492, 0.184613, 0.8728, 0.331845], [0.143083, 0.545714, 0.227033, 0.372381]], 'class_labels': [6, 3]}\n",
            "transformed_bboxes -  [(0.5492, 0.184613, 0.8728, 0.331845), (0.143083, 0.545714, 0.22703299999999998, 0.37238099999999996)]\n",
            "original_label -  {'bboxes': [[0.396564, 0.340851, 0.593822, 0.208711]], 'class_labels': [6]}\n",
            "transformed_bboxes -  [(0.396564, 0.340851, 0.5938220000000001, 0.20871100000000004)]\n",
            "original_label -  {'bboxes': [[0.442865, 0.479716, 0.341731, 0.165206], [0.493288, 0.325052, 0.520962, 0.303299]], 'class_labels': [3, 6]}\n",
            "transformed_bboxes -  [(0.44286499999999995, 0.47971600000000003, 0.34173099999999995, 0.16520600000000002), (0.493288, 0.325052, 0.520962, 0.303299)]\n",
            "original_label -  {'bboxes': [[0.081641, 0.673428, 0.110232, 0.129124], [0.398803, 0.665902, 0.159691, 0.108093], [0.227278, 0.722964, 0.239575, 0.192216], [0.299826, 0.550284, 0.506139, 0.195206]], 'class_labels': [10, 10, 0, 6]}\n",
            "transformed_bboxes -  [(0.08164100000000002, 0.673428, 0.11023200000000001, 0.12912400000000002), (0.398803, 0.665902, 0.15969100000000003, 0.108093), (0.227278, 0.722964, 0.23957500000000004, 0.19221599999999994), (0.299826, 0.550284, 0.506139, 0.195206)]\n",
            "original_label -  {'bboxes': [[0.578185, 0.460954, 0.697297, 0.330361]], 'class_labels': [6]}\n",
            "transformed_bboxes -  [(0.578185, 0.460954, 0.6972969999999998, 0.33036100000000007)]\n",
            "original_label -  {'bboxes': [[0.405, 0.648571, 0.258133, 0.286786], [0.468483, 0.34753, 0.4339, 0.282321], [0.260367, 0.433125, 0.079867, 0.144107], [0.566017, 0.499911, 0.147967, 0.160655]], 'class_labels': [0, 6, 10, 10]}\n",
            "transformed_bboxes -  [(0.5584180010201532, 0.6999245490719991, 0.21700518428751941, 0.5156304334415327), (0.4095895156862911, 0.5186909322491885, 0.25607421378014505, 0.8195723376335657), (0.4070312086219646, 0.9000290208649159, 0.09727508390824408, 0.17261136586986847), (0.5155382394152765, 0.3854243369912808, 0.12235844427480386, 0.2946874960851996)]\n",
            "original_label -  {'bboxes': [[0.49834, 0.194433, 0.813127, 0.372371]], 'class_labels': [6]}\n",
            "transformed_bboxes -  [(0.49834, 0.19443299999999997, 0.8131270000000002, 0.372371)]\n",
            "original_label -  {'bboxes': [[0.555996, 0.322778, 0.561165, 0.114127]], 'class_labels': [6]}\n",
            "transformed_bboxes -  [(0.39472118774851045, 0.38498277867380043, 0.2345456866649719, 0.7699655573476009)]\n",
            "original_label -  {'bboxes': [[0.343755, 0.614093, 0.681588, 0.771813], [0.349982, 0.616786, 0.676643, 0.76489]], 'class_labels': [7, 4]}\n",
            "transformed_bboxes -  [(0.5725753428442859, 0.6075066822604258, 0.5174334868644517, 0.7849866354791483), (0.5744393821074281, 0.6046967465795503, 0.5128100166898697, 0.7906065068408994)]\n",
            "original_label -  {'bboxes': [[0.58026, 0.340771, 0.564535, 0.357394]], 'class_labels': [6]}\n",
            "transformed_bboxes -  [(0.41454255306597265, 0.39177592854617893, 0.39302291606778156, 0.7835518570923579)]\n",
            "original_label -  {'bboxes': [[0.515251, 0.330282, 0.888571, 0.259744]], 'class_labels': [6]}\n",
            "transformed_bboxes -  [(0.515251, 0.330282, 0.888571, 0.259744)]\n",
            "original_label -  {'bboxes': [[0.500579, 0.52701, 0.362162, 0.279278], [0.618108, 0.376856, 0.73668, 0.468454]], 'class_labels': [10, 6]}\n",
            "transformed_bboxes -  [(0.5195763535324952, 0.5068612201411427, 0.3026742218709233, 0.542567537695977), (0.44473639095861295, 0.4259164120754976, 0.5440658986779661, 0.8518328241509951)]\n",
            "original_label -  {'bboxes': [[0.654745, 0.552554, 0.155255, 0.190543], [0.457628, 0.39856, 0.422482, 0.165163]], 'class_labels': [0, 6]}\n",
            "transformed_bboxes -  [(0.6547450000000001, 0.552554, 0.15525500000000003, 0.19054299999999996), (0.4576279999999999, 0.39856, 0.42248199999999997, 0.165163)]\n",
            "original_label -  {'bboxes': [[0.503398, 0.408376, 0.760309, 0.629124]], 'class_labels': [6]}\n",
            "transformed_bboxes -  [(0.503398, 0.4083760000000001, 0.7603089999999999, 0.629124)]\n",
            "original_label -  {'bboxes': [[0.484247, 0.200876, 0.59529, 0.315773], [0.479208, 0.218454, 0.552239, 0.400928]], 'class_labels': [4, 7]}\n",
            "transformed_bboxes -  [(0.5573959232288279, 0.24388533419555666, 0.6397699223808035, 0.4877706683911133), (0.5483774711625043, 0.2666312205775967, 0.6196065242118192, 0.5332624411551934)]\n",
            "original_label -  {'bboxes': [[0.516892, 0.306289, 0.832239, 0.417423], [0.505849, 0.310825, 0.922355, 0.370619]], 'class_labels': [7, 4]}\n",
            "transformed_bboxes -  [(0.516892, 0.306289, 0.832239, 0.417423), (0.505849, 0.310825, 0.922355, 0.37061900000000003)]\n",
            "original_label -  {'bboxes': [[0.50722, 0.500839, 0.968307, 0.622795], [0.520112, 0.512795, 0.93607, 0.58559]], 'class_labels': [4, 7]}\n",
            "transformed_bboxes -  [(0.5052315252724306, 0.5, 0.9460170736932897, 1.0), (0.5110970816234386, 0.5, 0.9090478303337848, 1.0)]\n",
            "original_label -  {'bboxes': [[0.469533, 0.49128, 0.927467, 0.903512], [0.4895, 0.48497, 0.927467, 0.903512]], 'class_labels': [4, 7]}\n",
            "transformed_bboxes -  [(0.47967290438582477, 0.5, 0.921477032648212, 1.0), (0.4872902002044688, 0.5, 0.921477032648212, 1.0)]\n",
            "original_label -  {'bboxes': [[0.7157, 0.492113, 0.5686, 0.635298], [0.228767, 0.493929, 0.457533, 0.576548]], 'class_labels': [4, 8]}\n",
            "transformed_bboxes -  [(0.5102418666270142, 0.684375458667618, 0.37099678688870585, 0.6312490826647641), (0.4960716340403494, 0.21590892914571846, 0.33510851207484843, 0.43181785829143693)]\n",
            "original_label -  {'bboxes': [[0.461776, 0.414381, 0.5061, 0.231237], [0.456641, 0.414923, 0.511197, 0.164897]], 'class_labels': [7, 4]}\n",
            "transformed_bboxes -  [(0.46177599999999996, 0.414381, 0.5061, 0.23123699999999997), (0.456641, 0.414923, 0.511197, 0.16489699999999996)]\n",
            "original_label -  {'bboxes': [[0.501718, 0.506753, 0.977336, 0.962474], [0.501988, 0.510077, 0.990849, 0.979845]], 'class_labels': [7, 4]}\n",
            "transformed_bboxes -  [(0.501718, 0.506753, 0.977336, 0.962474), (0.501988, 0.510077, 0.9908490000000001, 0.9798449999999999)]\n",
            "original_label -  {'bboxes': [[0.405982, 0.532541, 0.803236, 0.928033]], 'class_labels': [4]}\n",
            "transformed_bboxes -  [(0.44224755495765844, 0.5, 0.8844951099153169, 1.0)]\n",
            "original_label -  {'bboxes': [[0.494749, 0.289459, 0.608417, 0.240361]], 'class_labels': [4]}\n",
            "transformed_bboxes -  [(0.494749, 0.289459, 0.608417, 0.24036100000000002)]\n",
            "original_label -  {'bboxes': [[0.55913, 0.342113, 0.710702, 0.622798], [0.556104, 0.31372, 0.675753, 0.606607]], 'class_labels': [4, 7]}\n",
            "transformed_bboxes -  [(0.5632735337260021, 0.3472853134699231, 0.7265085065921981, 0.6821255906576742), (0.5610080614410187, 0.32508457579226885, 0.6911671431156331, 0.6501691515845377)]\n"
          ]
        }
      ]
    },
    {
      "cell_type": "code",
      "source": [
        "transform = A.Compose([\n",
        "        A.ToGray(p=0.7),\n",
        "        #A.RandomBrightnessContrast(p=0.5),\n",
        "    ], bbox_params=A.BboxParams(format='yolo', label_fields=['Classes']))\n",
        "\n",
        "# Example usage\n",
        "apply_transformations_and_save(image_folder, label_folder, transform, 'Gray_')"
      ],
      "metadata": {
        "colab": {
          "base_uri": "https://localhost:8080/"
        },
        "id": "QX4habtlgAQ2",
        "outputId": "51e2e0a4-3b73-4fa4-9f10-daaee74e64ae"
      },
      "execution_count": null,
      "outputs": [
        {
          "output_type": "stream",
          "name": "stdout",
          "text": [
            "original_label -  {'bboxes': [[0.632172, 0.430851, 0.563521, 0.249255], [0.56294, 0.573511, 0.272772, 0.252234], [0.603633, 0.797979, 0.368989, 0.307766]], 'class_labels': [6, 10, 0]}\n",
            "transformed_bboxes -  [(0.632172, 0.430851, 0.5635210000000002, 0.249255), (0.56294, 0.5735109999999999, 0.272772, 0.25223399999999996), (0.603633, 0.797979, 0.368989, 0.307766)]\n",
            "original_label -  {'bboxes': [[0.864402, 0.696701, 0.18332, 0.165155], [0.691776, 0.409897, 0.533127, 0.270309]], 'class_labels': [0, 6]}\n",
            "transformed_bboxes -  [(0.8644020000000001, 0.696701, 0.18332000000000004, 0.16515499999999994), (0.691776, 0.409897, 0.5331269999999999, 0.270309)]\n",
            "original_label -  {'bboxes': [[0.42917, 0.412887, 0.203591, 0.138144], [0.505077, 0.285284, 0.546602, 0.150155], [0.315, 0.457964, 0.202432, 0.31232]], 'class_labels': [10, 6, 3]}\n",
            "transformed_bboxes -  [(0.42917, 0.412887, 0.20359099999999997, 0.138144), (0.505077, 0.285284, 0.546602, 0.15015500000000004), (0.315, 0.4579639999999999, 0.20243200000000003, 0.31231999999999993)]\n",
            "original_label -  {'bboxes': [[0.354942, 0.444433, 0.549961, 0.279278], [0.170483, 0.676418, 0.244054, 0.370876]], 'class_labels': [6, 0]}\n",
            "transformed_bboxes -  [(0.354942, 0.444433, 0.5499609999999999, 0.279278), (0.170483, 0.676418, 0.244054, 0.370876)]\n",
            "original_label -  {'bboxes': [[0.602683, 0.26951, 0.794633, 0.480464]], 'class_labels': [6]}\n",
            "transformed_bboxes -  [(0.602683, 0.26951, 0.7946329999999999, 0.480464)]\n",
            "original_label -  {'bboxes': [[0.346486, 0.409149, 0.679305, 0.442938], [0.453919, 0.658402, 0.311544, 0.17268], [0.678764, 0.468557, 0.250965, 0.414433]], 'class_labels': [6, 10, 3]}\n",
            "transformed_bboxes -  [(0.34648599999999996, 0.409149, 0.679305, 0.44293800000000005), (0.453919, 0.658402, 0.31154399999999993, 0.17267999999999994), (0.6787639999999999, 0.468557, 0.250965, 0.41443300000000005)]\n",
            "original_label -  {'bboxes': [[0.556506, 0.449974, 0.498031, 0.147371]], 'class_labels': [4]}\n",
            "transformed_bboxes -  [(0.556506, 0.449974, 0.49803100000000006, 0.14737099999999997)]\n",
            "original_label -  {'bboxes': [[0.500656, 0.259639, 0.990811, 0.471959]], 'class_labels': [4]}\n",
            "transformed_bboxes -  [(0.500656, 0.259639, 0.9908109999999999, 0.471959)]\n",
            "original_label -  {'bboxes': [[0.478945, 0.514973, 0.907127, 0.931585]], 'class_labels': [8]}\n",
            "transformed_bboxes -  [(0.47894499999999995, 0.514973, 0.907127, 0.9315849999999999)]\n",
            "original_label -  {'bboxes': [[0.161486, 0.805541, 0.317181, 0.384381], [0.271699, 0.478969, 0.542085, 0.358866]], 'class_labels': [0, 6]}\n",
            "transformed_bboxes -  [(0.161486, 0.8055409999999998, 0.317181, 0.384381), (0.271699, 0.478969, 0.5420849999999999, 0.35886599999999996)]\n",
            "original_label -  {'bboxes': [[0.271139, 0.735722, 0.492625, 0.207216], [0.067027, 0.661392, 0.109112, 0.121649], [0.391506, 0.659149, 0.157452, 0.114072], [0.297008, 0.551778, 0.499344, 0.208711]], 'class_labels': [0, 10, 10, 6]}\n",
            "transformed_bboxes -  [(0.271139, 0.735722, 0.4926249999999999, 0.20721599999999996), (0.067027, 0.661392, 0.10911199999999999, 0.12164900000000001), (0.391506, 0.659149, 0.15745199999999998, 0.11407200000000006), (0.29700800000000005, 0.551778, 0.49934400000000007, 0.20871100000000004)]\n",
            "original_label -  {'bboxes': [[0.622193, 0.497686, 0.350409, 0.409947], [0.345725, 0.379069, 0.343123, 0.226755], [0.469033, 0.21766, 0.522602, 0.189149]], 'class_labels': [0, 3, 6]}\n",
            "transformed_bboxes -  [(0.622193, 0.497686, 0.35040899999999997, 0.40994699999999995), (0.345725, 0.379069, 0.34312299999999996, 0.22675500000000004), (0.46903300000000003, 0.21765999999999996, 0.522602, 0.18914899999999998)]\n",
            "original_label -  {'bboxes': [[0.552036, 0.451931, 0.87201, 0.306332]], 'class_labels': [6]}\n",
            "transformed_bboxes -  [(0.552036, 0.451931, 0.87201, 0.30633199999999994)]\n",
            "original_label -  {'bboxes': [[0.494721, 0.336417, 0.793309, 0.465455], [0.507862, 0.747834, 0.971784, 0.33631], [0.076171, 0.398743, 0.152342, 0.427968], [0.730186, 0.599947, 0.241115, 0.19369], [0.0971, 0.526364, 0.194201, 0.202674]], 'class_labels': [6, 0, 3, 10, 10]}\n",
            "Error processing image 0422.JPEG: Expected x_min for bbox (-5.000000000005e-07, 0.42502700000000004, 0.1942005, 0.6277010000000001, 10) to be in the range [0.0, 1.0], got -5.000000000005e-07.. Skipping transformation.\n",
            "original_label -  {'bboxes': [[0.437819, 0.38059, 0.644363, 0.319846]], 'class_labels': [6]}\n",
            "transformed_bboxes -  [(0.43781900000000007, 0.38059, 0.644363, 0.3198460000000001)]\n",
            "original_label -  {'bboxes': [[0.117824, 0.592403, 0.197593, 0.147124], [0.547014, 0.680236, 0.30125, 0.124592], [0.500856, 0.536094, 0.892454, 0.367897]], 'class_labels': [10, 10, 6]}\n",
            "transformed_bboxes -  [(0.117824, 0.592403, 0.197593, 0.14712400000000003), (0.547014, 0.680236, 0.30125, 0.12459200000000004), (0.500856, 0.536094, 0.8924539999999999, 0.3678969999999999)]\n",
            "original_label -  {'bboxes': [[0.478881, 0.216144, 0.515075, 0.226755], [0.270877, 0.629069, 0.162201, 0.403883], [0.470466, 0.415851, 0.458172, 0.226702], [0.335112, 0.45266, 0.166418, 0.210213]], 'class_labels': [6, 0, 3, 10]}\n",
            "transformed_bboxes -  [(0.478881, 0.216144, 0.515075, 0.22675500000000004), (0.2708769999999999, 0.629069, 0.16220099999999998, 0.403883), (0.47046599999999994, 0.4158510000000001, 0.45817199999999997, 0.22670200000000001), (0.33511199999999997, 0.45266000000000006, 0.166418, 0.21021300000000004)]\n",
            "original_label -  {'bboxes': [[0.232336, 0.710206, 0.417259, 0.32134], [0.279595, 0.430902, 0.491467, 0.315309]], 'class_labels': [0, 6]}\n",
            "transformed_bboxes -  [(0.232336, 0.710206, 0.41725900000000005, 0.32133999999999996), (0.279595, 0.43090199999999995, 0.491467, 0.31530899999999995)]\n",
            "original_label -  {'bboxes': [[0.255351, 0.444375, 0.385552, 0.441488], [0.497893, 0.270208, 0.995518, 0.53756]], 'class_labels': [10, 6]}\n",
            "transformed_bboxes -  [(0.255351, 0.444375, 0.385552, 0.441488), (0.497893, 0.270208, 0.995518, 0.53756)]\n",
            "original_label -  {'bboxes': [[0.631042, 0.478969, 0.412741, 0.253711], [0.565251, 0.562294, 0.170965, 0.243247], [0.855405, 0.496985, 0.071969, 0.16067]], 'class_labels': [6, 10, 10]}\n",
            "transformed_bboxes -  [(0.631042, 0.478969, 0.412741, 0.253711), (0.565251, 0.562294, 0.17096500000000003, 0.243247), (0.855405, 0.496985, 0.07196900000000006, 0.16067000000000004)]\n",
            "original_label -  {'bboxes': [[0.51249, 0.395619, 0.967143, 0.378969]], 'class_labels': [4]}\n",
            "transformed_bboxes -  [(0.51249, 0.395619, 0.9671429999999999, 0.378969)]\n",
            "original_label -  {'bboxes': [[0.523958, 0.220696, 0.952085, 0.391907], [0.102452, 0.325799, 0.192317, 0.533041]], 'class_labels': [6, 0]}\n",
            "transformed_bboxes -  [(0.52395775, 0.220696, 0.9520845, 0.391907), (0.102452, 0.325799, 0.192317, 0.533041)]\n",
            "original_label -  {'bboxes': [[0.500467, 0.505298, 0.9972, 0.987738]], 'class_labels': [4]}\n",
            "transformed_bboxes -  [(0.500467, 0.505298, 0.9971999999999999, 0.987738)]\n",
            "original_label -  {'bboxes': [[0.311259, 0.245526, 0.601692, 0.210211], [0.348778, 0.391921, 0.191992, 0.172684], [0.763853, 0.852868, 0.318534, 0.142684], [0.406184, 0.623158, 0.48906, 0.289789], [0.137124, 0.372368, 0.274248, 0.232737]], 'class_labels': [6, 10, 10, 0, 3]}\n",
            "transformed_bboxes -  [(0.311259, 0.245526, 0.601692, 0.21021099999999998), (0.3487779999999999, 0.3919210000000001, 0.191992, 0.172684), (0.7638530000000001, 0.852868, 0.318534, 0.14268400000000003), (0.406184, 0.623158, 0.48906000000000005, 0.2897890000000001), (0.137124, 0.37236800000000003, 0.274248, 0.23273700000000003)]\n",
            "original_label -  {'bboxes': [[0.740683, 0.30003, 0.357633, 0.398274], [0.397817, 0.314077, 0.400833, 0.436845]], 'class_labels': [8, 8]}\n",
            "transformed_bboxes -  [(0.740683, 0.30003, 0.357633, 0.398274), (0.397817, 0.314077, 0.400833, 0.43684500000000004)]\n",
            "original_label -  {'bboxes': [[0.641178, 0.560773, 0.383514, 0.348351], [0.95888, 0.342345, 0.074208, 0.142629], [0.721023, 0.359588, 0.520734, 0.258247]], 'class_labels': [10, 10, 6]}\n",
            "transformed_bboxes -  [(0.641178, 0.560773, 0.38351399999999997, 0.3483510000000001), (0.95888, 0.342345, 0.07420800000000005, 0.142629), (0.721023, 0.359588, 0.520734, 0.258247)]\n",
            "original_label -  {'bboxes': [[0.577066, 0.421907, 0.32278, 0.193711], [0.629363, 0.638866, 0.256409, 0.378351]], 'class_labels': [6, 5]}\n",
            "transformed_bboxes -  [(0.577066, 0.42190700000000003, 0.32278000000000007, 0.19371100000000002), (0.6293630000000001, 0.638866, 0.256409, 0.37835100000000005)]\n",
            "original_label -  {'bboxes': [[0.738436, 0.60884, 0.305907, 0.270258], [0.551197, 0.239485, 0.846873, 0.462474]], 'class_labels': [10, 6]}\n",
            "transformed_bboxes -  [(0.7384360000000001, 0.60884, 0.30590700000000004, 0.27025800000000005), (0.551197, 0.239485, 0.846873, 0.46247399999999994)]\n",
            "original_label -  {'bboxes': [[0.49722, 0.271753, 0.774903, 0.421959]], 'class_labels': [6]}\n",
            "transformed_bboxes -  [(0.49722, 0.271753, 0.7749030000000001, 0.421959)]\n",
            "original_label -  {'bboxes': [[0.084089, 0.623111, 0.168178, 0.237244], [0.469222, 0.436933, 0.938444, 0.321333], [0.8994, 0.564556, 0.2012, 0.255244]], 'class_labels': [3, 6, 3]}\n",
            "transformed_bboxes -  [(0.084089, 0.623111, 0.168178, 0.237244), (0.469222, 0.436933, 0.938444, 0.32133300000000004), (0.8994, 0.564556, 0.20120000000000005, 0.255244)]\n",
            "original_label -  {'bboxes': [[0.5492, 0.184613, 0.8728, 0.331845], [0.143083, 0.545714, 0.227033, 0.372381]], 'class_labels': [6, 3]}\n",
            "transformed_bboxes -  [(0.5492, 0.184613, 0.8728, 0.331845), (0.143083, 0.545714, 0.22703299999999998, 0.37238099999999996)]\n",
            "original_label -  {'bboxes': [[0.396564, 0.340851, 0.593822, 0.208711]], 'class_labels': [6]}\n",
            "transformed_bboxes -  [(0.396564, 0.340851, 0.5938220000000001, 0.20871100000000004)]\n",
            "original_label -  {'bboxes': [[0.442865, 0.479716, 0.341731, 0.165206], [0.493288, 0.325052, 0.520962, 0.303299]], 'class_labels': [3, 6]}\n",
            "transformed_bboxes -  [(0.44286499999999995, 0.47971600000000003, 0.34173099999999995, 0.16520600000000002), (0.493288, 0.325052, 0.520962, 0.303299)]\n",
            "original_label -  {'bboxes': [[0.081641, 0.673428, 0.110232, 0.129124], [0.398803, 0.665902, 0.159691, 0.108093], [0.227278, 0.722964, 0.239575, 0.192216], [0.299826, 0.550284, 0.506139, 0.195206]], 'class_labels': [10, 10, 0, 6]}\n",
            "transformed_bboxes -  [(0.08164100000000002, 0.673428, 0.11023200000000001, 0.12912400000000002), (0.398803, 0.665902, 0.15969100000000003, 0.108093), (0.227278, 0.722964, 0.23957500000000004, 0.19221599999999994), (0.299826, 0.550284, 0.506139, 0.195206)]\n",
            "original_label -  {'bboxes': [[0.578185, 0.460954, 0.697297, 0.330361]], 'class_labels': [6]}\n",
            "transformed_bboxes -  [(0.578185, 0.460954, 0.6972969999999998, 0.33036100000000007)]\n",
            "original_label -  {'bboxes': [[0.405, 0.648571, 0.258133, 0.286786], [0.468483, 0.34753, 0.4339, 0.282321], [0.260367, 0.433125, 0.079867, 0.144107], [0.566017, 0.499911, 0.147967, 0.160655]], 'class_labels': [0, 6, 10, 10]}\n",
            "transformed_bboxes -  [(0.405, 0.648571, 0.25813299999999995, 0.286786), (0.468483, 0.34753, 0.43389999999999995, 0.28232100000000004), (0.260367, 0.433125, 0.07986699999999997, 0.14410699999999999), (0.566017, 0.499911, 0.14796699999999996, 0.160655)]\n",
            "original_label -  {'bboxes': [[0.49834, 0.194433, 0.813127, 0.372371]], 'class_labels': [6]}\n",
            "transformed_bboxes -  [(0.49834, 0.19443299999999997, 0.8131270000000002, 0.372371)]\n",
            "original_label -  {'bboxes': [[0.555996, 0.322778, 0.561165, 0.114127]], 'class_labels': [6]}\n",
            "transformed_bboxes -  [(0.555996, 0.322778, 0.5611650000000001, 0.11412700000000003)]\n",
            "original_label -  {'bboxes': [[0.343755, 0.614093, 0.681588, 0.771813], [0.349982, 0.616786, 0.676643, 0.76489]], 'class_labels': [7, 4]}\n",
            "transformed_bboxes -  [(0.343755, 0.614093, 0.681588, 0.7718129999999999), (0.349982, 0.616786, 0.6766429999999999, 0.7648900000000001)]\n",
            "original_label -  {'bboxes': [[0.58026, 0.340771, 0.564535, 0.357394]], 'class_labels': [6]}\n",
            "transformed_bboxes -  [(0.58026, 0.34077100000000005, 0.564535, 0.35739400000000004)]\n",
            "original_label -  {'bboxes': [[0.515251, 0.330282, 0.888571, 0.259744]], 'class_labels': [6]}\n",
            "transformed_bboxes -  [(0.515251, 0.330282, 0.888571, 0.259744)]\n",
            "original_label -  {'bboxes': [[0.500579, 0.52701, 0.362162, 0.279278], [0.618108, 0.376856, 0.73668, 0.468454]], 'class_labels': [10, 6]}\n",
            "transformed_bboxes -  [(0.500579, 0.52701, 0.36216199999999993, 0.2792780000000001), (0.618108, 0.376856, 0.73668, 0.46845400000000004)]\n",
            "original_label -  {'bboxes': [[0.654745, 0.552554, 0.155255, 0.190543], [0.457628, 0.39856, 0.422482, 0.165163]], 'class_labels': [0, 6]}\n",
            "transformed_bboxes -  [(0.6547450000000001, 0.552554, 0.15525500000000003, 0.19054299999999996), (0.4576279999999999, 0.39856, 0.42248199999999997, 0.165163)]\n",
            "original_label -  {'bboxes': [[0.503398, 0.408376, 0.760309, 0.629124]], 'class_labels': [6]}\n",
            "transformed_bboxes -  [(0.503398, 0.4083760000000001, 0.7603089999999999, 0.629124)]\n",
            "original_label -  {'bboxes': [[0.484247, 0.200876, 0.59529, 0.315773], [0.479208, 0.218454, 0.552239, 0.400928]], 'class_labels': [4, 7]}\n",
            "transformed_bboxes -  [(0.484247, 0.200876, 0.5952900000000001, 0.31577299999999997), (0.479208, 0.218454, 0.552239, 0.400928)]\n",
            "original_label -  {'bboxes': [[0.516892, 0.306289, 0.832239, 0.417423], [0.505849, 0.310825, 0.922355, 0.370619]], 'class_labels': [7, 4]}\n",
            "transformed_bboxes -  [(0.516892, 0.306289, 0.832239, 0.417423), (0.505849, 0.310825, 0.922355, 0.37061900000000003)]\n",
            "original_label -  {'bboxes': [[0.50722, 0.500839, 0.968307, 0.622795], [0.520112, 0.512795, 0.93607, 0.58559]], 'class_labels': [4, 7]}\n",
            "transformed_bboxes -  [(0.50722, 0.500839, 0.968307, 0.622795), (0.520112, 0.512795, 0.93607, 0.58559)]\n",
            "original_label -  {'bboxes': [[0.469533, 0.49128, 0.927467, 0.903512], [0.4895, 0.48497, 0.927467, 0.903512]], 'class_labels': [4, 7]}\n",
            "transformed_bboxes -  [(0.469533, 0.49128, 0.927467, 0.903512), (0.48950000000000005, 0.48497, 0.927467, 0.9035119999999999)]\n",
            "original_label -  {'bboxes': [[0.7157, 0.492113, 0.5686, 0.635298], [0.228767, 0.493929, 0.457533, 0.576548]], 'class_labels': [4, 8]}\n",
            "transformed_bboxes -  [(0.7157, 0.492113, 0.5686, 0.6352980000000001), (0.228767, 0.493929, 0.4575330000000001, 0.576548)]\n",
            "original_label -  {'bboxes': [[0.461776, 0.414381, 0.5061, 0.231237], [0.456641, 0.414923, 0.511197, 0.164897]], 'class_labels': [7, 4]}\n",
            "transformed_bboxes -  [(0.46177599999999996, 0.414381, 0.5061, 0.23123699999999997), (0.456641, 0.414923, 0.511197, 0.16489699999999996)]\n",
            "original_label -  {'bboxes': [[0.501718, 0.506753, 0.977336, 0.962474], [0.501988, 0.510077, 0.990849, 0.979845]], 'class_labels': [7, 4]}\n",
            "transformed_bboxes -  [(0.501718, 0.506753, 0.977336, 0.962474), (0.501988, 0.510077, 0.9908490000000001, 0.9798449999999999)]\n",
            "original_label -  {'bboxes': [[0.405982, 0.532541, 0.803236, 0.928033]], 'class_labels': [4]}\n",
            "transformed_bboxes -  [(0.405982, 0.532541, 0.803236, 0.9280329999999999)]\n",
            "original_label -  {'bboxes': [[0.494749, 0.289459, 0.608417, 0.240361]], 'class_labels': [4]}\n",
            "transformed_bboxes -  [(0.494749, 0.289459, 0.608417, 0.24036100000000002)]\n",
            "original_label -  {'bboxes': [[0.55913, 0.342113, 0.710702, 0.622798], [0.556104, 0.31372, 0.675753, 0.606607]], 'class_labels': [4, 7]}\n",
            "transformed_bboxes -  [(0.55913, 0.342113, 0.710702, 0.622798), (0.556104, 0.31372, 0.675753, 0.6066069999999999)]\n"
          ]
        }
      ]
    },
    {
      "cell_type": "markdown",
      "source": [
        "### Following code is to delete any unneceaary files & folders"
      ],
      "metadata": {
        "id": "aDV0NnptUFMd"
      }
    },
    {
      "cell_type": "code",
      "source": [
        "import os\n",
        "\n",
        "def delete_files_with_prefix(folder_path, prefixes):\n",
        "    for file_name in os.listdir(folder_path):\n",
        "        for prefix in prefixes:\n",
        "            if file_name.startswith(prefix):\n",
        "                file_path = os.path.join(folder_path, file_name)\n",
        "                os.remove(file_path)\n",
        "                print(f\"Deleted file: {file_path}\")\n",
        "\n",
        "# Example usage\n",
        "prefixes_to_delete = [\"HorizontalFlip_\", \"VerticalFlip_\", \"Rotate_\"]"
      ],
      "metadata": {
        "id": "ZJd26zDGSGj2"
      },
      "execution_count": null,
      "outputs": []
    },
    {
      "cell_type": "code",
      "source": [
        "delete_files_with_prefix(image_folder, prefixes_to_delete)"
      ],
      "metadata": {
        "id": "EjU7PvcnTy_9"
      },
      "execution_count": null,
      "outputs": []
    },
    {
      "cell_type": "code",
      "source": [
        "delete_files_with_prefix(label_folder, prefixes_to_delete)"
      ],
      "metadata": {
        "id": "w885iJe3T5-e"
      },
      "execution_count": null,
      "outputs": []
    },
    {
      "cell_type": "markdown",
      "source": [
        "## Move images from subfolder to main folder"
      ],
      "metadata": {
        "id": "R5zJERdWrE0S"
      }
    },
    {
      "cell_type": "code",
      "source": [
        "import os\n",
        "import shutil\n",
        "\n",
        "def move_images_from_subdirectories(source_folder, destination_folder):\n",
        "    for root, _, files in os.walk(source_folder):\n",
        "        for file_name in files:\n",
        "            if file_name.endswith(('.jpeg','.JPEG', '.txt')):\n",
        "                source_file_path = os.path.join(root, file_name)\n",
        "                destination_file_path = os.path.join(destination_folder, file_name)\n",
        "                if not os.path.exists(destination_file_path):\n",
        "                    shutil.move(source_file_path, destination_folder)\n",
        "                    print(f\"Moved file: {source_file_path} to {destination_file_path}\")\n",
        "                else:\n",
        "                    print(f\"File already exists: {destination_file_path}. Skipping.\")\n",
        "            else:\n",
        "                print(f\"Skipping file: {file_name}\")\n",
        "\n",
        "def delete_empty_subdirectories(folder):\n",
        "    # Traverse all subdirectories in reverse order to ensure deleting empty parents first\n",
        "    for root, dirs, files in os.walk(folder, topdown=False):\n",
        "        for directory in dirs:\n",
        "            directory_path = os.path.join(root, directory)\n",
        "            # Check if the directory is empty\n",
        "            if not os.listdir(directory_path):\n",
        "                # Delete the empty directory\n",
        "                os.rmdir(directory_path)\n",
        "                print(f\"Deleted empty directory: {directory_path}\")"
      ],
      "metadata": {
        "id": "6jTwvFDBrMRK"
      },
      "execution_count": null,
      "outputs": []
    },
    {
      "cell_type": "code",
      "source": [
        "# Example usage\n",
        "move_images_from_subdirectories(image_folder, image_folder)\n",
        "delete_empty_subdirectories(image_folder)"
      ],
      "metadata": {
        "colab": {
          "base_uri": "https://localhost:8080/"
        },
        "id": "A2suq68qrRLv",
        "outputId": "e9a42284-753d-4497-b452-4f9c34ff5c60"
      },
      "execution_count": null,
      "outputs": [
        {
          "output_type": "stream",
          "name": "stdout",
          "text": [
            "File already exists: /content/gdrive/MyDrive/Colab Notebooks/Reva/Capstone/data/images/0882.JPEG. Skipping.\n",
            "File already exists: /content/gdrive/MyDrive/Colab Notebooks/Reva/Capstone/data/images/0883.JPEG. Skipping.\n",
            "File already exists: /content/gdrive/MyDrive/Colab Notebooks/Reva/Capstone/data/images/0759.JPEG. Skipping.\n",
            "File already exists: /content/gdrive/MyDrive/Colab Notebooks/Reva/Capstone/data/images/0857.JPEG. Skipping.\n",
            "File already exists: /content/gdrive/MyDrive/Colab Notebooks/Reva/Capstone/data/images/0425.JPEG. Skipping.\n",
            "File already exists: /content/gdrive/MyDrive/Colab Notebooks/Reva/Capstone/data/images/0429.JPEG. Skipping.\n",
            "File already exists: /content/gdrive/MyDrive/Colab Notebooks/Reva/Capstone/data/images/0495.JPEG. Skipping.\n",
            "File already exists: /content/gdrive/MyDrive/Colab Notebooks/Reva/Capstone/data/images/0593.JPEG. Skipping.\n",
            "File already exists: /content/gdrive/MyDrive/Colab Notebooks/Reva/Capstone/data/images/0520.JPEG. Skipping.\n",
            "File already exists: /content/gdrive/MyDrive/Colab Notebooks/Reva/Capstone/data/images/0427.JPEG. Skipping.\n",
            "File already exists: /content/gdrive/MyDrive/Colab Notebooks/Reva/Capstone/data/images/0704.JPEG. Skipping.\n",
            "File already exists: /content/gdrive/MyDrive/Colab Notebooks/Reva/Capstone/data/images/0430.JPEG. Skipping.\n",
            "File already exists: /content/gdrive/MyDrive/Colab Notebooks/Reva/Capstone/data/images/0413.JPEG. Skipping.\n",
            "File already exists: /content/gdrive/MyDrive/Colab Notebooks/Reva/Capstone/data/images/0422.JPEG. Skipping.\n",
            "File already exists: /content/gdrive/MyDrive/Colab Notebooks/Reva/Capstone/data/images/0387.JPEG. Skipping.\n",
            "File already exists: /content/gdrive/MyDrive/Colab Notebooks/Reva/Capstone/data/images/0383.jpeg. Skipping.\n",
            "File already exists: /content/gdrive/MyDrive/Colab Notebooks/Reva/Capstone/data/images/0384.JPEG. Skipping.\n",
            "File already exists: /content/gdrive/MyDrive/Colab Notebooks/Reva/Capstone/data/images/0385.JPEG. Skipping.\n",
            "File already exists: /content/gdrive/MyDrive/Colab Notebooks/Reva/Capstone/data/images/0377.JPEG. Skipping.\n",
            "File already exists: /content/gdrive/MyDrive/Colab Notebooks/Reva/Capstone/data/images/0400.JPEG. Skipping.\n",
            "File already exists: /content/gdrive/MyDrive/Colab Notebooks/Reva/Capstone/data/images/0365.JPEG. Skipping.\n",
            "File already exists: /content/gdrive/MyDrive/Colab Notebooks/Reva/Capstone/data/images/0368.JPEG. Skipping.\n",
            "File already exists: /content/gdrive/MyDrive/Colab Notebooks/Reva/Capstone/data/images/0362.JPEG. Skipping.\n",
            "File already exists: /content/gdrive/MyDrive/Colab Notebooks/Reva/Capstone/data/images/0357.JPEG. Skipping.\n",
            "File already exists: /content/gdrive/MyDrive/Colab Notebooks/Reva/Capstone/data/images/0315.JPEG. Skipping.\n",
            "File already exists: /content/gdrive/MyDrive/Colab Notebooks/Reva/Capstone/data/images/0333.JPEG. Skipping.\n",
            "File already exists: /content/gdrive/MyDrive/Colab Notebooks/Reva/Capstone/data/images/0322.JPEG. Skipping.\n",
            "File already exists: /content/gdrive/MyDrive/Colab Notebooks/Reva/Capstone/data/images/0327.JPEG. Skipping.\n",
            "File already exists: /content/gdrive/MyDrive/Colab Notebooks/Reva/Capstone/data/images/0349.jpeg. Skipping.\n",
            "File already exists: /content/gdrive/MyDrive/Colab Notebooks/Reva/Capstone/data/images/0337.JPEG. Skipping.\n",
            "File already exists: /content/gdrive/MyDrive/Colab Notebooks/Reva/Capstone/data/images/0319.JPEG. Skipping.\n",
            "File already exists: /content/gdrive/MyDrive/Colab Notebooks/Reva/Capstone/data/images/0335.JPEG. Skipping.\n",
            "File already exists: /content/gdrive/MyDrive/Colab Notebooks/Reva/Capstone/data/images/0307.JPEG. Skipping.\n",
            "File already exists: /content/gdrive/MyDrive/Colab Notebooks/Reva/Capstone/data/images/0305.JPEG. Skipping.\n",
            "File already exists: /content/gdrive/MyDrive/Colab Notebooks/Reva/Capstone/data/images/0168.JPEG. Skipping.\n",
            "File already exists: /content/gdrive/MyDrive/Colab Notebooks/Reva/Capstone/data/images/0180.jpeg. Skipping.\n",
            "File already exists: /content/gdrive/MyDrive/Colab Notebooks/Reva/Capstone/data/images/0186.JPEG. Skipping.\n",
            "File already exists: /content/gdrive/MyDrive/Colab Notebooks/Reva/Capstone/data/images/0179.JPEG. Skipping.\n",
            "File already exists: /content/gdrive/MyDrive/Colab Notebooks/Reva/Capstone/data/images/0101.JPEG. Skipping.\n",
            "File already exists: /content/gdrive/MyDrive/Colab Notebooks/Reva/Capstone/data/images/0170.JPEG. Skipping.\n",
            "File already exists: /content/gdrive/MyDrive/Colab Notebooks/Reva/Capstone/data/images/0169.jpeg. Skipping.\n",
            "File already exists: /content/gdrive/MyDrive/Colab Notebooks/Reva/Capstone/data/images/0163.JPEG. Skipping.\n",
            "File already exists: /content/gdrive/MyDrive/Colab Notebooks/Reva/Capstone/data/images/0304.JPEG. Skipping.\n",
            "File already exists: /content/gdrive/MyDrive/Colab Notebooks/Reva/Capstone/data/images/0267.JPEG. Skipping.\n",
            "File already exists: /content/gdrive/MyDrive/Colab Notebooks/Reva/Capstone/data/images/0044.JPEG. Skipping.\n",
            "File already exists: /content/gdrive/MyDrive/Colab Notebooks/Reva/Capstone/data/images/0011.JPEG. Skipping.\n",
            "File already exists: /content/gdrive/MyDrive/Colab Notebooks/Reva/Capstone/data/images/0020.JPEG. Skipping.\n",
            "File already exists: /content/gdrive/MyDrive/Colab Notebooks/Reva/Capstone/data/images/0046.JPEG. Skipping.\n",
            "File already exists: /content/gdrive/MyDrive/Colab Notebooks/Reva/Capstone/data/images/0001.JPEG. Skipping.\n",
            "File already exists: /content/gdrive/MyDrive/Colab Notebooks/Reva/Capstone/data/images/0061.JPEG. Skipping.\n",
            "File already exists: /content/gdrive/MyDrive/Colab Notebooks/Reva/Capstone/data/images/0045.JPEG. Skipping.\n",
            "File already exists: /content/gdrive/MyDrive/Colab Notebooks/Reva/Capstone/data/images/0035.JPEG. Skipping.\n",
            "File already exists: /content/gdrive/MyDrive/Colab Notebooks/Reva/Capstone/data/images/0095.JPEG. Skipping.\n",
            "File already exists: /content/gdrive/MyDrive/Colab Notebooks/Reva/Capstone/data/images/0093.JPEG. Skipping.\n",
            "File already exists: /content/gdrive/MyDrive/Colab Notebooks/Reva/Capstone/data/images/HorizontalFlip_0882.JPEG. Skipping.\n",
            "File already exists: /content/gdrive/MyDrive/Colab Notebooks/Reva/Capstone/data/images/HorizontalFlip_0883.JPEG. Skipping.\n",
            "File already exists: /content/gdrive/MyDrive/Colab Notebooks/Reva/Capstone/data/images/HorizontalFlip_0759.JPEG. Skipping.\n",
            "File already exists: /content/gdrive/MyDrive/Colab Notebooks/Reva/Capstone/data/images/HorizontalFlip_0857.JPEG. Skipping.\n",
            "File already exists: /content/gdrive/MyDrive/Colab Notebooks/Reva/Capstone/data/images/HorizontalFlip_0425.JPEG. Skipping.\n",
            "File already exists: /content/gdrive/MyDrive/Colab Notebooks/Reva/Capstone/data/images/HorizontalFlip_0429.JPEG. Skipping.\n",
            "File already exists: /content/gdrive/MyDrive/Colab Notebooks/Reva/Capstone/data/images/HorizontalFlip_0495.JPEG. Skipping.\n",
            "File already exists: /content/gdrive/MyDrive/Colab Notebooks/Reva/Capstone/data/images/HorizontalFlip_0593.JPEG. Skipping.\n",
            "File already exists: /content/gdrive/MyDrive/Colab Notebooks/Reva/Capstone/data/images/HorizontalFlip_0520.JPEG. Skipping.\n",
            "File already exists: /content/gdrive/MyDrive/Colab Notebooks/Reva/Capstone/data/images/HorizontalFlip_0427.JPEG. Skipping.\n",
            "File already exists: /content/gdrive/MyDrive/Colab Notebooks/Reva/Capstone/data/images/HorizontalFlip_0704.JPEG. Skipping.\n",
            "File already exists: /content/gdrive/MyDrive/Colab Notebooks/Reva/Capstone/data/images/HorizontalFlip_0430.JPEG. Skipping.\n",
            "File already exists: /content/gdrive/MyDrive/Colab Notebooks/Reva/Capstone/data/images/HorizontalFlip_0413.JPEG. Skipping.\n",
            "File already exists: /content/gdrive/MyDrive/Colab Notebooks/Reva/Capstone/data/images/HorizontalFlip_0387.JPEG. Skipping.\n",
            "File already exists: /content/gdrive/MyDrive/Colab Notebooks/Reva/Capstone/data/images/HorizontalFlip_0383.jpeg. Skipping.\n",
            "File already exists: /content/gdrive/MyDrive/Colab Notebooks/Reva/Capstone/data/images/HorizontalFlip_0384.JPEG. Skipping.\n",
            "File already exists: /content/gdrive/MyDrive/Colab Notebooks/Reva/Capstone/data/images/HorizontalFlip_0385.JPEG. Skipping.\n",
            "File already exists: /content/gdrive/MyDrive/Colab Notebooks/Reva/Capstone/data/images/HorizontalFlip_0377.JPEG. Skipping.\n",
            "File already exists: /content/gdrive/MyDrive/Colab Notebooks/Reva/Capstone/data/images/HorizontalFlip_0400.JPEG. Skipping.\n",
            "File already exists: /content/gdrive/MyDrive/Colab Notebooks/Reva/Capstone/data/images/HorizontalFlip_0365.JPEG. Skipping.\n",
            "File already exists: /content/gdrive/MyDrive/Colab Notebooks/Reva/Capstone/data/images/HorizontalFlip_0368.JPEG. Skipping.\n",
            "File already exists: /content/gdrive/MyDrive/Colab Notebooks/Reva/Capstone/data/images/HorizontalFlip_0362.JPEG. Skipping.\n",
            "File already exists: /content/gdrive/MyDrive/Colab Notebooks/Reva/Capstone/data/images/HorizontalFlip_0357.JPEG. Skipping.\n",
            "File already exists: /content/gdrive/MyDrive/Colab Notebooks/Reva/Capstone/data/images/HorizontalFlip_0315.JPEG. Skipping.\n",
            "File already exists: /content/gdrive/MyDrive/Colab Notebooks/Reva/Capstone/data/images/HorizontalFlip_0333.JPEG. Skipping.\n",
            "File already exists: /content/gdrive/MyDrive/Colab Notebooks/Reva/Capstone/data/images/HorizontalFlip_0322.JPEG. Skipping.\n",
            "File already exists: /content/gdrive/MyDrive/Colab Notebooks/Reva/Capstone/data/images/HorizontalFlip_0327.JPEG. Skipping.\n",
            "File already exists: /content/gdrive/MyDrive/Colab Notebooks/Reva/Capstone/data/images/HorizontalFlip_0349.jpeg. Skipping.\n",
            "File already exists: /content/gdrive/MyDrive/Colab Notebooks/Reva/Capstone/data/images/HorizontalFlip_0337.JPEG. Skipping.\n",
            "File already exists: /content/gdrive/MyDrive/Colab Notebooks/Reva/Capstone/data/images/HorizontalFlip_0319.JPEG. Skipping.\n",
            "File already exists: /content/gdrive/MyDrive/Colab Notebooks/Reva/Capstone/data/images/HorizontalFlip_0335.JPEG. Skipping.\n",
            "File already exists: /content/gdrive/MyDrive/Colab Notebooks/Reva/Capstone/data/images/HorizontalFlip_0307.JPEG. Skipping.\n",
            "File already exists: /content/gdrive/MyDrive/Colab Notebooks/Reva/Capstone/data/images/HorizontalFlip_0305.JPEG. Skipping.\n",
            "File already exists: /content/gdrive/MyDrive/Colab Notebooks/Reva/Capstone/data/images/HorizontalFlip_0168.JPEG. Skipping.\n",
            "File already exists: /content/gdrive/MyDrive/Colab Notebooks/Reva/Capstone/data/images/HorizontalFlip_0180.jpeg. Skipping.\n",
            "File already exists: /content/gdrive/MyDrive/Colab Notebooks/Reva/Capstone/data/images/HorizontalFlip_0186.JPEG. Skipping.\n",
            "File already exists: /content/gdrive/MyDrive/Colab Notebooks/Reva/Capstone/data/images/HorizontalFlip_0179.JPEG. Skipping.\n",
            "File already exists: /content/gdrive/MyDrive/Colab Notebooks/Reva/Capstone/data/images/HorizontalFlip_0101.JPEG. Skipping.\n",
            "File already exists: /content/gdrive/MyDrive/Colab Notebooks/Reva/Capstone/data/images/HorizontalFlip_0170.JPEG. Skipping.\n",
            "File already exists: /content/gdrive/MyDrive/Colab Notebooks/Reva/Capstone/data/images/HorizontalFlip_0169.jpeg. Skipping.\n",
            "File already exists: /content/gdrive/MyDrive/Colab Notebooks/Reva/Capstone/data/images/HorizontalFlip_0163.JPEG. Skipping.\n",
            "File already exists: /content/gdrive/MyDrive/Colab Notebooks/Reva/Capstone/data/images/HorizontalFlip_0304.JPEG. Skipping.\n",
            "File already exists: /content/gdrive/MyDrive/Colab Notebooks/Reva/Capstone/data/images/HorizontalFlip_0267.JPEG. Skipping.\n",
            "File already exists: /content/gdrive/MyDrive/Colab Notebooks/Reva/Capstone/data/images/HorizontalFlip_0044.JPEG. Skipping.\n",
            "File already exists: /content/gdrive/MyDrive/Colab Notebooks/Reva/Capstone/data/images/HorizontalFlip_0011.JPEG. Skipping.\n",
            "File already exists: /content/gdrive/MyDrive/Colab Notebooks/Reva/Capstone/data/images/HorizontalFlip_0020.JPEG. Skipping.\n",
            "File already exists: /content/gdrive/MyDrive/Colab Notebooks/Reva/Capstone/data/images/HorizontalFlip_0046.JPEG. Skipping.\n",
            "File already exists: /content/gdrive/MyDrive/Colab Notebooks/Reva/Capstone/data/images/HorizontalFlip_0001.JPEG. Skipping.\n",
            "File already exists: /content/gdrive/MyDrive/Colab Notebooks/Reva/Capstone/data/images/HorizontalFlip_0061.JPEG. Skipping.\n",
            "File already exists: /content/gdrive/MyDrive/Colab Notebooks/Reva/Capstone/data/images/HorizontalFlip_0045.JPEG. Skipping.\n",
            "File already exists: /content/gdrive/MyDrive/Colab Notebooks/Reva/Capstone/data/images/HorizontalFlip_0035.JPEG. Skipping.\n",
            "File already exists: /content/gdrive/MyDrive/Colab Notebooks/Reva/Capstone/data/images/HorizontalFlip_0095.JPEG. Skipping.\n",
            "File already exists: /content/gdrive/MyDrive/Colab Notebooks/Reva/Capstone/data/images/HorizontalFlip_0093.JPEG. Skipping.\n",
            "File already exists: /content/gdrive/MyDrive/Colab Notebooks/Reva/Capstone/data/images/VerticalFlip_0882.JPEG. Skipping.\n",
            "File already exists: /content/gdrive/MyDrive/Colab Notebooks/Reva/Capstone/data/images/VerticalFlip_0883.JPEG. Skipping.\n",
            "File already exists: /content/gdrive/MyDrive/Colab Notebooks/Reva/Capstone/data/images/VerticalFlip_0759.JPEG. Skipping.\n",
            "File already exists: /content/gdrive/MyDrive/Colab Notebooks/Reva/Capstone/data/images/VerticalFlip_0857.JPEG. Skipping.\n",
            "File already exists: /content/gdrive/MyDrive/Colab Notebooks/Reva/Capstone/data/images/VerticalFlip_0425.JPEG. Skipping.\n",
            "File already exists: /content/gdrive/MyDrive/Colab Notebooks/Reva/Capstone/data/images/VerticalFlip_0429.JPEG. Skipping.\n",
            "File already exists: /content/gdrive/MyDrive/Colab Notebooks/Reva/Capstone/data/images/VerticalFlip_0495.JPEG. Skipping.\n",
            "File already exists: /content/gdrive/MyDrive/Colab Notebooks/Reva/Capstone/data/images/VerticalFlip_0593.JPEG. Skipping.\n",
            "File already exists: /content/gdrive/MyDrive/Colab Notebooks/Reva/Capstone/data/images/VerticalFlip_0520.JPEG. Skipping.\n",
            "File already exists: /content/gdrive/MyDrive/Colab Notebooks/Reva/Capstone/data/images/VerticalFlip_0427.JPEG. Skipping.\n",
            "File already exists: /content/gdrive/MyDrive/Colab Notebooks/Reva/Capstone/data/images/VerticalFlip_0704.JPEG. Skipping.\n",
            "File already exists: /content/gdrive/MyDrive/Colab Notebooks/Reva/Capstone/data/images/VerticalFlip_0430.JPEG. Skipping.\n",
            "File already exists: /content/gdrive/MyDrive/Colab Notebooks/Reva/Capstone/data/images/VerticalFlip_0413.JPEG. Skipping.\n",
            "File already exists: /content/gdrive/MyDrive/Colab Notebooks/Reva/Capstone/data/images/VerticalFlip_0387.JPEG. Skipping.\n",
            "File already exists: /content/gdrive/MyDrive/Colab Notebooks/Reva/Capstone/data/images/VerticalFlip_0383.jpeg. Skipping.\n",
            "File already exists: /content/gdrive/MyDrive/Colab Notebooks/Reva/Capstone/data/images/VerticalFlip_0384.JPEG. Skipping.\n",
            "File already exists: /content/gdrive/MyDrive/Colab Notebooks/Reva/Capstone/data/images/VerticalFlip_0385.JPEG. Skipping.\n",
            "File already exists: /content/gdrive/MyDrive/Colab Notebooks/Reva/Capstone/data/images/VerticalFlip_0377.JPEG. Skipping.\n",
            "File already exists: /content/gdrive/MyDrive/Colab Notebooks/Reva/Capstone/data/images/VerticalFlip_0400.JPEG. Skipping.\n",
            "File already exists: /content/gdrive/MyDrive/Colab Notebooks/Reva/Capstone/data/images/VerticalFlip_0365.JPEG. Skipping.\n",
            "File already exists: /content/gdrive/MyDrive/Colab Notebooks/Reva/Capstone/data/images/VerticalFlip_0368.JPEG. Skipping.\n",
            "File already exists: /content/gdrive/MyDrive/Colab Notebooks/Reva/Capstone/data/images/VerticalFlip_0362.JPEG. Skipping.\n",
            "File already exists: /content/gdrive/MyDrive/Colab Notebooks/Reva/Capstone/data/images/VerticalFlip_0357.JPEG. Skipping.\n",
            "File already exists: /content/gdrive/MyDrive/Colab Notebooks/Reva/Capstone/data/images/VerticalFlip_0315.JPEG. Skipping.\n",
            "File already exists: /content/gdrive/MyDrive/Colab Notebooks/Reva/Capstone/data/images/VerticalFlip_0333.JPEG. Skipping.\n",
            "File already exists: /content/gdrive/MyDrive/Colab Notebooks/Reva/Capstone/data/images/VerticalFlip_0322.JPEG. Skipping.\n",
            "File already exists: /content/gdrive/MyDrive/Colab Notebooks/Reva/Capstone/data/images/VerticalFlip_0327.JPEG. Skipping.\n",
            "File already exists: /content/gdrive/MyDrive/Colab Notebooks/Reva/Capstone/data/images/VerticalFlip_0349.jpeg. Skipping.\n",
            "File already exists: /content/gdrive/MyDrive/Colab Notebooks/Reva/Capstone/data/images/VerticalFlip_0337.JPEG. Skipping.\n",
            "File already exists: /content/gdrive/MyDrive/Colab Notebooks/Reva/Capstone/data/images/VerticalFlip_0319.JPEG. Skipping.\n",
            "File already exists: /content/gdrive/MyDrive/Colab Notebooks/Reva/Capstone/data/images/VerticalFlip_0335.JPEG. Skipping.\n",
            "File already exists: /content/gdrive/MyDrive/Colab Notebooks/Reva/Capstone/data/images/VerticalFlip_0307.JPEG. Skipping.\n",
            "File already exists: /content/gdrive/MyDrive/Colab Notebooks/Reva/Capstone/data/images/VerticalFlip_0305.JPEG. Skipping.\n",
            "File already exists: /content/gdrive/MyDrive/Colab Notebooks/Reva/Capstone/data/images/VerticalFlip_0168.JPEG. Skipping.\n",
            "File already exists: /content/gdrive/MyDrive/Colab Notebooks/Reva/Capstone/data/images/VerticalFlip_0180.jpeg. Skipping.\n",
            "File already exists: /content/gdrive/MyDrive/Colab Notebooks/Reva/Capstone/data/images/VerticalFlip_0186.JPEG. Skipping.\n",
            "File already exists: /content/gdrive/MyDrive/Colab Notebooks/Reva/Capstone/data/images/VerticalFlip_0179.JPEG. Skipping.\n",
            "File already exists: /content/gdrive/MyDrive/Colab Notebooks/Reva/Capstone/data/images/VerticalFlip_0101.JPEG. Skipping.\n",
            "File already exists: /content/gdrive/MyDrive/Colab Notebooks/Reva/Capstone/data/images/VerticalFlip_0170.JPEG. Skipping.\n",
            "File already exists: /content/gdrive/MyDrive/Colab Notebooks/Reva/Capstone/data/images/VerticalFlip_0169.jpeg. Skipping.\n",
            "File already exists: /content/gdrive/MyDrive/Colab Notebooks/Reva/Capstone/data/images/VerticalFlip_0163.JPEG. Skipping.\n",
            "File already exists: /content/gdrive/MyDrive/Colab Notebooks/Reva/Capstone/data/images/VerticalFlip_0304.JPEG. Skipping.\n",
            "File already exists: /content/gdrive/MyDrive/Colab Notebooks/Reva/Capstone/data/images/VerticalFlip_0267.JPEG. Skipping.\n",
            "File already exists: /content/gdrive/MyDrive/Colab Notebooks/Reva/Capstone/data/images/VerticalFlip_0044.JPEG. Skipping.\n",
            "File already exists: /content/gdrive/MyDrive/Colab Notebooks/Reva/Capstone/data/images/VerticalFlip_0011.JPEG. Skipping.\n",
            "File already exists: /content/gdrive/MyDrive/Colab Notebooks/Reva/Capstone/data/images/VerticalFlip_0020.JPEG. Skipping.\n",
            "File already exists: /content/gdrive/MyDrive/Colab Notebooks/Reva/Capstone/data/images/VerticalFlip_0046.JPEG. Skipping.\n",
            "File already exists: /content/gdrive/MyDrive/Colab Notebooks/Reva/Capstone/data/images/VerticalFlip_0001.JPEG. Skipping.\n",
            "File already exists: /content/gdrive/MyDrive/Colab Notebooks/Reva/Capstone/data/images/VerticalFlip_0061.JPEG. Skipping.\n",
            "File already exists: /content/gdrive/MyDrive/Colab Notebooks/Reva/Capstone/data/images/VerticalFlip_0045.JPEG. Skipping.\n",
            "File already exists: /content/gdrive/MyDrive/Colab Notebooks/Reva/Capstone/data/images/VerticalFlip_0035.JPEG. Skipping.\n",
            "File already exists: /content/gdrive/MyDrive/Colab Notebooks/Reva/Capstone/data/images/VerticalFlip_0095.JPEG. Skipping.\n",
            "File already exists: /content/gdrive/MyDrive/Colab Notebooks/Reva/Capstone/data/images/VerticalFlip_0093.JPEG. Skipping.\n",
            "File already exists: /content/gdrive/MyDrive/Colab Notebooks/Reva/Capstone/data/images/Rotate_0882.JPEG. Skipping.\n",
            "File already exists: /content/gdrive/MyDrive/Colab Notebooks/Reva/Capstone/data/images/Rotate_0883.JPEG. Skipping.\n",
            "File already exists: /content/gdrive/MyDrive/Colab Notebooks/Reva/Capstone/data/images/Rotate_0759.JPEG. Skipping.\n",
            "File already exists: /content/gdrive/MyDrive/Colab Notebooks/Reva/Capstone/data/images/Rotate_0857.JPEG. Skipping.\n",
            "File already exists: /content/gdrive/MyDrive/Colab Notebooks/Reva/Capstone/data/images/Rotate_0425.JPEG. Skipping.\n",
            "File already exists: /content/gdrive/MyDrive/Colab Notebooks/Reva/Capstone/data/images/Rotate_0429.JPEG. Skipping.\n",
            "File already exists: /content/gdrive/MyDrive/Colab Notebooks/Reva/Capstone/data/images/Rotate_0495.JPEG. Skipping.\n",
            "File already exists: /content/gdrive/MyDrive/Colab Notebooks/Reva/Capstone/data/images/Rotate_0593.JPEG. Skipping.\n",
            "File already exists: /content/gdrive/MyDrive/Colab Notebooks/Reva/Capstone/data/images/Rotate_0520.JPEG. Skipping.\n",
            "File already exists: /content/gdrive/MyDrive/Colab Notebooks/Reva/Capstone/data/images/Rotate_0427.JPEG. Skipping.\n",
            "File already exists: /content/gdrive/MyDrive/Colab Notebooks/Reva/Capstone/data/images/Rotate_0704.JPEG. Skipping.\n",
            "File already exists: /content/gdrive/MyDrive/Colab Notebooks/Reva/Capstone/data/images/Rotate_0430.JPEG. Skipping.\n",
            "File already exists: /content/gdrive/MyDrive/Colab Notebooks/Reva/Capstone/data/images/Rotate_0413.JPEG. Skipping.\n",
            "File already exists: /content/gdrive/MyDrive/Colab Notebooks/Reva/Capstone/data/images/Rotate_0387.JPEG. Skipping.\n",
            "File already exists: /content/gdrive/MyDrive/Colab Notebooks/Reva/Capstone/data/images/Rotate_0383.jpeg. Skipping.\n",
            "File already exists: /content/gdrive/MyDrive/Colab Notebooks/Reva/Capstone/data/images/Rotate_0384.JPEG. Skipping.\n",
            "File already exists: /content/gdrive/MyDrive/Colab Notebooks/Reva/Capstone/data/images/Rotate_0385.JPEG. Skipping.\n",
            "File already exists: /content/gdrive/MyDrive/Colab Notebooks/Reva/Capstone/data/images/Rotate_0377.JPEG. Skipping.\n",
            "File already exists: /content/gdrive/MyDrive/Colab Notebooks/Reva/Capstone/data/images/Rotate_0400.JPEG. Skipping.\n",
            "File already exists: /content/gdrive/MyDrive/Colab Notebooks/Reva/Capstone/data/images/Rotate_0365.JPEG. Skipping.\n",
            "File already exists: /content/gdrive/MyDrive/Colab Notebooks/Reva/Capstone/data/images/Rotate_0368.JPEG. Skipping.\n",
            "File already exists: /content/gdrive/MyDrive/Colab Notebooks/Reva/Capstone/data/images/Rotate_0362.JPEG. Skipping.\n",
            "File already exists: /content/gdrive/MyDrive/Colab Notebooks/Reva/Capstone/data/images/Rotate_0357.JPEG. Skipping.\n",
            "File already exists: /content/gdrive/MyDrive/Colab Notebooks/Reva/Capstone/data/images/Rotate_0315.JPEG. Skipping.\n",
            "File already exists: /content/gdrive/MyDrive/Colab Notebooks/Reva/Capstone/data/images/Rotate_0333.JPEG. Skipping.\n",
            "File already exists: /content/gdrive/MyDrive/Colab Notebooks/Reva/Capstone/data/images/Rotate_0322.JPEG. Skipping.\n",
            "File already exists: /content/gdrive/MyDrive/Colab Notebooks/Reva/Capstone/data/images/Rotate_0327.JPEG. Skipping.\n",
            "File already exists: /content/gdrive/MyDrive/Colab Notebooks/Reva/Capstone/data/images/Rotate_0349.jpeg. Skipping.\n",
            "File already exists: /content/gdrive/MyDrive/Colab Notebooks/Reva/Capstone/data/images/Rotate_0337.JPEG. Skipping.\n",
            "File already exists: /content/gdrive/MyDrive/Colab Notebooks/Reva/Capstone/data/images/Rotate_0319.JPEG. Skipping.\n",
            "File already exists: /content/gdrive/MyDrive/Colab Notebooks/Reva/Capstone/data/images/Rotate_0335.JPEG. Skipping.\n",
            "File already exists: /content/gdrive/MyDrive/Colab Notebooks/Reva/Capstone/data/images/Rotate_0307.JPEG. Skipping.\n",
            "File already exists: /content/gdrive/MyDrive/Colab Notebooks/Reva/Capstone/data/images/Rotate_0305.JPEG. Skipping.\n",
            "File already exists: /content/gdrive/MyDrive/Colab Notebooks/Reva/Capstone/data/images/Rotate_0168.JPEG. Skipping.\n",
            "File already exists: /content/gdrive/MyDrive/Colab Notebooks/Reva/Capstone/data/images/Rotate_0180.jpeg. Skipping.\n",
            "File already exists: /content/gdrive/MyDrive/Colab Notebooks/Reva/Capstone/data/images/Rotate_0186.JPEG. Skipping.\n",
            "File already exists: /content/gdrive/MyDrive/Colab Notebooks/Reva/Capstone/data/images/Rotate_0179.JPEG. Skipping.\n",
            "File already exists: /content/gdrive/MyDrive/Colab Notebooks/Reva/Capstone/data/images/Rotate_0101.JPEG. Skipping.\n",
            "File already exists: /content/gdrive/MyDrive/Colab Notebooks/Reva/Capstone/data/images/Rotate_0170.JPEG. Skipping.\n",
            "File already exists: /content/gdrive/MyDrive/Colab Notebooks/Reva/Capstone/data/images/Rotate_0169.jpeg. Skipping.\n",
            "File already exists: /content/gdrive/MyDrive/Colab Notebooks/Reva/Capstone/data/images/Rotate_0163.JPEG. Skipping.\n",
            "File already exists: /content/gdrive/MyDrive/Colab Notebooks/Reva/Capstone/data/images/Rotate_0304.JPEG. Skipping.\n",
            "File already exists: /content/gdrive/MyDrive/Colab Notebooks/Reva/Capstone/data/images/Rotate_0267.JPEG. Skipping.\n",
            "File already exists: /content/gdrive/MyDrive/Colab Notebooks/Reva/Capstone/data/images/Rotate_0044.JPEG. Skipping.\n",
            "File already exists: /content/gdrive/MyDrive/Colab Notebooks/Reva/Capstone/data/images/Rotate_0011.JPEG. Skipping.\n",
            "File already exists: /content/gdrive/MyDrive/Colab Notebooks/Reva/Capstone/data/images/Rotate_0020.JPEG. Skipping.\n",
            "File already exists: /content/gdrive/MyDrive/Colab Notebooks/Reva/Capstone/data/images/Rotate_0046.JPEG. Skipping.\n",
            "File already exists: /content/gdrive/MyDrive/Colab Notebooks/Reva/Capstone/data/images/Rotate_0001.JPEG. Skipping.\n",
            "File already exists: /content/gdrive/MyDrive/Colab Notebooks/Reva/Capstone/data/images/Rotate_0061.JPEG. Skipping.\n",
            "File already exists: /content/gdrive/MyDrive/Colab Notebooks/Reva/Capstone/data/images/Rotate_0045.JPEG. Skipping.\n",
            "File already exists: /content/gdrive/MyDrive/Colab Notebooks/Reva/Capstone/data/images/Rotate_0035.JPEG. Skipping.\n",
            "File already exists: /content/gdrive/MyDrive/Colab Notebooks/Reva/Capstone/data/images/Rotate_0095.JPEG. Skipping.\n",
            "File already exists: /content/gdrive/MyDrive/Colab Notebooks/Reva/Capstone/data/images/Rotate_0093.JPEG. Skipping.\n",
            "File already exists: /content/gdrive/MyDrive/Colab Notebooks/Reva/Capstone/data/images/Gray_0882.JPEG. Skipping.\n",
            "File already exists: /content/gdrive/MyDrive/Colab Notebooks/Reva/Capstone/data/images/Gray_0883.JPEG. Skipping.\n",
            "File already exists: /content/gdrive/MyDrive/Colab Notebooks/Reva/Capstone/data/images/Gray_0759.JPEG. Skipping.\n",
            "File already exists: /content/gdrive/MyDrive/Colab Notebooks/Reva/Capstone/data/images/Gray_0857.JPEG. Skipping.\n",
            "File already exists: /content/gdrive/MyDrive/Colab Notebooks/Reva/Capstone/data/images/Gray_0425.JPEG. Skipping.\n",
            "File already exists: /content/gdrive/MyDrive/Colab Notebooks/Reva/Capstone/data/images/Gray_0429.JPEG. Skipping.\n",
            "File already exists: /content/gdrive/MyDrive/Colab Notebooks/Reva/Capstone/data/images/Gray_0495.JPEG. Skipping.\n",
            "File already exists: /content/gdrive/MyDrive/Colab Notebooks/Reva/Capstone/data/images/Gray_0593.JPEG. Skipping.\n",
            "File already exists: /content/gdrive/MyDrive/Colab Notebooks/Reva/Capstone/data/images/Gray_0520.JPEG. Skipping.\n",
            "File already exists: /content/gdrive/MyDrive/Colab Notebooks/Reva/Capstone/data/images/Gray_0427.JPEG. Skipping.\n",
            "File already exists: /content/gdrive/MyDrive/Colab Notebooks/Reva/Capstone/data/images/Gray_0704.JPEG. Skipping.\n",
            "File already exists: /content/gdrive/MyDrive/Colab Notebooks/Reva/Capstone/data/images/Gray_0430.JPEG. Skipping.\n",
            "File already exists: /content/gdrive/MyDrive/Colab Notebooks/Reva/Capstone/data/images/Gray_0413.JPEG. Skipping.\n",
            "File already exists: /content/gdrive/MyDrive/Colab Notebooks/Reva/Capstone/data/images/Gray_0387.JPEG. Skipping.\n",
            "File already exists: /content/gdrive/MyDrive/Colab Notebooks/Reva/Capstone/data/images/Gray_0383.jpeg. Skipping.\n",
            "File already exists: /content/gdrive/MyDrive/Colab Notebooks/Reva/Capstone/data/images/Gray_0384.JPEG. Skipping.\n",
            "File already exists: /content/gdrive/MyDrive/Colab Notebooks/Reva/Capstone/data/images/Gray_0385.JPEG. Skipping.\n",
            "File already exists: /content/gdrive/MyDrive/Colab Notebooks/Reva/Capstone/data/images/Gray_0377.JPEG. Skipping.\n",
            "File already exists: /content/gdrive/MyDrive/Colab Notebooks/Reva/Capstone/data/images/Gray_0400.JPEG. Skipping.\n",
            "File already exists: /content/gdrive/MyDrive/Colab Notebooks/Reva/Capstone/data/images/Gray_0365.JPEG. Skipping.\n",
            "File already exists: /content/gdrive/MyDrive/Colab Notebooks/Reva/Capstone/data/images/Gray_0368.JPEG. Skipping.\n",
            "File already exists: /content/gdrive/MyDrive/Colab Notebooks/Reva/Capstone/data/images/Gray_0362.JPEG. Skipping.\n",
            "File already exists: /content/gdrive/MyDrive/Colab Notebooks/Reva/Capstone/data/images/Gray_0357.JPEG. Skipping.\n",
            "File already exists: /content/gdrive/MyDrive/Colab Notebooks/Reva/Capstone/data/images/Gray_0315.JPEG. Skipping.\n",
            "File already exists: /content/gdrive/MyDrive/Colab Notebooks/Reva/Capstone/data/images/Gray_0333.JPEG. Skipping.\n",
            "File already exists: /content/gdrive/MyDrive/Colab Notebooks/Reva/Capstone/data/images/Gray_0322.JPEG. Skipping.\n",
            "File already exists: /content/gdrive/MyDrive/Colab Notebooks/Reva/Capstone/data/images/Gray_0327.JPEG. Skipping.\n",
            "File already exists: /content/gdrive/MyDrive/Colab Notebooks/Reva/Capstone/data/images/Gray_0349.jpeg. Skipping.\n",
            "File already exists: /content/gdrive/MyDrive/Colab Notebooks/Reva/Capstone/data/images/Gray_0337.JPEG. Skipping.\n",
            "File already exists: /content/gdrive/MyDrive/Colab Notebooks/Reva/Capstone/data/images/Gray_0319.JPEG. Skipping.\n",
            "File already exists: /content/gdrive/MyDrive/Colab Notebooks/Reva/Capstone/data/images/Gray_0335.JPEG. Skipping.\n",
            "File already exists: /content/gdrive/MyDrive/Colab Notebooks/Reva/Capstone/data/images/Gray_0307.JPEG. Skipping.\n",
            "File already exists: /content/gdrive/MyDrive/Colab Notebooks/Reva/Capstone/data/images/Gray_0305.JPEG. Skipping.\n",
            "File already exists: /content/gdrive/MyDrive/Colab Notebooks/Reva/Capstone/data/images/Gray_0168.JPEG. Skipping.\n",
            "File already exists: /content/gdrive/MyDrive/Colab Notebooks/Reva/Capstone/data/images/Gray_0180.jpeg. Skipping.\n",
            "File already exists: /content/gdrive/MyDrive/Colab Notebooks/Reva/Capstone/data/images/Gray_0186.JPEG. Skipping.\n",
            "File already exists: /content/gdrive/MyDrive/Colab Notebooks/Reva/Capstone/data/images/Gray_0179.JPEG. Skipping.\n",
            "File already exists: /content/gdrive/MyDrive/Colab Notebooks/Reva/Capstone/data/images/Gray_0101.JPEG. Skipping.\n",
            "File already exists: /content/gdrive/MyDrive/Colab Notebooks/Reva/Capstone/data/images/Gray_0170.JPEG. Skipping.\n",
            "File already exists: /content/gdrive/MyDrive/Colab Notebooks/Reva/Capstone/data/images/Gray_0169.jpeg. Skipping.\n",
            "File already exists: /content/gdrive/MyDrive/Colab Notebooks/Reva/Capstone/data/images/Gray_0163.JPEG. Skipping.\n",
            "File already exists: /content/gdrive/MyDrive/Colab Notebooks/Reva/Capstone/data/images/Gray_0304.JPEG. Skipping.\n",
            "File already exists: /content/gdrive/MyDrive/Colab Notebooks/Reva/Capstone/data/images/Gray_0267.JPEG. Skipping.\n",
            "File already exists: /content/gdrive/MyDrive/Colab Notebooks/Reva/Capstone/data/images/Gray_0044.JPEG. Skipping.\n",
            "File already exists: /content/gdrive/MyDrive/Colab Notebooks/Reva/Capstone/data/images/Gray_0011.JPEG. Skipping.\n",
            "File already exists: /content/gdrive/MyDrive/Colab Notebooks/Reva/Capstone/data/images/Gray_0020.JPEG. Skipping.\n",
            "File already exists: /content/gdrive/MyDrive/Colab Notebooks/Reva/Capstone/data/images/Gray_0046.JPEG. Skipping.\n",
            "File already exists: /content/gdrive/MyDrive/Colab Notebooks/Reva/Capstone/data/images/Gray_0001.JPEG. Skipping.\n",
            "File already exists: /content/gdrive/MyDrive/Colab Notebooks/Reva/Capstone/data/images/Gray_0061.JPEG. Skipping.\n",
            "File already exists: /content/gdrive/MyDrive/Colab Notebooks/Reva/Capstone/data/images/Gray_0045.JPEG. Skipping.\n",
            "File already exists: /content/gdrive/MyDrive/Colab Notebooks/Reva/Capstone/data/images/Gray_0035.JPEG. Skipping.\n",
            "File already exists: /content/gdrive/MyDrive/Colab Notebooks/Reva/Capstone/data/images/Gray_0095.JPEG. Skipping.\n",
            "File already exists: /content/gdrive/MyDrive/Colab Notebooks/Reva/Capstone/data/images/Gray_0093.JPEG. Skipping.\n",
            "Deleted empty directory: /content/gdrive/MyDrive/Colab Notebooks/Reva/Capstone/data/images/transformed_HorizontalFlip__images\n",
            "Deleted empty directory: /content/gdrive/MyDrive/Colab Notebooks/Reva/Capstone/data/images/transformed_VerticalFlip__images\n",
            "Deleted empty directory: /content/gdrive/MyDrive/Colab Notebooks/Reva/Capstone/data/images/transformed_Rotate__images\n",
            "Deleted empty directory: /content/gdrive/MyDrive/Colab Notebooks/Reva/Capstone/data/images/transformed_Gray__images\n"
          ]
        }
      ]
    },
    {
      "cell_type": "code",
      "source": [
        "# Example usage\n",
        "move_images_from_subdirectories(label_folder, label_folder)\n",
        "delete_empty_subdirectories(label_folder)"
      ],
      "metadata": {
        "colab": {
          "base_uri": "https://localhost:8080/"
        },
        "id": "QOYCoZS_tLLy",
        "outputId": "b46bf24b-457b-41ff-f26f-728b46fab9dc"
      },
      "execution_count": null,
      "outputs": [
        {
          "output_type": "stream",
          "name": "stdout",
          "text": [
            "File already exists: /content/gdrive/MyDrive/Colab Notebooks/Reva/Capstone/data/labels/0362.txt. Skipping.\n",
            "File already exists: /content/gdrive/MyDrive/Colab Notebooks/Reva/Capstone/data/labels/0044.txt. Skipping.\n",
            "File already exists: /content/gdrive/MyDrive/Colab Notebooks/Reva/Capstone/data/labels/0169.txt. Skipping.\n",
            "File already exists: /content/gdrive/MyDrive/Colab Notebooks/Reva/Capstone/data/labels/0305.txt. Skipping.\n",
            "File already exists: /content/gdrive/MyDrive/Colab Notebooks/Reva/Capstone/data/labels/0163.txt. Skipping.\n",
            "File already exists: /content/gdrive/MyDrive/Colab Notebooks/Reva/Capstone/data/labels/0384.txt. Skipping.\n",
            "File already exists: /content/gdrive/MyDrive/Colab Notebooks/Reva/Capstone/data/labels/0186.txt. Skipping.\n",
            "File already exists: /content/gdrive/MyDrive/Colab Notebooks/Reva/Capstone/data/labels/0495.txt. Skipping.\n",
            "File already exists: /content/gdrive/MyDrive/Colab Notebooks/Reva/Capstone/data/labels/0304.txt. Skipping.\n",
            "File already exists: /content/gdrive/MyDrive/Colab Notebooks/Reva/Capstone/data/labels/0020.txt. Skipping.\n",
            "File already exists: /content/gdrive/MyDrive/Colab Notebooks/Reva/Capstone/data/labels/0333.txt. Skipping.\n",
            "File already exists: /content/gdrive/MyDrive/Colab Notebooks/Reva/Capstone/data/labels/0593.txt. Skipping.\n",
            "File already exists: /content/gdrive/MyDrive/Colab Notebooks/Reva/Capstone/data/labels/0046.txt. Skipping.\n",
            "File already exists: /content/gdrive/MyDrive/Colab Notebooks/Reva/Capstone/data/labels/0520.txt. Skipping.\n",
            "File already exists: /content/gdrive/MyDrive/Colab Notebooks/Reva/Capstone/data/labels/0368.txt. Skipping.\n",
            "File already exists: /content/gdrive/MyDrive/Colab Notebooks/Reva/Capstone/data/labels/0267.txt. Skipping.\n",
            "File already exists: /content/gdrive/MyDrive/Colab Notebooks/Reva/Capstone/data/labels/0061.txt. Skipping.\n",
            "File already exists: /content/gdrive/MyDrive/Colab Notebooks/Reva/Capstone/data/labels/0365.txt. Skipping.\n",
            "File already exists: /content/gdrive/MyDrive/Colab Notebooks/Reva/Capstone/data/labels/0315.txt. Skipping.\n",
            "File already exists: /content/gdrive/MyDrive/Colab Notebooks/Reva/Capstone/data/labels/0035.txt. Skipping.\n",
            "File already exists: /content/gdrive/MyDrive/Colab Notebooks/Reva/Capstone/data/labels/0357.txt. Skipping.\n",
            "File already exists: /content/gdrive/MyDrive/Colab Notebooks/Reva/Capstone/data/labels/0045.txt. Skipping.\n",
            "File already exists: /content/gdrive/MyDrive/Colab Notebooks/Reva/Capstone/data/labels/0704.txt. Skipping.\n",
            "File already exists: /content/gdrive/MyDrive/Colab Notebooks/Reva/Capstone/data/labels/0093.txt. Skipping.\n",
            "File already exists: /content/gdrive/MyDrive/Colab Notebooks/Reva/Capstone/data/labels/0425.txt. Skipping.\n",
            "File already exists: /content/gdrive/MyDrive/Colab Notebooks/Reva/Capstone/data/labels/0400.txt. Skipping.\n",
            "File already exists: /content/gdrive/MyDrive/Colab Notebooks/Reva/Capstone/data/labels/0337.txt. Skipping.\n",
            "File already exists: /content/gdrive/MyDrive/Colab Notebooks/Reva/Capstone/data/labels/0413.txt. Skipping.\n",
            "File already exists: /content/gdrive/MyDrive/Colab Notebooks/Reva/Capstone/data/labels/0168.txt. Skipping.\n",
            "File already exists: /content/gdrive/MyDrive/Colab Notebooks/Reva/Capstone/data/labels/0385.txt. Skipping.\n",
            "File already exists: /content/gdrive/MyDrive/Colab Notebooks/Reva/Capstone/data/labels/0429.txt. Skipping.\n",
            "File already exists: /content/gdrive/MyDrive/Colab Notebooks/Reva/Capstone/data/labels/0377.txt. Skipping.\n",
            "File already exists: /content/gdrive/MyDrive/Colab Notebooks/Reva/Capstone/data/labels/0422.txt. Skipping.\n",
            "File already exists: /content/gdrive/MyDrive/Colab Notebooks/Reva/Capstone/data/labels/0883.txt. Skipping.\n",
            "File already exists: /content/gdrive/MyDrive/Colab Notebooks/Reva/Capstone/data/labels/0349.txt. Skipping.\n",
            "File already exists: /content/gdrive/MyDrive/Colab Notebooks/Reva/Capstone/data/labels/0383.txt. Skipping.\n",
            "File already exists: /content/gdrive/MyDrive/Colab Notebooks/Reva/Capstone/data/labels/0095.txt. Skipping.\n",
            "File already exists: /content/gdrive/MyDrive/Colab Notebooks/Reva/Capstone/data/labels/0387.txt. Skipping.\n",
            "File already exists: /content/gdrive/MyDrive/Colab Notebooks/Reva/Capstone/data/labels/0307.txt. Skipping.\n",
            "File already exists: /content/gdrive/MyDrive/Colab Notebooks/Reva/Capstone/data/labels/0170.txt. Skipping.\n",
            "File already exists: /content/gdrive/MyDrive/Colab Notebooks/Reva/Capstone/data/labels/0319.txt. Skipping.\n",
            "File already exists: /content/gdrive/MyDrive/Colab Notebooks/Reva/Capstone/data/labels/0179.txt. Skipping.\n",
            "File already exists: /content/gdrive/MyDrive/Colab Notebooks/Reva/Capstone/data/labels/0327.txt. Skipping.\n",
            "File already exists: /content/gdrive/MyDrive/Colab Notebooks/Reva/Capstone/data/labels/0882.txt. Skipping.\n",
            "File already exists: /content/gdrive/MyDrive/Colab Notebooks/Reva/Capstone/data/labels/0011.txt. Skipping.\n",
            "File already exists: /content/gdrive/MyDrive/Colab Notebooks/Reva/Capstone/data/labels/0759.txt. Skipping.\n",
            "File already exists: /content/gdrive/MyDrive/Colab Notebooks/Reva/Capstone/data/labels/0322.txt. Skipping.\n",
            "File already exists: /content/gdrive/MyDrive/Colab Notebooks/Reva/Capstone/data/labels/0427.txt. Skipping.\n",
            "File already exists: /content/gdrive/MyDrive/Colab Notebooks/Reva/Capstone/data/labels/0335.txt. Skipping.\n",
            "File already exists: /content/gdrive/MyDrive/Colab Notebooks/Reva/Capstone/data/labels/0430.txt. Skipping.\n",
            "File already exists: /content/gdrive/MyDrive/Colab Notebooks/Reva/Capstone/data/labels/0180.txt. Skipping.\n",
            "File already exists: /content/gdrive/MyDrive/Colab Notebooks/Reva/Capstone/data/labels/0101.txt. Skipping.\n",
            "File already exists: /content/gdrive/MyDrive/Colab Notebooks/Reva/Capstone/data/labels/0001.txt. Skipping.\n",
            "File already exists: /content/gdrive/MyDrive/Colab Notebooks/Reva/Capstone/data/labels/0857.txt. Skipping.\n",
            "Moved file: /content/gdrive/MyDrive/Colab Notebooks/Reva/Capstone/data/labels/transformed_HorizontalFlip__labels/HorizontalFlip_0882.txt to /content/gdrive/MyDrive/Colab Notebooks/Reva/Capstone/data/labels/HorizontalFlip_0882.txt\n",
            "Moved file: /content/gdrive/MyDrive/Colab Notebooks/Reva/Capstone/data/labels/transformed_HorizontalFlip__labels/HorizontalFlip_0883.txt to /content/gdrive/MyDrive/Colab Notebooks/Reva/Capstone/data/labels/HorizontalFlip_0883.txt\n",
            "Moved file: /content/gdrive/MyDrive/Colab Notebooks/Reva/Capstone/data/labels/transformed_HorizontalFlip__labels/HorizontalFlip_0759.txt to /content/gdrive/MyDrive/Colab Notebooks/Reva/Capstone/data/labels/HorizontalFlip_0759.txt\n",
            "Moved file: /content/gdrive/MyDrive/Colab Notebooks/Reva/Capstone/data/labels/transformed_HorizontalFlip__labels/HorizontalFlip_0857.txt to /content/gdrive/MyDrive/Colab Notebooks/Reva/Capstone/data/labels/HorizontalFlip_0857.txt\n",
            "Moved file: /content/gdrive/MyDrive/Colab Notebooks/Reva/Capstone/data/labels/transformed_HorizontalFlip__labels/HorizontalFlip_0425.txt to /content/gdrive/MyDrive/Colab Notebooks/Reva/Capstone/data/labels/HorizontalFlip_0425.txt\n",
            "Moved file: /content/gdrive/MyDrive/Colab Notebooks/Reva/Capstone/data/labels/transformed_HorizontalFlip__labels/HorizontalFlip_0429.txt to /content/gdrive/MyDrive/Colab Notebooks/Reva/Capstone/data/labels/HorizontalFlip_0429.txt\n",
            "Moved file: /content/gdrive/MyDrive/Colab Notebooks/Reva/Capstone/data/labels/transformed_HorizontalFlip__labels/HorizontalFlip_0495.txt to /content/gdrive/MyDrive/Colab Notebooks/Reva/Capstone/data/labels/HorizontalFlip_0495.txt\n",
            "Moved file: /content/gdrive/MyDrive/Colab Notebooks/Reva/Capstone/data/labels/transformed_HorizontalFlip__labels/HorizontalFlip_0593.txt to /content/gdrive/MyDrive/Colab Notebooks/Reva/Capstone/data/labels/HorizontalFlip_0593.txt\n",
            "Moved file: /content/gdrive/MyDrive/Colab Notebooks/Reva/Capstone/data/labels/transformed_HorizontalFlip__labels/HorizontalFlip_0520.txt to /content/gdrive/MyDrive/Colab Notebooks/Reva/Capstone/data/labels/HorizontalFlip_0520.txt\n",
            "Moved file: /content/gdrive/MyDrive/Colab Notebooks/Reva/Capstone/data/labels/transformed_HorizontalFlip__labels/HorizontalFlip_0427.txt to /content/gdrive/MyDrive/Colab Notebooks/Reva/Capstone/data/labels/HorizontalFlip_0427.txt\n",
            "Moved file: /content/gdrive/MyDrive/Colab Notebooks/Reva/Capstone/data/labels/transformed_HorizontalFlip__labels/HorizontalFlip_0704.txt to /content/gdrive/MyDrive/Colab Notebooks/Reva/Capstone/data/labels/HorizontalFlip_0704.txt\n",
            "Moved file: /content/gdrive/MyDrive/Colab Notebooks/Reva/Capstone/data/labels/transformed_HorizontalFlip__labels/HorizontalFlip_0430.txt to /content/gdrive/MyDrive/Colab Notebooks/Reva/Capstone/data/labels/HorizontalFlip_0430.txt\n",
            "Moved file: /content/gdrive/MyDrive/Colab Notebooks/Reva/Capstone/data/labels/transformed_HorizontalFlip__labels/HorizontalFlip_0413.txt to /content/gdrive/MyDrive/Colab Notebooks/Reva/Capstone/data/labels/HorizontalFlip_0413.txt\n",
            "Moved file: /content/gdrive/MyDrive/Colab Notebooks/Reva/Capstone/data/labels/transformed_HorizontalFlip__labels/HorizontalFlip_0387.txt to /content/gdrive/MyDrive/Colab Notebooks/Reva/Capstone/data/labels/HorizontalFlip_0387.txt\n",
            "Moved file: /content/gdrive/MyDrive/Colab Notebooks/Reva/Capstone/data/labels/transformed_HorizontalFlip__labels/HorizontalFlip_0383.txt to /content/gdrive/MyDrive/Colab Notebooks/Reva/Capstone/data/labels/HorizontalFlip_0383.txt\n",
            "Moved file: /content/gdrive/MyDrive/Colab Notebooks/Reva/Capstone/data/labels/transformed_HorizontalFlip__labels/HorizontalFlip_0384.txt to /content/gdrive/MyDrive/Colab Notebooks/Reva/Capstone/data/labels/HorizontalFlip_0384.txt\n",
            "Moved file: /content/gdrive/MyDrive/Colab Notebooks/Reva/Capstone/data/labels/transformed_HorizontalFlip__labels/HorizontalFlip_0385.txt to /content/gdrive/MyDrive/Colab Notebooks/Reva/Capstone/data/labels/HorizontalFlip_0385.txt\n",
            "Moved file: /content/gdrive/MyDrive/Colab Notebooks/Reva/Capstone/data/labels/transformed_HorizontalFlip__labels/HorizontalFlip_0377.txt to /content/gdrive/MyDrive/Colab Notebooks/Reva/Capstone/data/labels/HorizontalFlip_0377.txt\n",
            "Moved file: /content/gdrive/MyDrive/Colab Notebooks/Reva/Capstone/data/labels/transformed_HorizontalFlip__labels/HorizontalFlip_0400.txt to /content/gdrive/MyDrive/Colab Notebooks/Reva/Capstone/data/labels/HorizontalFlip_0400.txt\n",
            "Moved file: /content/gdrive/MyDrive/Colab Notebooks/Reva/Capstone/data/labels/transformed_HorizontalFlip__labels/HorizontalFlip_0365.txt to /content/gdrive/MyDrive/Colab Notebooks/Reva/Capstone/data/labels/HorizontalFlip_0365.txt\n",
            "Moved file: /content/gdrive/MyDrive/Colab Notebooks/Reva/Capstone/data/labels/transformed_HorizontalFlip__labels/HorizontalFlip_0368.txt to /content/gdrive/MyDrive/Colab Notebooks/Reva/Capstone/data/labels/HorizontalFlip_0368.txt\n",
            "Moved file: /content/gdrive/MyDrive/Colab Notebooks/Reva/Capstone/data/labels/transformed_HorizontalFlip__labels/HorizontalFlip_0362.txt to /content/gdrive/MyDrive/Colab Notebooks/Reva/Capstone/data/labels/HorizontalFlip_0362.txt\n",
            "Moved file: /content/gdrive/MyDrive/Colab Notebooks/Reva/Capstone/data/labels/transformed_HorizontalFlip__labels/HorizontalFlip_0357.txt to /content/gdrive/MyDrive/Colab Notebooks/Reva/Capstone/data/labels/HorizontalFlip_0357.txt\n",
            "Moved file: /content/gdrive/MyDrive/Colab Notebooks/Reva/Capstone/data/labels/transformed_HorizontalFlip__labels/HorizontalFlip_0315.txt to /content/gdrive/MyDrive/Colab Notebooks/Reva/Capstone/data/labels/HorizontalFlip_0315.txt\n",
            "Moved file: /content/gdrive/MyDrive/Colab Notebooks/Reva/Capstone/data/labels/transformed_HorizontalFlip__labels/HorizontalFlip_0333.txt to /content/gdrive/MyDrive/Colab Notebooks/Reva/Capstone/data/labels/HorizontalFlip_0333.txt\n",
            "Moved file: /content/gdrive/MyDrive/Colab Notebooks/Reva/Capstone/data/labels/transformed_HorizontalFlip__labels/HorizontalFlip_0322.txt to /content/gdrive/MyDrive/Colab Notebooks/Reva/Capstone/data/labels/HorizontalFlip_0322.txt\n",
            "Moved file: /content/gdrive/MyDrive/Colab Notebooks/Reva/Capstone/data/labels/transformed_HorizontalFlip__labels/HorizontalFlip_0327.txt to /content/gdrive/MyDrive/Colab Notebooks/Reva/Capstone/data/labels/HorizontalFlip_0327.txt\n",
            "Moved file: /content/gdrive/MyDrive/Colab Notebooks/Reva/Capstone/data/labels/transformed_HorizontalFlip__labels/HorizontalFlip_0349.txt to /content/gdrive/MyDrive/Colab Notebooks/Reva/Capstone/data/labels/HorizontalFlip_0349.txt\n",
            "Moved file: /content/gdrive/MyDrive/Colab Notebooks/Reva/Capstone/data/labels/transformed_HorizontalFlip__labels/HorizontalFlip_0337.txt to /content/gdrive/MyDrive/Colab Notebooks/Reva/Capstone/data/labels/HorizontalFlip_0337.txt\n",
            "Moved file: /content/gdrive/MyDrive/Colab Notebooks/Reva/Capstone/data/labels/transformed_HorizontalFlip__labels/HorizontalFlip_0319.txt to /content/gdrive/MyDrive/Colab Notebooks/Reva/Capstone/data/labels/HorizontalFlip_0319.txt\n",
            "Moved file: /content/gdrive/MyDrive/Colab Notebooks/Reva/Capstone/data/labels/transformed_HorizontalFlip__labels/HorizontalFlip_0335.txt to /content/gdrive/MyDrive/Colab Notebooks/Reva/Capstone/data/labels/HorizontalFlip_0335.txt\n",
            "Moved file: /content/gdrive/MyDrive/Colab Notebooks/Reva/Capstone/data/labels/transformed_HorizontalFlip__labels/HorizontalFlip_0307.txt to /content/gdrive/MyDrive/Colab Notebooks/Reva/Capstone/data/labels/HorizontalFlip_0307.txt\n",
            "Moved file: /content/gdrive/MyDrive/Colab Notebooks/Reva/Capstone/data/labels/transformed_HorizontalFlip__labels/HorizontalFlip_0305.txt to /content/gdrive/MyDrive/Colab Notebooks/Reva/Capstone/data/labels/HorizontalFlip_0305.txt\n",
            "Moved file: /content/gdrive/MyDrive/Colab Notebooks/Reva/Capstone/data/labels/transformed_HorizontalFlip__labels/HorizontalFlip_0168.txt to /content/gdrive/MyDrive/Colab Notebooks/Reva/Capstone/data/labels/HorizontalFlip_0168.txt\n",
            "Moved file: /content/gdrive/MyDrive/Colab Notebooks/Reva/Capstone/data/labels/transformed_HorizontalFlip__labels/HorizontalFlip_0180.txt to /content/gdrive/MyDrive/Colab Notebooks/Reva/Capstone/data/labels/HorizontalFlip_0180.txt\n",
            "Moved file: /content/gdrive/MyDrive/Colab Notebooks/Reva/Capstone/data/labels/transformed_HorizontalFlip__labels/HorizontalFlip_0186.txt to /content/gdrive/MyDrive/Colab Notebooks/Reva/Capstone/data/labels/HorizontalFlip_0186.txt\n",
            "Moved file: /content/gdrive/MyDrive/Colab Notebooks/Reva/Capstone/data/labels/transformed_HorizontalFlip__labels/HorizontalFlip_0179.txt to /content/gdrive/MyDrive/Colab Notebooks/Reva/Capstone/data/labels/HorizontalFlip_0179.txt\n",
            "Moved file: /content/gdrive/MyDrive/Colab Notebooks/Reva/Capstone/data/labels/transformed_HorizontalFlip__labels/HorizontalFlip_0101.txt to /content/gdrive/MyDrive/Colab Notebooks/Reva/Capstone/data/labels/HorizontalFlip_0101.txt\n",
            "Moved file: /content/gdrive/MyDrive/Colab Notebooks/Reva/Capstone/data/labels/transformed_HorizontalFlip__labels/HorizontalFlip_0170.txt to /content/gdrive/MyDrive/Colab Notebooks/Reva/Capstone/data/labels/HorizontalFlip_0170.txt\n",
            "Moved file: /content/gdrive/MyDrive/Colab Notebooks/Reva/Capstone/data/labels/transformed_HorizontalFlip__labels/HorizontalFlip_0169.txt to /content/gdrive/MyDrive/Colab Notebooks/Reva/Capstone/data/labels/HorizontalFlip_0169.txt\n",
            "Moved file: /content/gdrive/MyDrive/Colab Notebooks/Reva/Capstone/data/labels/transformed_HorizontalFlip__labels/HorizontalFlip_0163.txt to /content/gdrive/MyDrive/Colab Notebooks/Reva/Capstone/data/labels/HorizontalFlip_0163.txt\n",
            "Moved file: /content/gdrive/MyDrive/Colab Notebooks/Reva/Capstone/data/labels/transformed_HorizontalFlip__labels/HorizontalFlip_0304.txt to /content/gdrive/MyDrive/Colab Notebooks/Reva/Capstone/data/labels/HorizontalFlip_0304.txt\n",
            "Moved file: /content/gdrive/MyDrive/Colab Notebooks/Reva/Capstone/data/labels/transformed_HorizontalFlip__labels/HorizontalFlip_0267.txt to /content/gdrive/MyDrive/Colab Notebooks/Reva/Capstone/data/labels/HorizontalFlip_0267.txt\n",
            "Moved file: /content/gdrive/MyDrive/Colab Notebooks/Reva/Capstone/data/labels/transformed_HorizontalFlip__labels/HorizontalFlip_0044.txt to /content/gdrive/MyDrive/Colab Notebooks/Reva/Capstone/data/labels/HorizontalFlip_0044.txt\n",
            "Moved file: /content/gdrive/MyDrive/Colab Notebooks/Reva/Capstone/data/labels/transformed_HorizontalFlip__labels/HorizontalFlip_0011.txt to /content/gdrive/MyDrive/Colab Notebooks/Reva/Capstone/data/labels/HorizontalFlip_0011.txt\n",
            "Moved file: /content/gdrive/MyDrive/Colab Notebooks/Reva/Capstone/data/labels/transformed_HorizontalFlip__labels/HorizontalFlip_0020.txt to /content/gdrive/MyDrive/Colab Notebooks/Reva/Capstone/data/labels/HorizontalFlip_0020.txt\n",
            "Moved file: /content/gdrive/MyDrive/Colab Notebooks/Reva/Capstone/data/labels/transformed_HorizontalFlip__labels/HorizontalFlip_0046.txt to /content/gdrive/MyDrive/Colab Notebooks/Reva/Capstone/data/labels/HorizontalFlip_0046.txt\n",
            "Moved file: /content/gdrive/MyDrive/Colab Notebooks/Reva/Capstone/data/labels/transformed_HorizontalFlip__labels/HorizontalFlip_0001.txt to /content/gdrive/MyDrive/Colab Notebooks/Reva/Capstone/data/labels/HorizontalFlip_0001.txt\n",
            "Moved file: /content/gdrive/MyDrive/Colab Notebooks/Reva/Capstone/data/labels/transformed_HorizontalFlip__labels/HorizontalFlip_0061.txt to /content/gdrive/MyDrive/Colab Notebooks/Reva/Capstone/data/labels/HorizontalFlip_0061.txt\n",
            "Moved file: /content/gdrive/MyDrive/Colab Notebooks/Reva/Capstone/data/labels/transformed_HorizontalFlip__labels/HorizontalFlip_0045.txt to /content/gdrive/MyDrive/Colab Notebooks/Reva/Capstone/data/labels/HorizontalFlip_0045.txt\n",
            "Moved file: /content/gdrive/MyDrive/Colab Notebooks/Reva/Capstone/data/labels/transformed_HorizontalFlip__labels/HorizontalFlip_0035.txt to /content/gdrive/MyDrive/Colab Notebooks/Reva/Capstone/data/labels/HorizontalFlip_0035.txt\n",
            "Moved file: /content/gdrive/MyDrive/Colab Notebooks/Reva/Capstone/data/labels/transformed_HorizontalFlip__labels/HorizontalFlip_0095.txt to /content/gdrive/MyDrive/Colab Notebooks/Reva/Capstone/data/labels/HorizontalFlip_0095.txt\n",
            "Moved file: /content/gdrive/MyDrive/Colab Notebooks/Reva/Capstone/data/labels/transformed_HorizontalFlip__labels/HorizontalFlip_0093.txt to /content/gdrive/MyDrive/Colab Notebooks/Reva/Capstone/data/labels/HorizontalFlip_0093.txt\n",
            "Moved file: /content/gdrive/MyDrive/Colab Notebooks/Reva/Capstone/data/labels/transformed_VerticalFlip__labels/VerticalFlip_0882.txt to /content/gdrive/MyDrive/Colab Notebooks/Reva/Capstone/data/labels/VerticalFlip_0882.txt\n",
            "Moved file: /content/gdrive/MyDrive/Colab Notebooks/Reva/Capstone/data/labels/transformed_VerticalFlip__labels/VerticalFlip_0883.txt to /content/gdrive/MyDrive/Colab Notebooks/Reva/Capstone/data/labels/VerticalFlip_0883.txt\n",
            "Moved file: /content/gdrive/MyDrive/Colab Notebooks/Reva/Capstone/data/labels/transformed_VerticalFlip__labels/VerticalFlip_0759.txt to /content/gdrive/MyDrive/Colab Notebooks/Reva/Capstone/data/labels/VerticalFlip_0759.txt\n",
            "Moved file: /content/gdrive/MyDrive/Colab Notebooks/Reva/Capstone/data/labels/transformed_VerticalFlip__labels/VerticalFlip_0857.txt to /content/gdrive/MyDrive/Colab Notebooks/Reva/Capstone/data/labels/VerticalFlip_0857.txt\n",
            "Moved file: /content/gdrive/MyDrive/Colab Notebooks/Reva/Capstone/data/labels/transformed_VerticalFlip__labels/VerticalFlip_0425.txt to /content/gdrive/MyDrive/Colab Notebooks/Reva/Capstone/data/labels/VerticalFlip_0425.txt\n",
            "Moved file: /content/gdrive/MyDrive/Colab Notebooks/Reva/Capstone/data/labels/transformed_VerticalFlip__labels/VerticalFlip_0429.txt to /content/gdrive/MyDrive/Colab Notebooks/Reva/Capstone/data/labels/VerticalFlip_0429.txt\n",
            "Moved file: /content/gdrive/MyDrive/Colab Notebooks/Reva/Capstone/data/labels/transformed_VerticalFlip__labels/VerticalFlip_0495.txt to /content/gdrive/MyDrive/Colab Notebooks/Reva/Capstone/data/labels/VerticalFlip_0495.txt\n",
            "Moved file: /content/gdrive/MyDrive/Colab Notebooks/Reva/Capstone/data/labels/transformed_VerticalFlip__labels/VerticalFlip_0593.txt to /content/gdrive/MyDrive/Colab Notebooks/Reva/Capstone/data/labels/VerticalFlip_0593.txt\n",
            "Moved file: /content/gdrive/MyDrive/Colab Notebooks/Reva/Capstone/data/labels/transformed_VerticalFlip__labels/VerticalFlip_0520.txt to /content/gdrive/MyDrive/Colab Notebooks/Reva/Capstone/data/labels/VerticalFlip_0520.txt\n",
            "Moved file: /content/gdrive/MyDrive/Colab Notebooks/Reva/Capstone/data/labels/transformed_VerticalFlip__labels/VerticalFlip_0427.txt to /content/gdrive/MyDrive/Colab Notebooks/Reva/Capstone/data/labels/VerticalFlip_0427.txt\n",
            "Moved file: /content/gdrive/MyDrive/Colab Notebooks/Reva/Capstone/data/labels/transformed_VerticalFlip__labels/VerticalFlip_0704.txt to /content/gdrive/MyDrive/Colab Notebooks/Reva/Capstone/data/labels/VerticalFlip_0704.txt\n",
            "Moved file: /content/gdrive/MyDrive/Colab Notebooks/Reva/Capstone/data/labels/transformed_VerticalFlip__labels/VerticalFlip_0430.txt to /content/gdrive/MyDrive/Colab Notebooks/Reva/Capstone/data/labels/VerticalFlip_0430.txt\n",
            "Moved file: /content/gdrive/MyDrive/Colab Notebooks/Reva/Capstone/data/labels/transformed_VerticalFlip__labels/VerticalFlip_0413.txt to /content/gdrive/MyDrive/Colab Notebooks/Reva/Capstone/data/labels/VerticalFlip_0413.txt\n",
            "Moved file: /content/gdrive/MyDrive/Colab Notebooks/Reva/Capstone/data/labels/transformed_VerticalFlip__labels/VerticalFlip_0387.txt to /content/gdrive/MyDrive/Colab Notebooks/Reva/Capstone/data/labels/VerticalFlip_0387.txt\n",
            "Moved file: /content/gdrive/MyDrive/Colab Notebooks/Reva/Capstone/data/labels/transformed_VerticalFlip__labels/VerticalFlip_0383.txt to /content/gdrive/MyDrive/Colab Notebooks/Reva/Capstone/data/labels/VerticalFlip_0383.txt\n",
            "Moved file: /content/gdrive/MyDrive/Colab Notebooks/Reva/Capstone/data/labels/transformed_VerticalFlip__labels/VerticalFlip_0384.txt to /content/gdrive/MyDrive/Colab Notebooks/Reva/Capstone/data/labels/VerticalFlip_0384.txt\n",
            "Moved file: /content/gdrive/MyDrive/Colab Notebooks/Reva/Capstone/data/labels/transformed_VerticalFlip__labels/VerticalFlip_0385.txt to /content/gdrive/MyDrive/Colab Notebooks/Reva/Capstone/data/labels/VerticalFlip_0385.txt\n",
            "Moved file: /content/gdrive/MyDrive/Colab Notebooks/Reva/Capstone/data/labels/transformed_VerticalFlip__labels/VerticalFlip_0377.txt to /content/gdrive/MyDrive/Colab Notebooks/Reva/Capstone/data/labels/VerticalFlip_0377.txt\n",
            "Moved file: /content/gdrive/MyDrive/Colab Notebooks/Reva/Capstone/data/labels/transformed_VerticalFlip__labels/VerticalFlip_0400.txt to /content/gdrive/MyDrive/Colab Notebooks/Reva/Capstone/data/labels/VerticalFlip_0400.txt\n",
            "Moved file: /content/gdrive/MyDrive/Colab Notebooks/Reva/Capstone/data/labels/transformed_VerticalFlip__labels/VerticalFlip_0365.txt to /content/gdrive/MyDrive/Colab Notebooks/Reva/Capstone/data/labels/VerticalFlip_0365.txt\n",
            "Moved file: /content/gdrive/MyDrive/Colab Notebooks/Reva/Capstone/data/labels/transformed_VerticalFlip__labels/VerticalFlip_0368.txt to /content/gdrive/MyDrive/Colab Notebooks/Reva/Capstone/data/labels/VerticalFlip_0368.txt\n",
            "Moved file: /content/gdrive/MyDrive/Colab Notebooks/Reva/Capstone/data/labels/transformed_VerticalFlip__labels/VerticalFlip_0362.txt to /content/gdrive/MyDrive/Colab Notebooks/Reva/Capstone/data/labels/VerticalFlip_0362.txt\n",
            "Moved file: /content/gdrive/MyDrive/Colab Notebooks/Reva/Capstone/data/labels/transformed_VerticalFlip__labels/VerticalFlip_0357.txt to /content/gdrive/MyDrive/Colab Notebooks/Reva/Capstone/data/labels/VerticalFlip_0357.txt\n",
            "Moved file: /content/gdrive/MyDrive/Colab Notebooks/Reva/Capstone/data/labels/transformed_VerticalFlip__labels/VerticalFlip_0315.txt to /content/gdrive/MyDrive/Colab Notebooks/Reva/Capstone/data/labels/VerticalFlip_0315.txt\n",
            "Moved file: /content/gdrive/MyDrive/Colab Notebooks/Reva/Capstone/data/labels/transformed_VerticalFlip__labels/VerticalFlip_0333.txt to /content/gdrive/MyDrive/Colab Notebooks/Reva/Capstone/data/labels/VerticalFlip_0333.txt\n",
            "Moved file: /content/gdrive/MyDrive/Colab Notebooks/Reva/Capstone/data/labels/transformed_VerticalFlip__labels/VerticalFlip_0322.txt to /content/gdrive/MyDrive/Colab Notebooks/Reva/Capstone/data/labels/VerticalFlip_0322.txt\n",
            "Moved file: /content/gdrive/MyDrive/Colab Notebooks/Reva/Capstone/data/labels/transformed_VerticalFlip__labels/VerticalFlip_0327.txt to /content/gdrive/MyDrive/Colab Notebooks/Reva/Capstone/data/labels/VerticalFlip_0327.txt\n",
            "Moved file: /content/gdrive/MyDrive/Colab Notebooks/Reva/Capstone/data/labels/transformed_VerticalFlip__labels/VerticalFlip_0349.txt to /content/gdrive/MyDrive/Colab Notebooks/Reva/Capstone/data/labels/VerticalFlip_0349.txt\n",
            "Moved file: /content/gdrive/MyDrive/Colab Notebooks/Reva/Capstone/data/labels/transformed_VerticalFlip__labels/VerticalFlip_0337.txt to /content/gdrive/MyDrive/Colab Notebooks/Reva/Capstone/data/labels/VerticalFlip_0337.txt\n",
            "Moved file: /content/gdrive/MyDrive/Colab Notebooks/Reva/Capstone/data/labels/transformed_VerticalFlip__labels/VerticalFlip_0319.txt to /content/gdrive/MyDrive/Colab Notebooks/Reva/Capstone/data/labels/VerticalFlip_0319.txt\n",
            "Moved file: /content/gdrive/MyDrive/Colab Notebooks/Reva/Capstone/data/labels/transformed_VerticalFlip__labels/VerticalFlip_0335.txt to /content/gdrive/MyDrive/Colab Notebooks/Reva/Capstone/data/labels/VerticalFlip_0335.txt\n",
            "Moved file: /content/gdrive/MyDrive/Colab Notebooks/Reva/Capstone/data/labels/transformed_VerticalFlip__labels/VerticalFlip_0307.txt to /content/gdrive/MyDrive/Colab Notebooks/Reva/Capstone/data/labels/VerticalFlip_0307.txt\n",
            "Moved file: /content/gdrive/MyDrive/Colab Notebooks/Reva/Capstone/data/labels/transformed_VerticalFlip__labels/VerticalFlip_0305.txt to /content/gdrive/MyDrive/Colab Notebooks/Reva/Capstone/data/labels/VerticalFlip_0305.txt\n",
            "Moved file: /content/gdrive/MyDrive/Colab Notebooks/Reva/Capstone/data/labels/transformed_VerticalFlip__labels/VerticalFlip_0168.txt to /content/gdrive/MyDrive/Colab Notebooks/Reva/Capstone/data/labels/VerticalFlip_0168.txt\n",
            "Moved file: /content/gdrive/MyDrive/Colab Notebooks/Reva/Capstone/data/labels/transformed_VerticalFlip__labels/VerticalFlip_0180.txt to /content/gdrive/MyDrive/Colab Notebooks/Reva/Capstone/data/labels/VerticalFlip_0180.txt\n",
            "Moved file: /content/gdrive/MyDrive/Colab Notebooks/Reva/Capstone/data/labels/transformed_VerticalFlip__labels/VerticalFlip_0186.txt to /content/gdrive/MyDrive/Colab Notebooks/Reva/Capstone/data/labels/VerticalFlip_0186.txt\n",
            "Moved file: /content/gdrive/MyDrive/Colab Notebooks/Reva/Capstone/data/labels/transformed_VerticalFlip__labels/VerticalFlip_0179.txt to /content/gdrive/MyDrive/Colab Notebooks/Reva/Capstone/data/labels/VerticalFlip_0179.txt\n",
            "Moved file: /content/gdrive/MyDrive/Colab Notebooks/Reva/Capstone/data/labels/transformed_VerticalFlip__labels/VerticalFlip_0101.txt to /content/gdrive/MyDrive/Colab Notebooks/Reva/Capstone/data/labels/VerticalFlip_0101.txt\n",
            "Moved file: /content/gdrive/MyDrive/Colab Notebooks/Reva/Capstone/data/labels/transformed_VerticalFlip__labels/VerticalFlip_0170.txt to /content/gdrive/MyDrive/Colab Notebooks/Reva/Capstone/data/labels/VerticalFlip_0170.txt\n",
            "Moved file: /content/gdrive/MyDrive/Colab Notebooks/Reva/Capstone/data/labels/transformed_VerticalFlip__labels/VerticalFlip_0169.txt to /content/gdrive/MyDrive/Colab Notebooks/Reva/Capstone/data/labels/VerticalFlip_0169.txt\n",
            "Moved file: /content/gdrive/MyDrive/Colab Notebooks/Reva/Capstone/data/labels/transformed_VerticalFlip__labels/VerticalFlip_0163.txt to /content/gdrive/MyDrive/Colab Notebooks/Reva/Capstone/data/labels/VerticalFlip_0163.txt\n",
            "Moved file: /content/gdrive/MyDrive/Colab Notebooks/Reva/Capstone/data/labels/transformed_VerticalFlip__labels/VerticalFlip_0304.txt to /content/gdrive/MyDrive/Colab Notebooks/Reva/Capstone/data/labels/VerticalFlip_0304.txt\n",
            "Moved file: /content/gdrive/MyDrive/Colab Notebooks/Reva/Capstone/data/labels/transformed_VerticalFlip__labels/VerticalFlip_0267.txt to /content/gdrive/MyDrive/Colab Notebooks/Reva/Capstone/data/labels/VerticalFlip_0267.txt\n",
            "Moved file: /content/gdrive/MyDrive/Colab Notebooks/Reva/Capstone/data/labels/transformed_VerticalFlip__labels/VerticalFlip_0044.txt to /content/gdrive/MyDrive/Colab Notebooks/Reva/Capstone/data/labels/VerticalFlip_0044.txt\n",
            "Moved file: /content/gdrive/MyDrive/Colab Notebooks/Reva/Capstone/data/labels/transformed_VerticalFlip__labels/VerticalFlip_0011.txt to /content/gdrive/MyDrive/Colab Notebooks/Reva/Capstone/data/labels/VerticalFlip_0011.txt\n",
            "Moved file: /content/gdrive/MyDrive/Colab Notebooks/Reva/Capstone/data/labels/transformed_VerticalFlip__labels/VerticalFlip_0020.txt to /content/gdrive/MyDrive/Colab Notebooks/Reva/Capstone/data/labels/VerticalFlip_0020.txt\n",
            "Moved file: /content/gdrive/MyDrive/Colab Notebooks/Reva/Capstone/data/labels/transformed_VerticalFlip__labels/VerticalFlip_0046.txt to /content/gdrive/MyDrive/Colab Notebooks/Reva/Capstone/data/labels/VerticalFlip_0046.txt\n",
            "Moved file: /content/gdrive/MyDrive/Colab Notebooks/Reva/Capstone/data/labels/transformed_VerticalFlip__labels/VerticalFlip_0001.txt to /content/gdrive/MyDrive/Colab Notebooks/Reva/Capstone/data/labels/VerticalFlip_0001.txt\n",
            "Moved file: /content/gdrive/MyDrive/Colab Notebooks/Reva/Capstone/data/labels/transformed_VerticalFlip__labels/VerticalFlip_0061.txt to /content/gdrive/MyDrive/Colab Notebooks/Reva/Capstone/data/labels/VerticalFlip_0061.txt\n",
            "Moved file: /content/gdrive/MyDrive/Colab Notebooks/Reva/Capstone/data/labels/transformed_VerticalFlip__labels/VerticalFlip_0045.txt to /content/gdrive/MyDrive/Colab Notebooks/Reva/Capstone/data/labels/VerticalFlip_0045.txt\n",
            "Moved file: /content/gdrive/MyDrive/Colab Notebooks/Reva/Capstone/data/labels/transformed_VerticalFlip__labels/VerticalFlip_0035.txt to /content/gdrive/MyDrive/Colab Notebooks/Reva/Capstone/data/labels/VerticalFlip_0035.txt\n",
            "Moved file: /content/gdrive/MyDrive/Colab Notebooks/Reva/Capstone/data/labels/transformed_VerticalFlip__labels/VerticalFlip_0095.txt to /content/gdrive/MyDrive/Colab Notebooks/Reva/Capstone/data/labels/VerticalFlip_0095.txt\n",
            "Moved file: /content/gdrive/MyDrive/Colab Notebooks/Reva/Capstone/data/labels/transformed_VerticalFlip__labels/VerticalFlip_0093.txt to /content/gdrive/MyDrive/Colab Notebooks/Reva/Capstone/data/labels/VerticalFlip_0093.txt\n",
            "Moved file: /content/gdrive/MyDrive/Colab Notebooks/Reva/Capstone/data/labels/transformed_Rotate__labels/Rotate_0882.txt to /content/gdrive/MyDrive/Colab Notebooks/Reva/Capstone/data/labels/Rotate_0882.txt\n",
            "Moved file: /content/gdrive/MyDrive/Colab Notebooks/Reva/Capstone/data/labels/transformed_Rotate__labels/Rotate_0883.txt to /content/gdrive/MyDrive/Colab Notebooks/Reva/Capstone/data/labels/Rotate_0883.txt\n",
            "Moved file: /content/gdrive/MyDrive/Colab Notebooks/Reva/Capstone/data/labels/transformed_Rotate__labels/Rotate_0759.txt to /content/gdrive/MyDrive/Colab Notebooks/Reva/Capstone/data/labels/Rotate_0759.txt\n",
            "Moved file: /content/gdrive/MyDrive/Colab Notebooks/Reva/Capstone/data/labels/transformed_Rotate__labels/Rotate_0857.txt to /content/gdrive/MyDrive/Colab Notebooks/Reva/Capstone/data/labels/Rotate_0857.txt\n",
            "Moved file: /content/gdrive/MyDrive/Colab Notebooks/Reva/Capstone/data/labels/transformed_Rotate__labels/Rotate_0425.txt to /content/gdrive/MyDrive/Colab Notebooks/Reva/Capstone/data/labels/Rotate_0425.txt\n",
            "Moved file: /content/gdrive/MyDrive/Colab Notebooks/Reva/Capstone/data/labels/transformed_Rotate__labels/Rotate_0429.txt to /content/gdrive/MyDrive/Colab Notebooks/Reva/Capstone/data/labels/Rotate_0429.txt\n",
            "Moved file: /content/gdrive/MyDrive/Colab Notebooks/Reva/Capstone/data/labels/transformed_Rotate__labels/Rotate_0495.txt to /content/gdrive/MyDrive/Colab Notebooks/Reva/Capstone/data/labels/Rotate_0495.txt\n",
            "Moved file: /content/gdrive/MyDrive/Colab Notebooks/Reva/Capstone/data/labels/transformed_Rotate__labels/Rotate_0593.txt to /content/gdrive/MyDrive/Colab Notebooks/Reva/Capstone/data/labels/Rotate_0593.txt\n",
            "Moved file: /content/gdrive/MyDrive/Colab Notebooks/Reva/Capstone/data/labels/transformed_Rotate__labels/Rotate_0520.txt to /content/gdrive/MyDrive/Colab Notebooks/Reva/Capstone/data/labels/Rotate_0520.txt\n",
            "Moved file: /content/gdrive/MyDrive/Colab Notebooks/Reva/Capstone/data/labels/transformed_Rotate__labels/Rotate_0427.txt to /content/gdrive/MyDrive/Colab Notebooks/Reva/Capstone/data/labels/Rotate_0427.txt\n",
            "Moved file: /content/gdrive/MyDrive/Colab Notebooks/Reva/Capstone/data/labels/transformed_Rotate__labels/Rotate_0704.txt to /content/gdrive/MyDrive/Colab Notebooks/Reva/Capstone/data/labels/Rotate_0704.txt\n",
            "Moved file: /content/gdrive/MyDrive/Colab Notebooks/Reva/Capstone/data/labels/transformed_Rotate__labels/Rotate_0430.txt to /content/gdrive/MyDrive/Colab Notebooks/Reva/Capstone/data/labels/Rotate_0430.txt\n",
            "Moved file: /content/gdrive/MyDrive/Colab Notebooks/Reva/Capstone/data/labels/transformed_Rotate__labels/Rotate_0413.txt to /content/gdrive/MyDrive/Colab Notebooks/Reva/Capstone/data/labels/Rotate_0413.txt\n",
            "Moved file: /content/gdrive/MyDrive/Colab Notebooks/Reva/Capstone/data/labels/transformed_Rotate__labels/Rotate_0387.txt to /content/gdrive/MyDrive/Colab Notebooks/Reva/Capstone/data/labels/Rotate_0387.txt\n",
            "Moved file: /content/gdrive/MyDrive/Colab Notebooks/Reva/Capstone/data/labels/transformed_Rotate__labels/Rotate_0383.txt to /content/gdrive/MyDrive/Colab Notebooks/Reva/Capstone/data/labels/Rotate_0383.txt\n",
            "Moved file: /content/gdrive/MyDrive/Colab Notebooks/Reva/Capstone/data/labels/transformed_Rotate__labels/Rotate_0384.txt to /content/gdrive/MyDrive/Colab Notebooks/Reva/Capstone/data/labels/Rotate_0384.txt\n",
            "Moved file: /content/gdrive/MyDrive/Colab Notebooks/Reva/Capstone/data/labels/transformed_Rotate__labels/Rotate_0385.txt to /content/gdrive/MyDrive/Colab Notebooks/Reva/Capstone/data/labels/Rotate_0385.txt\n",
            "Moved file: /content/gdrive/MyDrive/Colab Notebooks/Reva/Capstone/data/labels/transformed_Rotate__labels/Rotate_0377.txt to /content/gdrive/MyDrive/Colab Notebooks/Reva/Capstone/data/labels/Rotate_0377.txt\n",
            "Moved file: /content/gdrive/MyDrive/Colab Notebooks/Reva/Capstone/data/labels/transformed_Rotate__labels/Rotate_0400.txt to /content/gdrive/MyDrive/Colab Notebooks/Reva/Capstone/data/labels/Rotate_0400.txt\n",
            "Moved file: /content/gdrive/MyDrive/Colab Notebooks/Reva/Capstone/data/labels/transformed_Rotate__labels/Rotate_0365.txt to /content/gdrive/MyDrive/Colab Notebooks/Reva/Capstone/data/labels/Rotate_0365.txt\n",
            "Moved file: /content/gdrive/MyDrive/Colab Notebooks/Reva/Capstone/data/labels/transformed_Rotate__labels/Rotate_0368.txt to /content/gdrive/MyDrive/Colab Notebooks/Reva/Capstone/data/labels/Rotate_0368.txt\n",
            "Moved file: /content/gdrive/MyDrive/Colab Notebooks/Reva/Capstone/data/labels/transformed_Rotate__labels/Rotate_0362.txt to /content/gdrive/MyDrive/Colab Notebooks/Reva/Capstone/data/labels/Rotate_0362.txt\n",
            "Moved file: /content/gdrive/MyDrive/Colab Notebooks/Reva/Capstone/data/labels/transformed_Rotate__labels/Rotate_0357.txt to /content/gdrive/MyDrive/Colab Notebooks/Reva/Capstone/data/labels/Rotate_0357.txt\n",
            "Moved file: /content/gdrive/MyDrive/Colab Notebooks/Reva/Capstone/data/labels/transformed_Rotate__labels/Rotate_0315.txt to /content/gdrive/MyDrive/Colab Notebooks/Reva/Capstone/data/labels/Rotate_0315.txt\n",
            "Moved file: /content/gdrive/MyDrive/Colab Notebooks/Reva/Capstone/data/labels/transformed_Rotate__labels/Rotate_0333.txt to /content/gdrive/MyDrive/Colab Notebooks/Reva/Capstone/data/labels/Rotate_0333.txt\n",
            "Moved file: /content/gdrive/MyDrive/Colab Notebooks/Reva/Capstone/data/labels/transformed_Rotate__labels/Rotate_0322.txt to /content/gdrive/MyDrive/Colab Notebooks/Reva/Capstone/data/labels/Rotate_0322.txt\n",
            "Moved file: /content/gdrive/MyDrive/Colab Notebooks/Reva/Capstone/data/labels/transformed_Rotate__labels/Rotate_0327.txt to /content/gdrive/MyDrive/Colab Notebooks/Reva/Capstone/data/labels/Rotate_0327.txt\n",
            "Moved file: /content/gdrive/MyDrive/Colab Notebooks/Reva/Capstone/data/labels/transformed_Rotate__labels/Rotate_0349.txt to /content/gdrive/MyDrive/Colab Notebooks/Reva/Capstone/data/labels/Rotate_0349.txt\n",
            "Moved file: /content/gdrive/MyDrive/Colab Notebooks/Reva/Capstone/data/labels/transformed_Rotate__labels/Rotate_0337.txt to /content/gdrive/MyDrive/Colab Notebooks/Reva/Capstone/data/labels/Rotate_0337.txt\n",
            "Moved file: /content/gdrive/MyDrive/Colab Notebooks/Reva/Capstone/data/labels/transformed_Rotate__labels/Rotate_0319.txt to /content/gdrive/MyDrive/Colab Notebooks/Reva/Capstone/data/labels/Rotate_0319.txt\n",
            "Moved file: /content/gdrive/MyDrive/Colab Notebooks/Reva/Capstone/data/labels/transformed_Rotate__labels/Rotate_0335.txt to /content/gdrive/MyDrive/Colab Notebooks/Reva/Capstone/data/labels/Rotate_0335.txt\n",
            "Moved file: /content/gdrive/MyDrive/Colab Notebooks/Reva/Capstone/data/labels/transformed_Rotate__labels/Rotate_0307.txt to /content/gdrive/MyDrive/Colab Notebooks/Reva/Capstone/data/labels/Rotate_0307.txt\n",
            "Moved file: /content/gdrive/MyDrive/Colab Notebooks/Reva/Capstone/data/labels/transformed_Rotate__labels/Rotate_0305.txt to /content/gdrive/MyDrive/Colab Notebooks/Reva/Capstone/data/labels/Rotate_0305.txt\n",
            "Moved file: /content/gdrive/MyDrive/Colab Notebooks/Reva/Capstone/data/labels/transformed_Rotate__labels/Rotate_0168.txt to /content/gdrive/MyDrive/Colab Notebooks/Reva/Capstone/data/labels/Rotate_0168.txt\n",
            "Moved file: /content/gdrive/MyDrive/Colab Notebooks/Reva/Capstone/data/labels/transformed_Rotate__labels/Rotate_0180.txt to /content/gdrive/MyDrive/Colab Notebooks/Reva/Capstone/data/labels/Rotate_0180.txt\n",
            "Moved file: /content/gdrive/MyDrive/Colab Notebooks/Reva/Capstone/data/labels/transformed_Rotate__labels/Rotate_0186.txt to /content/gdrive/MyDrive/Colab Notebooks/Reva/Capstone/data/labels/Rotate_0186.txt\n",
            "Moved file: /content/gdrive/MyDrive/Colab Notebooks/Reva/Capstone/data/labels/transformed_Rotate__labels/Rotate_0179.txt to /content/gdrive/MyDrive/Colab Notebooks/Reva/Capstone/data/labels/Rotate_0179.txt\n",
            "Moved file: /content/gdrive/MyDrive/Colab Notebooks/Reva/Capstone/data/labels/transformed_Rotate__labels/Rotate_0101.txt to /content/gdrive/MyDrive/Colab Notebooks/Reva/Capstone/data/labels/Rotate_0101.txt\n",
            "Moved file: /content/gdrive/MyDrive/Colab Notebooks/Reva/Capstone/data/labels/transformed_Rotate__labels/Rotate_0170.txt to /content/gdrive/MyDrive/Colab Notebooks/Reva/Capstone/data/labels/Rotate_0170.txt\n",
            "Moved file: /content/gdrive/MyDrive/Colab Notebooks/Reva/Capstone/data/labels/transformed_Rotate__labels/Rotate_0169.txt to /content/gdrive/MyDrive/Colab Notebooks/Reva/Capstone/data/labels/Rotate_0169.txt\n",
            "Moved file: /content/gdrive/MyDrive/Colab Notebooks/Reva/Capstone/data/labels/transformed_Rotate__labels/Rotate_0163.txt to /content/gdrive/MyDrive/Colab Notebooks/Reva/Capstone/data/labels/Rotate_0163.txt\n",
            "Moved file: /content/gdrive/MyDrive/Colab Notebooks/Reva/Capstone/data/labels/transformed_Rotate__labels/Rotate_0304.txt to /content/gdrive/MyDrive/Colab Notebooks/Reva/Capstone/data/labels/Rotate_0304.txt\n",
            "Moved file: /content/gdrive/MyDrive/Colab Notebooks/Reva/Capstone/data/labels/transformed_Rotate__labels/Rotate_0267.txt to /content/gdrive/MyDrive/Colab Notebooks/Reva/Capstone/data/labels/Rotate_0267.txt\n",
            "Moved file: /content/gdrive/MyDrive/Colab Notebooks/Reva/Capstone/data/labels/transformed_Rotate__labels/Rotate_0044.txt to /content/gdrive/MyDrive/Colab Notebooks/Reva/Capstone/data/labels/Rotate_0044.txt\n",
            "Moved file: /content/gdrive/MyDrive/Colab Notebooks/Reva/Capstone/data/labels/transformed_Rotate__labels/Rotate_0011.txt to /content/gdrive/MyDrive/Colab Notebooks/Reva/Capstone/data/labels/Rotate_0011.txt\n",
            "Moved file: /content/gdrive/MyDrive/Colab Notebooks/Reva/Capstone/data/labels/transformed_Rotate__labels/Rotate_0020.txt to /content/gdrive/MyDrive/Colab Notebooks/Reva/Capstone/data/labels/Rotate_0020.txt\n",
            "Moved file: /content/gdrive/MyDrive/Colab Notebooks/Reva/Capstone/data/labels/transformed_Rotate__labels/Rotate_0046.txt to /content/gdrive/MyDrive/Colab Notebooks/Reva/Capstone/data/labels/Rotate_0046.txt\n",
            "Moved file: /content/gdrive/MyDrive/Colab Notebooks/Reva/Capstone/data/labels/transformed_Rotate__labels/Rotate_0001.txt to /content/gdrive/MyDrive/Colab Notebooks/Reva/Capstone/data/labels/Rotate_0001.txt\n",
            "Moved file: /content/gdrive/MyDrive/Colab Notebooks/Reva/Capstone/data/labels/transformed_Rotate__labels/Rotate_0061.txt to /content/gdrive/MyDrive/Colab Notebooks/Reva/Capstone/data/labels/Rotate_0061.txt\n",
            "Moved file: /content/gdrive/MyDrive/Colab Notebooks/Reva/Capstone/data/labels/transformed_Rotate__labels/Rotate_0045.txt to /content/gdrive/MyDrive/Colab Notebooks/Reva/Capstone/data/labels/Rotate_0045.txt\n",
            "Moved file: /content/gdrive/MyDrive/Colab Notebooks/Reva/Capstone/data/labels/transformed_Rotate__labels/Rotate_0035.txt to /content/gdrive/MyDrive/Colab Notebooks/Reva/Capstone/data/labels/Rotate_0035.txt\n",
            "Moved file: /content/gdrive/MyDrive/Colab Notebooks/Reva/Capstone/data/labels/transformed_Rotate__labels/Rotate_0095.txt to /content/gdrive/MyDrive/Colab Notebooks/Reva/Capstone/data/labels/Rotate_0095.txt\n",
            "Moved file: /content/gdrive/MyDrive/Colab Notebooks/Reva/Capstone/data/labels/transformed_Rotate__labels/Rotate_0093.txt to /content/gdrive/MyDrive/Colab Notebooks/Reva/Capstone/data/labels/Rotate_0093.txt\n",
            "Moved file: /content/gdrive/MyDrive/Colab Notebooks/Reva/Capstone/data/labels/transformed_Gray__labels/Gray_0882.txt to /content/gdrive/MyDrive/Colab Notebooks/Reva/Capstone/data/labels/Gray_0882.txt\n",
            "Moved file: /content/gdrive/MyDrive/Colab Notebooks/Reva/Capstone/data/labels/transformed_Gray__labels/Gray_0883.txt to /content/gdrive/MyDrive/Colab Notebooks/Reva/Capstone/data/labels/Gray_0883.txt\n",
            "Moved file: /content/gdrive/MyDrive/Colab Notebooks/Reva/Capstone/data/labels/transformed_Gray__labels/Gray_0759.txt to /content/gdrive/MyDrive/Colab Notebooks/Reva/Capstone/data/labels/Gray_0759.txt\n",
            "Moved file: /content/gdrive/MyDrive/Colab Notebooks/Reva/Capstone/data/labels/transformed_Gray__labels/Gray_0857.txt to /content/gdrive/MyDrive/Colab Notebooks/Reva/Capstone/data/labels/Gray_0857.txt\n",
            "Moved file: /content/gdrive/MyDrive/Colab Notebooks/Reva/Capstone/data/labels/transformed_Gray__labels/Gray_0425.txt to /content/gdrive/MyDrive/Colab Notebooks/Reva/Capstone/data/labels/Gray_0425.txt\n",
            "Moved file: /content/gdrive/MyDrive/Colab Notebooks/Reva/Capstone/data/labels/transformed_Gray__labels/Gray_0429.txt to /content/gdrive/MyDrive/Colab Notebooks/Reva/Capstone/data/labels/Gray_0429.txt\n",
            "Moved file: /content/gdrive/MyDrive/Colab Notebooks/Reva/Capstone/data/labels/transformed_Gray__labels/Gray_0495.txt to /content/gdrive/MyDrive/Colab Notebooks/Reva/Capstone/data/labels/Gray_0495.txt\n",
            "Moved file: /content/gdrive/MyDrive/Colab Notebooks/Reva/Capstone/data/labels/transformed_Gray__labels/Gray_0593.txt to /content/gdrive/MyDrive/Colab Notebooks/Reva/Capstone/data/labels/Gray_0593.txt\n",
            "Moved file: /content/gdrive/MyDrive/Colab Notebooks/Reva/Capstone/data/labels/transformed_Gray__labels/Gray_0520.txt to /content/gdrive/MyDrive/Colab Notebooks/Reva/Capstone/data/labels/Gray_0520.txt\n",
            "Moved file: /content/gdrive/MyDrive/Colab Notebooks/Reva/Capstone/data/labels/transformed_Gray__labels/Gray_0427.txt to /content/gdrive/MyDrive/Colab Notebooks/Reva/Capstone/data/labels/Gray_0427.txt\n",
            "Moved file: /content/gdrive/MyDrive/Colab Notebooks/Reva/Capstone/data/labels/transformed_Gray__labels/Gray_0704.txt to /content/gdrive/MyDrive/Colab Notebooks/Reva/Capstone/data/labels/Gray_0704.txt\n",
            "Moved file: /content/gdrive/MyDrive/Colab Notebooks/Reva/Capstone/data/labels/transformed_Gray__labels/Gray_0430.txt to /content/gdrive/MyDrive/Colab Notebooks/Reva/Capstone/data/labels/Gray_0430.txt\n",
            "Moved file: /content/gdrive/MyDrive/Colab Notebooks/Reva/Capstone/data/labels/transformed_Gray__labels/Gray_0413.txt to /content/gdrive/MyDrive/Colab Notebooks/Reva/Capstone/data/labels/Gray_0413.txt\n",
            "Moved file: /content/gdrive/MyDrive/Colab Notebooks/Reva/Capstone/data/labels/transformed_Gray__labels/Gray_0387.txt to /content/gdrive/MyDrive/Colab Notebooks/Reva/Capstone/data/labels/Gray_0387.txt\n",
            "Moved file: /content/gdrive/MyDrive/Colab Notebooks/Reva/Capstone/data/labels/transformed_Gray__labels/Gray_0383.txt to /content/gdrive/MyDrive/Colab Notebooks/Reva/Capstone/data/labels/Gray_0383.txt\n",
            "Moved file: /content/gdrive/MyDrive/Colab Notebooks/Reva/Capstone/data/labels/transformed_Gray__labels/Gray_0384.txt to /content/gdrive/MyDrive/Colab Notebooks/Reva/Capstone/data/labels/Gray_0384.txt\n",
            "Moved file: /content/gdrive/MyDrive/Colab Notebooks/Reva/Capstone/data/labels/transformed_Gray__labels/Gray_0385.txt to /content/gdrive/MyDrive/Colab Notebooks/Reva/Capstone/data/labels/Gray_0385.txt\n",
            "Moved file: /content/gdrive/MyDrive/Colab Notebooks/Reva/Capstone/data/labels/transformed_Gray__labels/Gray_0377.txt to /content/gdrive/MyDrive/Colab Notebooks/Reva/Capstone/data/labels/Gray_0377.txt\n",
            "Moved file: /content/gdrive/MyDrive/Colab Notebooks/Reva/Capstone/data/labels/transformed_Gray__labels/Gray_0400.txt to /content/gdrive/MyDrive/Colab Notebooks/Reva/Capstone/data/labels/Gray_0400.txt\n",
            "Moved file: /content/gdrive/MyDrive/Colab Notebooks/Reva/Capstone/data/labels/transformed_Gray__labels/Gray_0365.txt to /content/gdrive/MyDrive/Colab Notebooks/Reva/Capstone/data/labels/Gray_0365.txt\n",
            "Moved file: /content/gdrive/MyDrive/Colab Notebooks/Reva/Capstone/data/labels/transformed_Gray__labels/Gray_0368.txt to /content/gdrive/MyDrive/Colab Notebooks/Reva/Capstone/data/labels/Gray_0368.txt\n",
            "Moved file: /content/gdrive/MyDrive/Colab Notebooks/Reva/Capstone/data/labels/transformed_Gray__labels/Gray_0362.txt to /content/gdrive/MyDrive/Colab Notebooks/Reva/Capstone/data/labels/Gray_0362.txt\n",
            "Moved file: /content/gdrive/MyDrive/Colab Notebooks/Reva/Capstone/data/labels/transformed_Gray__labels/Gray_0357.txt to /content/gdrive/MyDrive/Colab Notebooks/Reva/Capstone/data/labels/Gray_0357.txt\n",
            "Moved file: /content/gdrive/MyDrive/Colab Notebooks/Reva/Capstone/data/labels/transformed_Gray__labels/Gray_0315.txt to /content/gdrive/MyDrive/Colab Notebooks/Reva/Capstone/data/labels/Gray_0315.txt\n",
            "Moved file: /content/gdrive/MyDrive/Colab Notebooks/Reva/Capstone/data/labels/transformed_Gray__labels/Gray_0333.txt to /content/gdrive/MyDrive/Colab Notebooks/Reva/Capstone/data/labels/Gray_0333.txt\n",
            "Moved file: /content/gdrive/MyDrive/Colab Notebooks/Reva/Capstone/data/labels/transformed_Gray__labels/Gray_0322.txt to /content/gdrive/MyDrive/Colab Notebooks/Reva/Capstone/data/labels/Gray_0322.txt\n",
            "Moved file: /content/gdrive/MyDrive/Colab Notebooks/Reva/Capstone/data/labels/transformed_Gray__labels/Gray_0327.txt to /content/gdrive/MyDrive/Colab Notebooks/Reva/Capstone/data/labels/Gray_0327.txt\n",
            "Moved file: /content/gdrive/MyDrive/Colab Notebooks/Reva/Capstone/data/labels/transformed_Gray__labels/Gray_0349.txt to /content/gdrive/MyDrive/Colab Notebooks/Reva/Capstone/data/labels/Gray_0349.txt\n",
            "Moved file: /content/gdrive/MyDrive/Colab Notebooks/Reva/Capstone/data/labels/transformed_Gray__labels/Gray_0337.txt to /content/gdrive/MyDrive/Colab Notebooks/Reva/Capstone/data/labels/Gray_0337.txt\n",
            "Moved file: /content/gdrive/MyDrive/Colab Notebooks/Reva/Capstone/data/labels/transformed_Gray__labels/Gray_0319.txt to /content/gdrive/MyDrive/Colab Notebooks/Reva/Capstone/data/labels/Gray_0319.txt\n",
            "Moved file: /content/gdrive/MyDrive/Colab Notebooks/Reva/Capstone/data/labels/transformed_Gray__labels/Gray_0335.txt to /content/gdrive/MyDrive/Colab Notebooks/Reva/Capstone/data/labels/Gray_0335.txt\n",
            "Moved file: /content/gdrive/MyDrive/Colab Notebooks/Reva/Capstone/data/labels/transformed_Gray__labels/Gray_0307.txt to /content/gdrive/MyDrive/Colab Notebooks/Reva/Capstone/data/labels/Gray_0307.txt\n",
            "Moved file: /content/gdrive/MyDrive/Colab Notebooks/Reva/Capstone/data/labels/transformed_Gray__labels/Gray_0305.txt to /content/gdrive/MyDrive/Colab Notebooks/Reva/Capstone/data/labels/Gray_0305.txt\n",
            "Moved file: /content/gdrive/MyDrive/Colab Notebooks/Reva/Capstone/data/labels/transformed_Gray__labels/Gray_0168.txt to /content/gdrive/MyDrive/Colab Notebooks/Reva/Capstone/data/labels/Gray_0168.txt\n",
            "Moved file: /content/gdrive/MyDrive/Colab Notebooks/Reva/Capstone/data/labels/transformed_Gray__labels/Gray_0180.txt to /content/gdrive/MyDrive/Colab Notebooks/Reva/Capstone/data/labels/Gray_0180.txt\n",
            "Moved file: /content/gdrive/MyDrive/Colab Notebooks/Reva/Capstone/data/labels/transformed_Gray__labels/Gray_0186.txt to /content/gdrive/MyDrive/Colab Notebooks/Reva/Capstone/data/labels/Gray_0186.txt\n",
            "Moved file: /content/gdrive/MyDrive/Colab Notebooks/Reva/Capstone/data/labels/transformed_Gray__labels/Gray_0179.txt to /content/gdrive/MyDrive/Colab Notebooks/Reva/Capstone/data/labels/Gray_0179.txt\n",
            "Moved file: /content/gdrive/MyDrive/Colab Notebooks/Reva/Capstone/data/labels/transformed_Gray__labels/Gray_0101.txt to /content/gdrive/MyDrive/Colab Notebooks/Reva/Capstone/data/labels/Gray_0101.txt\n",
            "Moved file: /content/gdrive/MyDrive/Colab Notebooks/Reva/Capstone/data/labels/transformed_Gray__labels/Gray_0170.txt to /content/gdrive/MyDrive/Colab Notebooks/Reva/Capstone/data/labels/Gray_0170.txt\n",
            "Moved file: /content/gdrive/MyDrive/Colab Notebooks/Reva/Capstone/data/labels/transformed_Gray__labels/Gray_0169.txt to /content/gdrive/MyDrive/Colab Notebooks/Reva/Capstone/data/labels/Gray_0169.txt\n",
            "Moved file: /content/gdrive/MyDrive/Colab Notebooks/Reva/Capstone/data/labels/transformed_Gray__labels/Gray_0163.txt to /content/gdrive/MyDrive/Colab Notebooks/Reva/Capstone/data/labels/Gray_0163.txt\n",
            "Moved file: /content/gdrive/MyDrive/Colab Notebooks/Reva/Capstone/data/labels/transformed_Gray__labels/Gray_0304.txt to /content/gdrive/MyDrive/Colab Notebooks/Reva/Capstone/data/labels/Gray_0304.txt\n",
            "Moved file: /content/gdrive/MyDrive/Colab Notebooks/Reva/Capstone/data/labels/transformed_Gray__labels/Gray_0267.txt to /content/gdrive/MyDrive/Colab Notebooks/Reva/Capstone/data/labels/Gray_0267.txt\n",
            "Moved file: /content/gdrive/MyDrive/Colab Notebooks/Reva/Capstone/data/labels/transformed_Gray__labels/Gray_0044.txt to /content/gdrive/MyDrive/Colab Notebooks/Reva/Capstone/data/labels/Gray_0044.txt\n",
            "Moved file: /content/gdrive/MyDrive/Colab Notebooks/Reva/Capstone/data/labels/transformed_Gray__labels/Gray_0011.txt to /content/gdrive/MyDrive/Colab Notebooks/Reva/Capstone/data/labels/Gray_0011.txt\n",
            "Moved file: /content/gdrive/MyDrive/Colab Notebooks/Reva/Capstone/data/labels/transformed_Gray__labels/Gray_0020.txt to /content/gdrive/MyDrive/Colab Notebooks/Reva/Capstone/data/labels/Gray_0020.txt\n",
            "Moved file: /content/gdrive/MyDrive/Colab Notebooks/Reva/Capstone/data/labels/transformed_Gray__labels/Gray_0046.txt to /content/gdrive/MyDrive/Colab Notebooks/Reva/Capstone/data/labels/Gray_0046.txt\n",
            "Moved file: /content/gdrive/MyDrive/Colab Notebooks/Reva/Capstone/data/labels/transformed_Gray__labels/Gray_0001.txt to /content/gdrive/MyDrive/Colab Notebooks/Reva/Capstone/data/labels/Gray_0001.txt\n",
            "Moved file: /content/gdrive/MyDrive/Colab Notebooks/Reva/Capstone/data/labels/transformed_Gray__labels/Gray_0061.txt to /content/gdrive/MyDrive/Colab Notebooks/Reva/Capstone/data/labels/Gray_0061.txt\n",
            "Moved file: /content/gdrive/MyDrive/Colab Notebooks/Reva/Capstone/data/labels/transformed_Gray__labels/Gray_0045.txt to /content/gdrive/MyDrive/Colab Notebooks/Reva/Capstone/data/labels/Gray_0045.txt\n",
            "Moved file: /content/gdrive/MyDrive/Colab Notebooks/Reva/Capstone/data/labels/transformed_Gray__labels/Gray_0035.txt to /content/gdrive/MyDrive/Colab Notebooks/Reva/Capstone/data/labels/Gray_0035.txt\n",
            "Moved file: /content/gdrive/MyDrive/Colab Notebooks/Reva/Capstone/data/labels/transformed_Gray__labels/Gray_0095.txt to /content/gdrive/MyDrive/Colab Notebooks/Reva/Capstone/data/labels/Gray_0095.txt\n",
            "Moved file: /content/gdrive/MyDrive/Colab Notebooks/Reva/Capstone/data/labels/transformed_Gray__labels/Gray_0093.txt to /content/gdrive/MyDrive/Colab Notebooks/Reva/Capstone/data/labels/Gray_0093.txt\n",
            "Deleted empty directory: /content/gdrive/MyDrive/Colab Notebooks/Reva/Capstone/data/labels/transformed_HorizontalFlip__labels\n",
            "Deleted empty directory: /content/gdrive/MyDrive/Colab Notebooks/Reva/Capstone/data/labels/transformed_VerticalFlip__labels\n",
            "Deleted empty directory: /content/gdrive/MyDrive/Colab Notebooks/Reva/Capstone/data/labels/transformed_Rotate__labels\n",
            "Deleted empty directory: /content/gdrive/MyDrive/Colab Notebooks/Reva/Capstone/data/labels/transformed_Gray__labels\n"
          ]
        }
      ]
    },
    {
      "cell_type": "markdown",
      "source": [
        "### Move images and labels to tran and val folders"
      ],
      "metadata": {
        "id": "PWEpwrEF7Qgc"
      }
    },
    {
      "cell_type": "code",
      "source": [
        "import os\n",
        "import shutil\n",
        "import random\n",
        "\n",
        "# Define paths\n",
        "data_folder = '/content/gdrive/MyDrive/Colab Notebooks/Reva/Capstone/data'\n",
        "train_folder = os.path.join(data_folder, 'train')\n",
        "val_folder = os.path.join(data_folder, 'val')\n",
        "train_images_folder = os.path.join(train_folder, 'images')\n",
        "train_labels_folder = os.path.join(train_folder, 'labels')\n",
        "val_images_folder = os.path.join(val_folder, 'images')\n",
        "val_labels_folder = os.path.join(val_folder, 'labels')\n",
        "\n",
        "# Create folders if they don't exist\n",
        "for folder in [train_folder, val_folder, train_images_folder, train_labels_folder, val_images_folder, val_labels_folder]:\n",
        "    os.makedirs(folder, exist_ok=True)\n",
        "\n",
        "# Get all image and label files\n",
        "image_files = [file for file in os.listdir(image_folder) if file.endswith(('.jpeg', '.JPEG'))]\n",
        "label_files = [file for file in os.listdir(label_folder) if file.endswith('.txt')]\n",
        "\n",
        "# Shuffle the files\n",
        "random.shuffle(image_files)\n",
        "random.shuffle(label_files)\n",
        "\n",
        "# Calculate the split ratio (70:30)\n",
        "total_files = len(image_files)\n",
        "train_size = int(0.7 * total_files)\n",
        "val_size = total_files - train_size\n",
        "\n",
        "# Move files to train folders\n",
        "for i in range(train_size):\n",
        "    image_file = image_files[i]\n",
        "    label_file = image_file.replace('.jpeg', '.txt').replace('.JPEG', '.txt')\n",
        "    shutil.move(os.path.join(image_folder, image_file), os.path.join(train_images_folder, image_file))\n",
        "    shutil.move(os.path.join(label_folder, label_file), os.path.join(train_labels_folder, label_file))\n",
        "\n",
        "# Move files to val folders\n",
        "for i in range(train_size, total_files):\n",
        "    image_file = image_files[i]\n",
        "    label_file = image_file.replace('.jpeg', '.txt').replace('.JPEG', '.txt')\n",
        "    shutil.move(os.path.join(image_folder, image_file), os.path.join(val_images_folder, image_file))\n",
        "    shutil.move(os.path.join(label_folder, label_file), os.path.join(val_labels_folder, label_file))\n",
        "\n",
        "print(\"Files moved successfully!\")\n"
      ],
      "metadata": {
        "id": "A0JT_h0m7OBG",
        "colab": {
          "base_uri": "https://localhost:8080/"
        },
        "outputId": "99e8e050-05ef-4ad3-bcad-a08b42211d5e"
      },
      "execution_count": null,
      "outputs": [
        {
          "output_type": "stream",
          "name": "stdout",
          "text": [
            "Files moved successfully!\n"
          ]
        }
      ]
    },
    {
      "cell_type": "markdown",
      "source": [
        "#Model Training"
      ],
      "metadata": {
        "id": "raxHAD3c0s7t"
      }
    },
    {
      "cell_type": "code",
      "execution_count": null,
      "metadata": {
        "colab": {
          "base_uri": "https://localhost:8080/"
        },
        "id": "EwX0L4YEAbs2",
        "outputId": "979c75a2-214b-46cd-cea6-5285ce2afa8b"
      },
      "outputs": [
        {
          "output_type": "stream",
          "name": "stdout",
          "text": [
            "Ultralytics YOLOv8.2.2 🚀 Python-3.10.12 torch-2.2.1+cu121 CPU (Intel Xeon 2.20GHz)\n",
            "\u001b[34m\u001b[1mengine/trainer: \u001b[0mtask=detect, mode=train, model=yolov8n.yaml, data=/content/gdrive/My Drive/Colab Notebooks/Reva/Capstone/google_colab_config.yaml, epochs=10, time=None, patience=100, batch=16, imgsz=640, save=True, save_period=-1, cache=False, device=None, workers=8, project=None, name=train, exist_ok=False, pretrained=True, optimizer=auto, verbose=True, seed=0, deterministic=True, single_cls=False, rect=False, cos_lr=False, close_mosaic=10, resume=False, amp=True, fraction=1.0, profile=False, freeze=None, multi_scale=False, overlap_mask=True, mask_ratio=4, dropout=0.0, val=True, split=val, save_json=False, save_hybrid=False, conf=None, iou=0.7, max_det=300, half=False, dnn=False, plots=True, source=None, vid_stride=1, stream_buffer=False, visualize=False, augment=False, agnostic_nms=False, classes=None, retina_masks=False, embed=None, show=False, save_frames=False, save_txt=False, save_conf=False, save_crop=False, show_labels=True, show_conf=True, show_boxes=True, line_width=None, format=torchscript, keras=False, optimize=False, int8=False, dynamic=False, simplify=False, opset=None, workspace=4, nms=False, lr0=0.01, lrf=0.01, momentum=0.937, weight_decay=0.0005, warmup_epochs=3.0, warmup_momentum=0.8, warmup_bias_lr=0.1, box=7.5, cls=0.5, dfl=1.5, pose=12.0, kobj=1.0, label_smoothing=0.0, nbs=64, hsv_h=0.015, hsv_s=0.7, hsv_v=0.4, degrees=0.0, translate=0.1, scale=0.5, shear=0.0, perspective=0.0, flipud=0.0, fliplr=0.5, bgr=0.0, mosaic=1.0, mixup=0.0, copy_paste=0.0, auto_augment=randaugment, erasing=0.4, crop_fraction=1.0, cfg=None, tracker=botsort.yaml, save_dir=runs/detect/train\n",
            "Downloading https://ultralytics.com/assets/Arial.ttf to '/root/.config/Ultralytics/Arial.ttf'...\n"
          ]
        },
        {
          "output_type": "stream",
          "name": "stderr",
          "text": [
            "100%|██████████| 755k/755k [00:00<00:00, 95.8MB/s]\n"
          ]
        },
        {
          "output_type": "stream",
          "name": "stdout",
          "text": [
            "Overriding model.yaml nc=80 with nc=11\n",
            "\n",
            "                   from  n    params  module                                       arguments                     \n",
            "  0                  -1  1       464  ultralytics.nn.modules.conv.Conv             [3, 16, 3, 2]                 \n",
            "  1                  -1  1      4672  ultralytics.nn.modules.conv.Conv             [16, 32, 3, 2]                \n",
            "  2                  -1  1      7360  ultralytics.nn.modules.block.C2f             [32, 32, 1, True]             \n",
            "  3                  -1  1     18560  ultralytics.nn.modules.conv.Conv             [32, 64, 3, 2]                \n",
            "  4                  -1  2     49664  ultralytics.nn.modules.block.C2f             [64, 64, 2, True]             \n",
            "  5                  -1  1     73984  ultralytics.nn.modules.conv.Conv             [64, 128, 3, 2]               \n",
            "  6                  -1  2    197632  ultralytics.nn.modules.block.C2f             [128, 128, 2, True]           \n",
            "  7                  -1  1    295424  ultralytics.nn.modules.conv.Conv             [128, 256, 3, 2]              \n",
            "  8                  -1  1    460288  ultralytics.nn.modules.block.C2f             [256, 256, 1, True]           \n",
            "  9                  -1  1    164608  ultralytics.nn.modules.block.SPPF            [256, 256, 5]                 \n",
            " 10                  -1  1         0  torch.nn.modules.upsampling.Upsample         [None, 2, 'nearest']          \n",
            " 11             [-1, 6]  1         0  ultralytics.nn.modules.conv.Concat           [1]                           \n",
            " 12                  -1  1    148224  ultralytics.nn.modules.block.C2f             [384, 128, 1]                 \n",
            " 13                  -1  1         0  torch.nn.modules.upsampling.Upsample         [None, 2, 'nearest']          \n",
            " 14             [-1, 4]  1         0  ultralytics.nn.modules.conv.Concat           [1]                           \n",
            " 15                  -1  1     37248  ultralytics.nn.modules.block.C2f             [192, 64, 1]                  \n",
            " 16                  -1  1     36992  ultralytics.nn.modules.conv.Conv             [64, 64, 3, 2]                \n",
            " 17            [-1, 12]  1         0  ultralytics.nn.modules.conv.Concat           [1]                           \n",
            " 18                  -1  1    123648  ultralytics.nn.modules.block.C2f             [192, 128, 1]                 \n",
            " 19                  -1  1    147712  ultralytics.nn.modules.conv.Conv             [128, 128, 3, 2]              \n",
            " 20             [-1, 9]  1         0  ultralytics.nn.modules.conv.Concat           [1]                           \n",
            " 21                  -1  1    493056  ultralytics.nn.modules.block.C2f             [384, 256, 1]                 \n",
            " 22        [15, 18, 21]  1    753457  ultralytics.nn.modules.head.Detect           [11, [64, 128, 256]]          \n",
            "YOLOv8n summary: 225 layers, 3012993 parameters, 3012977 gradients, 8.2 GFLOPs\n",
            "\n",
            "\u001b[34m\u001b[1mTensorBoard: \u001b[0mStart with 'tensorboard --logdir runs/detect/train', view at http://localhost:6006/\n",
            "Freezing layer 'model.22.dfl.conv.weight'\n"
          ]
        },
        {
          "output_type": "stream",
          "name": "stderr",
          "text": [
            "\u001b[34m\u001b[1mtrain: \u001b[0mScanning /content/gdrive/MyDrive/Colab Notebooks/Reva/Capstone/data/train/labels... 186 images, 0 backgrounds, 0 corrupt: 100%|██████████| 186/186 [00:59<00:00,  3.11it/s]\n"
          ]
        },
        {
          "output_type": "stream",
          "name": "stdout",
          "text": [
            "\u001b[34m\u001b[1mtrain: \u001b[0mNew cache created: /content/gdrive/MyDrive/Colab Notebooks/Reva/Capstone/data/train/labels.cache\n",
            "\u001b[34m\u001b[1malbumentations: \u001b[0mBlur(p=0.01, blur_limit=(3, 7)), MedianBlur(p=0.01, blur_limit=(3, 7)), ToGray(p=0.01), CLAHE(p=0.01, clip_limit=(1, 4.0), tile_grid_size=(8, 8))\n"
          ]
        },
        {
          "output_type": "stream",
          "name": "stderr",
          "text": [
            "\u001b[34m\u001b[1mval: \u001b[0mScanning /content/gdrive/MyDrive/Colab Notebooks/Reva/Capstone/data/val/labels... 80 images, 0 backgrounds, 0 corrupt: 100%|██████████| 80/80 [00:45<00:00,  1.75it/s]"
          ]
        },
        {
          "output_type": "stream",
          "name": "stdout",
          "text": [
            "\u001b[34m\u001b[1mval: \u001b[0mNew cache created: /content/gdrive/MyDrive/Colab Notebooks/Reva/Capstone/data/val/labels.cache\n"
          ]
        },
        {
          "output_type": "stream",
          "name": "stderr",
          "text": [
            "\n"
          ]
        },
        {
          "output_type": "stream",
          "name": "stdout",
          "text": [
            "Plotting labels to runs/detect/train/labels.jpg... \n",
            "\u001b[34m\u001b[1moptimizer:\u001b[0m 'optimizer=auto' found, ignoring 'lr0=0.01' and 'momentum=0.937' and determining best 'optimizer', 'lr0' and 'momentum' automatically... \n",
            "\u001b[34m\u001b[1moptimizer:\u001b[0m AdamW(lr=0.000667, momentum=0.9) with parameter groups 57 weight(decay=0.0), 64 weight(decay=0.0005), 63 bias(decay=0.0)\n",
            "\u001b[34m\u001b[1mTensorBoard: \u001b[0mmodel graph visualization added ✅\n",
            "Image sizes 640 train, 640 val\n",
            "Using 0 dataloader workers\n",
            "Logging results to \u001b[1mruns/detect/train\u001b[0m\n",
            "Starting training for 10 epochs...\n",
            "Closing dataloader mosaic\n",
            "\u001b[34m\u001b[1malbumentations: \u001b[0mBlur(p=0.01, blur_limit=(3, 7)), MedianBlur(p=0.01, blur_limit=(3, 7)), ToGray(p=0.01), CLAHE(p=0.01, clip_limit=(1, 4.0), tile_grid_size=(8, 8))\n",
            "\n",
            "      Epoch    GPU_mem   box_loss   cls_loss   dfl_loss  Instances       Size\n"
          ]
        },
        {
          "output_type": "stream",
          "name": "stderr",
          "text": [
            "       1/10         0G      3.415      5.258      4.311         26        640: 100%|██████████| 12/12 [02:53<00:00, 14.43s/it]\n",
            "                 Class     Images  Instances      Box(P          R      mAP50  mAP50-95): 100%|██████████| 3/3 [00:21<00:00,  7.32s/it]"
          ]
        },
        {
          "output_type": "stream",
          "name": "stdout",
          "text": [
            "                   all         80        160   0.000676      0.131    0.00186    0.00055\n"
          ]
        },
        {
          "output_type": "stream",
          "name": "stderr",
          "text": [
            "\n"
          ]
        },
        {
          "output_type": "stream",
          "name": "stdout",
          "text": [
            "\n",
            "      Epoch    GPU_mem   box_loss   cls_loss   dfl_loss  Instances       Size\n"
          ]
        },
        {
          "output_type": "stream",
          "name": "stderr",
          "text": [
            "       2/10         0G      3.484      5.236      4.272         15        640: 100%|██████████| 12/12 [02:46<00:00, 13.91s/it]\n",
            "                 Class     Images  Instances      Box(P          R      mAP50  mAP50-95): 100%|██████████| 3/3 [00:20<00:00,  7.00s/it]"
          ]
        },
        {
          "output_type": "stream",
          "name": "stdout",
          "text": [
            "                   all         80        160    0.00167      0.254    0.00446    0.00139\n"
          ]
        },
        {
          "output_type": "stream",
          "name": "stderr",
          "text": [
            "\n"
          ]
        },
        {
          "output_type": "stream",
          "name": "stdout",
          "text": [
            "\n",
            "      Epoch    GPU_mem   box_loss   cls_loss   dfl_loss  Instances       Size\n"
          ]
        },
        {
          "output_type": "stream",
          "name": "stderr",
          "text": [
            "       3/10         0G      3.344       5.05      4.254         16        640: 100%|██████████| 12/12 [02:40<00:00, 13.34s/it]\n",
            "                 Class     Images  Instances      Box(P          R      mAP50  mAP50-95): 100%|██████████| 3/3 [00:23<00:00,  7.71s/it]"
          ]
        },
        {
          "output_type": "stream",
          "name": "stdout",
          "text": [
            "                   all         80        160    0.00132      0.253    0.00931    0.00266\n"
          ]
        },
        {
          "output_type": "stream",
          "name": "stderr",
          "text": [
            "\n"
          ]
        },
        {
          "output_type": "stream",
          "name": "stdout",
          "text": [
            "\n",
            "      Epoch    GPU_mem   box_loss   cls_loss   dfl_loss  Instances       Size\n"
          ]
        },
        {
          "output_type": "stream",
          "name": "stderr",
          "text": [
            "       4/10         0G      3.337      5.048      4.193         18        640: 100%|██████████| 12/12 [02:40<00:00, 13.40s/it]\n",
            "                 Class     Images  Instances      Box(P          R      mAP50  mAP50-95): 100%|██████████| 3/3 [00:20<00:00,  6.80s/it]"
          ]
        },
        {
          "output_type": "stream",
          "name": "stdout",
          "text": [
            "                   all         80        160    0.00174      0.361    0.00826    0.00235\n"
          ]
        },
        {
          "output_type": "stream",
          "name": "stderr",
          "text": [
            "\n"
          ]
        },
        {
          "output_type": "stream",
          "name": "stdout",
          "text": [
            "\n",
            "      Epoch    GPU_mem   box_loss   cls_loss   dfl_loss  Instances       Size\n"
          ]
        },
        {
          "output_type": "stream",
          "name": "stderr",
          "text": [
            "       5/10         0G      3.274      4.981      4.132         20        640: 100%|██████████| 12/12 [02:43<00:00, 13.59s/it]\n",
            "                 Class     Images  Instances      Box(P          R      mAP50  mAP50-95): 100%|██████████| 3/3 [00:20<00:00,  6.67s/it]"
          ]
        },
        {
          "output_type": "stream",
          "name": "stdout",
          "text": [
            "                   all         80        160    0.00195      0.317    0.00937    0.00299\n"
          ]
        },
        {
          "output_type": "stream",
          "name": "stderr",
          "text": [
            "\n"
          ]
        },
        {
          "output_type": "stream",
          "name": "stdout",
          "text": [
            "\n",
            "      Epoch    GPU_mem   box_loss   cls_loss   dfl_loss  Instances       Size\n"
          ]
        },
        {
          "output_type": "stream",
          "name": "stderr",
          "text": [
            "       6/10         0G      3.213      4.839      4.094         24        640: 100%|██████████| 12/12 [02:35<00:00, 12.95s/it]\n",
            "                 Class     Images  Instances      Box(P          R      mAP50  mAP50-95): 100%|██████████| 3/3 [00:19<00:00,  6.42s/it]"
          ]
        },
        {
          "output_type": "stream",
          "name": "stdout",
          "text": [
            "                   all         80        160    0.00216      0.296    0.00313   0.000961\n"
          ]
        },
        {
          "output_type": "stream",
          "name": "stderr",
          "text": [
            "\n"
          ]
        },
        {
          "output_type": "stream",
          "name": "stdout",
          "text": [
            "\n",
            "      Epoch    GPU_mem   box_loss   cls_loss   dfl_loss  Instances       Size\n"
          ]
        },
        {
          "output_type": "stream",
          "name": "stderr",
          "text": [
            "       7/10         0G      3.134      4.783      4.054         27        640: 100%|██████████| 12/12 [02:35<00:00, 12.99s/it]\n",
            "                 Class     Images  Instances      Box(P          R      mAP50  mAP50-95): 100%|██████████| 3/3 [00:20<00:00,  6.90s/it]"
          ]
        },
        {
          "output_type": "stream",
          "name": "stdout",
          "text": [
            "                   all         80        160    0.00188      0.365     0.0128    0.00217\n"
          ]
        },
        {
          "output_type": "stream",
          "name": "stderr",
          "text": [
            "\n"
          ]
        },
        {
          "output_type": "stream",
          "name": "stdout",
          "text": [
            "\n",
            "      Epoch    GPU_mem   box_loss   cls_loss   dfl_loss  Instances       Size\n"
          ]
        },
        {
          "output_type": "stream",
          "name": "stderr",
          "text": [
            "       8/10         0G      3.009       4.73      4.002         23        640: 100%|██████████| 12/12 [02:34<00:00, 12.89s/it]\n",
            "                 Class     Images  Instances      Box(P          R      mAP50  mAP50-95): 100%|██████████| 3/3 [00:19<00:00,  6.54s/it]"
          ]
        },
        {
          "output_type": "stream",
          "name": "stdout",
          "text": [
            "                   all         80        160    0.00174      0.364    0.00514    0.00133\n"
          ]
        },
        {
          "output_type": "stream",
          "name": "stderr",
          "text": [
            "\n"
          ]
        },
        {
          "output_type": "stream",
          "name": "stdout",
          "text": [
            "\n",
            "      Epoch    GPU_mem   box_loss   cls_loss   dfl_loss  Instances       Size\n"
          ]
        },
        {
          "output_type": "stream",
          "name": "stderr",
          "text": [
            "       9/10         0G      3.072       4.75      3.944         20        640: 100%|██████████| 12/12 [02:48<00:00, 14.04s/it]\n",
            "                 Class     Images  Instances      Box(P          R      mAP50  mAP50-95): 100%|██████████| 3/3 [00:20<00:00,  6.82s/it]"
          ]
        },
        {
          "output_type": "stream",
          "name": "stdout",
          "text": [
            "                   all         80        160    0.00182      0.323    0.00413    0.00117\n"
          ]
        },
        {
          "output_type": "stream",
          "name": "stderr",
          "text": [
            "\n"
          ]
        },
        {
          "output_type": "stream",
          "name": "stdout",
          "text": [
            "\n",
            "      Epoch    GPU_mem   box_loss   cls_loss   dfl_loss  Instances       Size\n"
          ]
        },
        {
          "output_type": "stream",
          "name": "stderr",
          "text": [
            "      10/10         0G      2.996      4.663      3.954         24        640: 100%|██████████| 12/12 [02:38<00:00, 13.22s/it]\n",
            "                 Class     Images  Instances      Box(P          R      mAP50  mAP50-95): 100%|██████████| 3/3 [00:19<00:00,  6.56s/it]"
          ]
        },
        {
          "output_type": "stream",
          "name": "stdout",
          "text": [
            "                   all         80        160    0.00214      0.253    0.00335   0.000975\n"
          ]
        },
        {
          "output_type": "stream",
          "name": "stderr",
          "text": [
            "\n"
          ]
        },
        {
          "output_type": "stream",
          "name": "stdout",
          "text": [
            "\n",
            "10 epochs completed in 0.511 hours.\n",
            "Optimizer stripped from runs/detect/train/weights/last.pt, 6.3MB\n",
            "Optimizer stripped from runs/detect/train/weights/best.pt, 6.3MB\n",
            "\n",
            "Validating runs/detect/train/weights/best.pt...\n",
            "Ultralytics YOLOv8.2.2 🚀 Python-3.10.12 torch-2.2.1+cu121 CPU (Intel Xeon 2.20GHz)\n",
            "YOLOv8n summary (fused): 168 layers, 3007793 parameters, 0 gradients, 8.1 GFLOPs\n"
          ]
        },
        {
          "output_type": "stream",
          "name": "stderr",
          "text": [
            "                 Class     Images  Instances      Box(P          R      mAP50  mAP50-95): 100%|██████████| 3/3 [00:18<00:00,  6.29s/it]\n"
          ]
        },
        {
          "output_type": "stream",
          "name": "stdout",
          "text": [
            "                   all         80        160    0.00191      0.304    0.00921    0.00285\n",
            " {0: 'BUMPER DAMAGES'}         80         15     0.0025      0.133     0.0026   0.000411\n",
            " {4: 'FENDER BENDERS'}         80         12          0          0          0          0\n",
            "{5: 'CRACKED WINDSHIELDS'}         80         26    0.00408      0.769     0.0509     0.0169\n",
            "{6: 'SUSPENSION DAMAGE'}         80          3          0          0          0          0\n",
            "   {7: 'HOOD DAMAGES'}         80         51     0.0043      0.431    0.00976    0.00199\n",
            "{8: 'WEATHER DAMAGES'}         80         15    0.00346      0.933    0.00977    0.00333\n",
            "{9: 'WINDOW GLASS DAMAGES'}         80          6   0.000907      0.167   0.000643   0.000188\n",
            "{11: 'HEADLIGHT DAMAGES'}         80         32          0          0          0          0\n",
            "Speed: 3.6ms preprocess, 198.9ms inference, 0.0ms loss, 8.3ms postprocess per image\n",
            "Results saved to \u001b[1mruns/detect/train\u001b[0m\n"
          ]
        }
      ],
      "source": [
        "import os\n",
        "from ultralytics import YOLO\n",
        "\n",
        "# Load a model\n",
        "model = YOLO(\"yolov8n.yaml\")  # build a new model from scratch\n",
        "\n",
        "# Use the model\n",
        "results = model.train(data=os.path.join(ROOT_DIR, \"google_colab_config.yaml\"), epochs=10)  # train the model"
      ]
    },
    {
      "cell_type": "code",
      "source": [
        "import os\n",
        "from ultralytics import YOLO\n",
        "\n",
        "# Load a pretrained model\n",
        "model = YOLO(\"yolov8n.pt\")\n",
        "\n",
        "ROOT_DIR = \"/content/gdrive/My Drive/Colab Notebooks/Reva/Capstone\"\n",
        "\n",
        "# Train the model with more epochs and a lower learning rate\n",
        "results = model.train(data=os.path.join(ROOT_DIR, \"google_colab_config.yaml\"), epochs=50, lr0=0.001)"
      ],
      "metadata": {
        "id": "fAVdO5JXcNM_",
        "colab": {
          "base_uri": "https://localhost:8080/"
        },
        "outputId": "94f26794-353e-4031-f253-038f22260386"
      },
      "execution_count": null,
      "outputs": [
        {
          "output_type": "stream",
          "name": "stdout",
          "text": [
            "Ultralytics YOLOv8.2.17 🚀 Python-3.10.12 torch-2.2.1+cu121 CPU (Intel Xeon 2.20GHz)\n",
            "\u001b[34m\u001b[1mengine/trainer: \u001b[0mtask=detect, mode=train, model=yolov8n.pt, data=/content/gdrive/My Drive/Colab Notebooks/Reva/Capstone/google_colab_config.yaml, epochs=50, time=None, patience=100, batch=16, imgsz=640, save=True, save_period=-1, cache=False, device=None, workers=8, project=None, name=train6, exist_ok=False, pretrained=True, optimizer=auto, verbose=True, seed=0, deterministic=True, single_cls=False, rect=False, cos_lr=False, close_mosaic=10, resume=False, amp=True, fraction=1.0, profile=False, freeze=None, multi_scale=False, overlap_mask=True, mask_ratio=4, dropout=0.0, val=True, split=val, save_json=False, save_hybrid=False, conf=None, iou=0.7, max_det=300, half=False, dnn=False, plots=True, source=None, vid_stride=1, stream_buffer=False, visualize=False, augment=False, agnostic_nms=False, classes=None, retina_masks=False, embed=None, show=False, save_frames=False, save_txt=False, save_conf=False, save_crop=False, show_labels=True, show_conf=True, show_boxes=True, line_width=None, format=torchscript, keras=False, optimize=False, int8=False, dynamic=False, simplify=False, opset=None, workspace=4, nms=False, lr0=0.001, lrf=0.01, momentum=0.937, weight_decay=0.0005, warmup_epochs=3.0, warmup_momentum=0.8, warmup_bias_lr=0.1, box=7.5, cls=0.5, dfl=1.5, pose=12.0, kobj=1.0, label_smoothing=0.0, nbs=64, hsv_h=0.015, hsv_s=0.7, hsv_v=0.4, degrees=0.0, translate=0.1, scale=0.5, shear=0.0, perspective=0.0, flipud=0.0, fliplr=0.5, bgr=0.0, mosaic=1.0, mixup=0.0, copy_paste=0.0, auto_augment=randaugment, erasing=0.4, crop_fraction=1.0, cfg=None, tracker=botsort.yaml, save_dir=runs/detect/train6\n",
            "Downloading https://ultralytics.com/assets/Arial.ttf to '/root/.config/Ultralytics/Arial.ttf'...\n"
          ]
        },
        {
          "output_type": "stream",
          "name": "stderr",
          "text": [
            "100%|██████████| 755k/755k [00:00<00:00, 16.0MB/s]\n"
          ]
        },
        {
          "output_type": "stream",
          "name": "stdout",
          "text": [
            "Overriding model.yaml nc=80 with nc=11\n",
            "\n",
            "                   from  n    params  module                                       arguments                     \n",
            "  0                  -1  1       464  ultralytics.nn.modules.conv.Conv             [3, 16, 3, 2]                 \n",
            "  1                  -1  1      4672  ultralytics.nn.modules.conv.Conv             [16, 32, 3, 2]                \n",
            "  2                  -1  1      7360  ultralytics.nn.modules.block.C2f             [32, 32, 1, True]             \n",
            "  3                  -1  1     18560  ultralytics.nn.modules.conv.Conv             [32, 64, 3, 2]                \n",
            "  4                  -1  2     49664  ultralytics.nn.modules.block.C2f             [64, 64, 2, True]             \n",
            "  5                  -1  1     73984  ultralytics.nn.modules.conv.Conv             [64, 128, 3, 2]               \n",
            "  6                  -1  2    197632  ultralytics.nn.modules.block.C2f             [128, 128, 2, True]           \n",
            "  7                  -1  1    295424  ultralytics.nn.modules.conv.Conv             [128, 256, 3, 2]              \n",
            "  8                  -1  1    460288  ultralytics.nn.modules.block.C2f             [256, 256, 1, True]           \n",
            "  9                  -1  1    164608  ultralytics.nn.modules.block.SPPF            [256, 256, 5]                 \n",
            " 10                  -1  1         0  torch.nn.modules.upsampling.Upsample         [None, 2, 'nearest']          \n",
            " 11             [-1, 6]  1         0  ultralytics.nn.modules.conv.Concat           [1]                           \n",
            " 12                  -1  1    148224  ultralytics.nn.modules.block.C2f             [384, 128, 1]                 \n",
            " 13                  -1  1         0  torch.nn.modules.upsampling.Upsample         [None, 2, 'nearest']          \n",
            " 14             [-1, 4]  1         0  ultralytics.nn.modules.conv.Concat           [1]                           \n",
            " 15                  -1  1     37248  ultralytics.nn.modules.block.C2f             [192, 64, 1]                  \n",
            " 16                  -1  1     36992  ultralytics.nn.modules.conv.Conv             [64, 64, 3, 2]                \n",
            " 17            [-1, 12]  1         0  ultralytics.nn.modules.conv.Concat           [1]                           \n",
            " 18                  -1  1    123648  ultralytics.nn.modules.block.C2f             [192, 128, 1]                 \n",
            " 19                  -1  1    147712  ultralytics.nn.modules.conv.Conv             [128, 128, 3, 2]              \n",
            " 20             [-1, 9]  1         0  ultralytics.nn.modules.conv.Concat           [1]                           \n",
            " 21                  -1  1    493056  ultralytics.nn.modules.block.C2f             [384, 256, 1]                 \n",
            " 22        [15, 18, 21]  1    753457  ultralytics.nn.modules.head.Detect           [11, [64, 128, 256]]          \n",
            "Model summary: 225 layers, 3012993 parameters, 3012977 gradients, 8.2 GFLOPs\n",
            "\n",
            "Transferred 319/355 items from pretrained weights\n",
            "\u001b[34m\u001b[1mTensorBoard: \u001b[0mStart with 'tensorboard --logdir runs/detect/train6', view at http://localhost:6006/\n",
            "Freezing layer 'model.22.dfl.conv.weight'\n"
          ]
        },
        {
          "output_type": "stream",
          "name": "stderr",
          "text": [
            "\u001b[34m\u001b[1mtrain: \u001b[0mScanning /content/gdrive/MyDrive/Colab Notebooks/Reva/Capstone/data/train/labels.cache... 186 images, 0 backgrounds, 0 corrupt: 100%|██████████| 186/186 [00:00<?, ?it/s]\n"
          ]
        },
        {
          "output_type": "stream",
          "name": "stdout",
          "text": [
            "\u001b[34m\u001b[1malbumentations: \u001b[0mBlur(p=0.01, blur_limit=(3, 7)), MedianBlur(p=0.01, blur_limit=(3, 7)), ToGray(p=0.01), CLAHE(p=0.01, clip_limit=(1, 4.0), tile_grid_size=(8, 8))\n"
          ]
        },
        {
          "output_type": "stream",
          "name": "stderr",
          "text": [
            "\u001b[34m\u001b[1mval: \u001b[0mScanning /content/gdrive/MyDrive/Colab Notebooks/Reva/Capstone/data/val/labels.cache... 80 images, 0 backgrounds, 0 corrupt: 100%|██████████| 80/80 [00:00<?, ?it/s]\n"
          ]
        },
        {
          "output_type": "stream",
          "name": "stdout",
          "text": [
            "Plotting labels to runs/detect/train6/labels.jpg... \n",
            "\u001b[34m\u001b[1moptimizer:\u001b[0m 'optimizer=auto' found, ignoring 'lr0=0.001' and 'momentum=0.937' and determining best 'optimizer', 'lr0' and 'momentum' automatically... \n",
            "\u001b[34m\u001b[1moptimizer:\u001b[0m AdamW(lr=0.000667, momentum=0.9) with parameter groups 57 weight(decay=0.0), 64 weight(decay=0.0005), 63 bias(decay=0.0)\n",
            "\u001b[34m\u001b[1mTensorBoard: \u001b[0mmodel graph visualization added ✅\n",
            "Image sizes 640 train, 640 val\n",
            "Using 0 dataloader workers\n",
            "Logging results to \u001b[1mruns/detect/train6\u001b[0m\n",
            "Starting training for 50 epochs...\n",
            "\n",
            "      Epoch    GPU_mem   box_loss   cls_loss   dfl_loss  Instances       Size\n"
          ]
        },
        {
          "output_type": "stream",
          "name": "stderr",
          "text": [
            "       1/50         0G      1.555      4.168      1.805         33        640: 100%|██████████| 12/12 [03:05<00:00, 15.46s/it]\n",
            "                 Class     Images  Instances      Box(P          R      mAP50  mAP50-95): 100%|██████████| 3/3 [00:46<00:00, 15.43s/it]"
          ]
        },
        {
          "output_type": "stream",
          "name": "stdout",
          "text": [
            "                   all         80        160    0.00664      0.619     0.0654     0.0276\n"
          ]
        },
        {
          "output_type": "stream",
          "name": "stderr",
          "text": [
            "\n"
          ]
        },
        {
          "output_type": "stream",
          "name": "stdout",
          "text": [
            "\n",
            "      Epoch    GPU_mem   box_loss   cls_loss   dfl_loss  Instances       Size\n"
          ]
        },
        {
          "output_type": "stream",
          "name": "stderr",
          "text": [
            "       2/50         0G      1.356      3.848       1.63         46        640: 100%|██████████| 12/12 [02:55<00:00, 14.61s/it]\n",
            "                 Class     Images  Instances      Box(P          R      mAP50  mAP50-95): 100%|██████████| 3/3 [00:22<00:00,  7.40s/it]"
          ]
        },
        {
          "output_type": "stream",
          "name": "stdout",
          "text": [
            "                   all         80        160    0.00761      0.719      0.103     0.0614\n"
          ]
        },
        {
          "output_type": "stream",
          "name": "stderr",
          "text": [
            "\n"
          ]
        },
        {
          "output_type": "stream",
          "name": "stdout",
          "text": [
            "\n",
            "      Epoch    GPU_mem   box_loss   cls_loss   dfl_loss  Instances       Size\n"
          ]
        },
        {
          "output_type": "stream",
          "name": "stderr",
          "text": [
            "       3/50         0G      1.282      3.371       1.57         46        640: 100%|██████████| 12/12 [02:55<00:00, 14.65s/it]\n",
            "                 Class     Images  Instances      Box(P          R      mAP50  mAP50-95): 100%|██████████| 3/3 [00:20<00:00,  7.00s/it]"
          ]
        },
        {
          "output_type": "stream",
          "name": "stdout",
          "text": [
            "                   all         80        160      0.015       0.76      0.159      0.102\n"
          ]
        },
        {
          "output_type": "stream",
          "name": "stderr",
          "text": [
            "\n"
          ]
        },
        {
          "output_type": "stream",
          "name": "stdout",
          "text": [
            "\n",
            "      Epoch    GPU_mem   box_loss   cls_loss   dfl_loss  Instances       Size\n"
          ]
        },
        {
          "output_type": "stream",
          "name": "stderr",
          "text": [
            "       4/50         0G      1.302       2.93      1.591         51        640: 100%|██████████| 12/12 [02:51<00:00, 14.28s/it]\n",
            "                 Class     Images  Instances      Box(P          R      mAP50  mAP50-95): 100%|██████████| 3/3 [00:22<00:00,  7.46s/it]"
          ]
        },
        {
          "output_type": "stream",
          "name": "stdout",
          "text": [
            "                   all         80        160     0.0314      0.706      0.252      0.158\n"
          ]
        },
        {
          "output_type": "stream",
          "name": "stderr",
          "text": [
            "\n"
          ]
        },
        {
          "output_type": "stream",
          "name": "stdout",
          "text": [
            "\n",
            "      Epoch    GPU_mem   box_loss   cls_loss   dfl_loss  Instances       Size\n"
          ]
        },
        {
          "output_type": "stream",
          "name": "stderr",
          "text": [
            "       5/50         0G      1.317      2.695      1.585         38        640: 100%|██████████| 12/12 [02:52<00:00, 14.38s/it]\n",
            "                 Class     Images  Instances      Box(P          R      mAP50  mAP50-95): 100%|██████████| 3/3 [00:21<00:00,  7.02s/it]"
          ]
        },
        {
          "output_type": "stream",
          "name": "stdout",
          "text": [
            "                   all         80        160      0.776      0.249       0.35      0.243\n"
          ]
        },
        {
          "output_type": "stream",
          "name": "stderr",
          "text": [
            "\n"
          ]
        },
        {
          "output_type": "stream",
          "name": "stdout",
          "text": [
            "\n",
            "      Epoch    GPU_mem   box_loss   cls_loss   dfl_loss  Instances       Size\n"
          ]
        },
        {
          "output_type": "stream",
          "name": "stderr",
          "text": [
            "       6/50         0G      1.262      2.525      1.575         30        640: 100%|██████████| 12/12 [02:58<00:00, 14.89s/it]\n",
            "                 Class     Images  Instances      Box(P          R      mAP50  mAP50-95): 100%|██████████| 3/3 [00:22<00:00,  7.38s/it]"
          ]
        },
        {
          "output_type": "stream",
          "name": "stdout",
          "text": [
            "                   all         80        160      0.703      0.361      0.367       0.24\n"
          ]
        },
        {
          "output_type": "stream",
          "name": "stderr",
          "text": [
            "\n"
          ]
        },
        {
          "output_type": "stream",
          "name": "stdout",
          "text": [
            "\n",
            "      Epoch    GPU_mem   box_loss   cls_loss   dfl_loss  Instances       Size\n"
          ]
        },
        {
          "output_type": "stream",
          "name": "stderr",
          "text": [
            "       7/50         0G      1.233      2.251      1.516         48        640: 100%|██████████| 12/12 [02:50<00:00, 14.21s/it]\n",
            "                 Class     Images  Instances      Box(P          R      mAP50  mAP50-95): 100%|██████████| 3/3 [00:22<00:00,  7.39s/it]"
          ]
        },
        {
          "output_type": "stream",
          "name": "stdout",
          "text": [
            "                   all         80        160      0.753      0.407       0.44      0.306\n"
          ]
        },
        {
          "output_type": "stream",
          "name": "stderr",
          "text": [
            "\n"
          ]
        },
        {
          "output_type": "stream",
          "name": "stdout",
          "text": [
            "\n",
            "      Epoch    GPU_mem   box_loss   cls_loss   dfl_loss  Instances       Size\n"
          ]
        },
        {
          "output_type": "stream",
          "name": "stderr",
          "text": [
            "       8/50         0G       1.26      2.113      1.509         58        640: 100%|██████████| 12/12 [02:48<00:00, 14.08s/it]\n",
            "                 Class     Images  Instances      Box(P          R      mAP50  mAP50-95): 100%|██████████| 3/3 [00:22<00:00,  7.35s/it]"
          ]
        },
        {
          "output_type": "stream",
          "name": "stdout",
          "text": [
            "                   all         80        160      0.821      0.284      0.433      0.312\n"
          ]
        },
        {
          "output_type": "stream",
          "name": "stderr",
          "text": [
            "\n"
          ]
        },
        {
          "output_type": "stream",
          "name": "stdout",
          "text": [
            "\n",
            "      Epoch    GPU_mem   box_loss   cls_loss   dfl_loss  Instances       Size\n"
          ]
        },
        {
          "output_type": "stream",
          "name": "stderr",
          "text": [
            "       9/50         0G      1.115      1.966       1.42         39        640: 100%|██████████| 12/12 [02:53<00:00, 14.46s/it]\n",
            "                 Class     Images  Instances      Box(P          R      mAP50  mAP50-95): 100%|██████████| 3/3 [00:21<00:00,  7.03s/it]"
          ]
        },
        {
          "output_type": "stream",
          "name": "stdout",
          "text": [
            "                   all         80        160      0.924       0.32      0.531      0.369\n"
          ]
        },
        {
          "output_type": "stream",
          "name": "stderr",
          "text": [
            "\n"
          ]
        },
        {
          "output_type": "stream",
          "name": "stdout",
          "text": [
            "\n",
            "      Epoch    GPU_mem   box_loss   cls_loss   dfl_loss  Instances       Size\n"
          ]
        },
        {
          "output_type": "stream",
          "name": "stderr",
          "text": [
            "      10/50         0G      1.115      1.912      1.398         43        640: 100%|██████████| 12/12 [02:53<00:00, 14.44s/it]\n",
            "                 Class     Images  Instances      Box(P          R      mAP50  mAP50-95): 100%|██████████| 3/3 [00:22<00:00,  7.45s/it]"
          ]
        },
        {
          "output_type": "stream",
          "name": "stdout",
          "text": [
            "                   all         80        160      0.777      0.401      0.594      0.442\n"
          ]
        },
        {
          "output_type": "stream",
          "name": "stderr",
          "text": [
            "\n"
          ]
        },
        {
          "output_type": "stream",
          "name": "stdout",
          "text": [
            "\n",
            "      Epoch    GPU_mem   box_loss   cls_loss   dfl_loss  Instances       Size\n"
          ]
        },
        {
          "output_type": "stream",
          "name": "stderr",
          "text": [
            "      11/50         0G      1.103      1.793        1.4         47        640: 100%|██████████| 12/12 [02:48<00:00, 14.00s/it]\n",
            "                 Class     Images  Instances      Box(P          R      mAP50  mAP50-95): 100%|██████████| 3/3 [00:20<00:00,  6.83s/it]"
          ]
        },
        {
          "output_type": "stream",
          "name": "stdout",
          "text": [
            "                   all         80        160      0.547      0.693       0.68       0.49\n"
          ]
        },
        {
          "output_type": "stream",
          "name": "stderr",
          "text": [
            "\n"
          ]
        },
        {
          "output_type": "stream",
          "name": "stdout",
          "text": [
            "\n",
            "      Epoch    GPU_mem   box_loss   cls_loss   dfl_loss  Instances       Size\n"
          ]
        },
        {
          "output_type": "stream",
          "name": "stderr",
          "text": [
            "      12/50         0G       1.02      1.645       1.33         43        640: 100%|██████████| 12/12 [02:54<00:00, 14.55s/it]\n",
            "                 Class     Images  Instances      Box(P          R      mAP50  mAP50-95): 100%|██████████| 3/3 [00:21<00:00,  7.07s/it]"
          ]
        },
        {
          "output_type": "stream",
          "name": "stdout",
          "text": [
            "                   all         80        160      0.727      0.598      0.676      0.526\n"
          ]
        },
        {
          "output_type": "stream",
          "name": "stderr",
          "text": [
            "\n"
          ]
        },
        {
          "output_type": "stream",
          "name": "stdout",
          "text": [
            "\n",
            "      Epoch    GPU_mem   box_loss   cls_loss   dfl_loss  Instances       Size\n"
          ]
        },
        {
          "output_type": "stream",
          "name": "stderr",
          "text": [
            "      13/50         0G       1.02      1.662      1.332         42        640: 100%|██████████| 12/12 [02:58<00:00, 14.91s/it]\n",
            "                 Class     Images  Instances      Box(P          R      mAP50  mAP50-95): 100%|██████████| 3/3 [00:20<00:00,  6.88s/it]"
          ]
        },
        {
          "output_type": "stream",
          "name": "stdout",
          "text": [
            "                   all         80        160      0.857      0.579      0.665      0.515\n"
          ]
        },
        {
          "output_type": "stream",
          "name": "stderr",
          "text": [
            "\n"
          ]
        },
        {
          "output_type": "stream",
          "name": "stdout",
          "text": [
            "\n",
            "      Epoch    GPU_mem   box_loss   cls_loss   dfl_loss  Instances       Size\n"
          ]
        },
        {
          "output_type": "stream",
          "name": "stderr",
          "text": [
            "      14/50         0G      1.021      1.559      1.301         44        640: 100%|██████████| 12/12 [02:58<00:00, 14.84s/it]\n",
            "                 Class     Images  Instances      Box(P          R      mAP50  mAP50-95): 100%|██████████| 3/3 [00:23<00:00,  7.68s/it]"
          ]
        },
        {
          "output_type": "stream",
          "name": "stdout",
          "text": [
            "                   all         80        160      0.802      0.606      0.696       0.52\n"
          ]
        },
        {
          "output_type": "stream",
          "name": "stderr",
          "text": [
            "\n"
          ]
        },
        {
          "output_type": "stream",
          "name": "stdout",
          "text": [
            "\n",
            "      Epoch    GPU_mem   box_loss   cls_loss   dfl_loss  Instances       Size\n"
          ]
        },
        {
          "output_type": "stream",
          "name": "stderr",
          "text": [
            "      15/50         0G      1.073      1.608      1.373         38        640: 100%|██████████| 12/12 [02:50<00:00, 14.23s/it]\n",
            "                 Class     Images  Instances      Box(P          R      mAP50  mAP50-95): 100%|██████████| 3/3 [00:21<00:00,  7.21s/it]"
          ]
        },
        {
          "output_type": "stream",
          "name": "stdout",
          "text": [
            "                   all         80        160      0.848      0.617      0.768      0.593\n"
          ]
        },
        {
          "output_type": "stream",
          "name": "stderr",
          "text": [
            "\n"
          ]
        },
        {
          "output_type": "stream",
          "name": "stdout",
          "text": [
            "\n",
            "      Epoch    GPU_mem   box_loss   cls_loss   dfl_loss  Instances       Size\n"
          ]
        },
        {
          "output_type": "stream",
          "name": "stderr",
          "text": [
            "      16/50         0G     0.9455      1.479      1.267         51        640: 100%|██████████| 12/12 [02:54<00:00, 14.57s/it]\n",
            "                 Class     Images  Instances      Box(P          R      mAP50  mAP50-95): 100%|██████████| 3/3 [00:21<00:00,  7.23s/it]"
          ]
        },
        {
          "output_type": "stream",
          "name": "stdout",
          "text": [
            "                   all         80        160      0.823      0.669      0.758      0.544\n"
          ]
        },
        {
          "output_type": "stream",
          "name": "stderr",
          "text": [
            "\n"
          ]
        },
        {
          "output_type": "stream",
          "name": "stdout",
          "text": [
            "\n",
            "      Epoch    GPU_mem   box_loss   cls_loss   dfl_loss  Instances       Size\n"
          ]
        },
        {
          "output_type": "stream",
          "name": "stderr",
          "text": [
            "      17/50         0G     0.9036      1.359      1.229         36        640: 100%|██████████| 12/12 [02:52<00:00, 14.36s/it]\n",
            "                 Class     Images  Instances      Box(P          R      mAP50  mAP50-95): 100%|██████████| 3/3 [00:21<00:00,  7.24s/it]"
          ]
        },
        {
          "output_type": "stream",
          "name": "stdout",
          "text": [
            "                   all         80        160      0.734      0.695      0.784      0.601\n"
          ]
        },
        {
          "output_type": "stream",
          "name": "stderr",
          "text": [
            "\n"
          ]
        },
        {
          "output_type": "stream",
          "name": "stdout",
          "text": [
            "\n",
            "      Epoch    GPU_mem   box_loss   cls_loss   dfl_loss  Instances       Size\n"
          ]
        },
        {
          "output_type": "stream",
          "name": "stderr",
          "text": [
            "      18/50         0G     0.9068      1.304      1.238         62        640: 100%|██████████| 12/12 [02:52<00:00, 14.38s/it]\n",
            "                 Class     Images  Instances      Box(P          R      mAP50  mAP50-95): 100%|██████████| 3/3 [00:24<00:00,  8.04s/it]"
          ]
        },
        {
          "output_type": "stream",
          "name": "stdout",
          "text": [
            "                   all         80        160      0.774      0.765       0.82      0.596\n"
          ]
        },
        {
          "output_type": "stream",
          "name": "stderr",
          "text": [
            "\n"
          ]
        },
        {
          "output_type": "stream",
          "name": "stdout",
          "text": [
            "\n",
            "      Epoch    GPU_mem   box_loss   cls_loss   dfl_loss  Instances       Size\n"
          ]
        },
        {
          "output_type": "stream",
          "name": "stderr",
          "text": [
            "      19/50         0G     0.9018      1.287      1.244         45        640: 100%|██████████| 12/12 [02:49<00:00, 14.10s/it]\n",
            "                 Class     Images  Instances      Box(P          R      mAP50  mAP50-95): 100%|██████████| 3/3 [00:20<00:00,  6.90s/it]"
          ]
        },
        {
          "output_type": "stream",
          "name": "stdout",
          "text": [
            "                   all         80        160      0.762      0.799      0.839      0.625\n"
          ]
        },
        {
          "output_type": "stream",
          "name": "stderr",
          "text": [
            "\n"
          ]
        },
        {
          "output_type": "stream",
          "name": "stdout",
          "text": [
            "\n",
            "      Epoch    GPU_mem   box_loss   cls_loss   dfl_loss  Instances       Size\n"
          ]
        },
        {
          "output_type": "stream",
          "name": "stderr",
          "text": [
            "      20/50         0G     0.9257      1.263      1.261         54        640: 100%|██████████| 12/12 [02:53<00:00, 14.44s/it]\n",
            "                 Class     Images  Instances      Box(P          R      mAP50  mAP50-95): 100%|██████████| 3/3 [00:20<00:00,  6.92s/it]"
          ]
        },
        {
          "output_type": "stream",
          "name": "stdout",
          "text": [
            "                   all         80        160      0.815      0.822       0.87      0.672\n"
          ]
        },
        {
          "output_type": "stream",
          "name": "stderr",
          "text": [
            "\n"
          ]
        },
        {
          "output_type": "stream",
          "name": "stdout",
          "text": [
            "\n",
            "      Epoch    GPU_mem   box_loss   cls_loss   dfl_loss  Instances       Size\n"
          ]
        },
        {
          "output_type": "stream",
          "name": "stderr",
          "text": [
            "      21/50         0G      0.874      1.233      1.217         52        640: 100%|██████████| 12/12 [02:52<00:00, 14.36s/it]\n",
            "                 Class     Images  Instances      Box(P          R      mAP50  mAP50-95): 100%|██████████| 3/3 [00:22<00:00,  7.35s/it]"
          ]
        },
        {
          "output_type": "stream",
          "name": "stdout",
          "text": [
            "                   all         80        160      0.894      0.783      0.869      0.691\n"
          ]
        },
        {
          "output_type": "stream",
          "name": "stderr",
          "text": [
            "\n"
          ]
        },
        {
          "output_type": "stream",
          "name": "stdout",
          "text": [
            "\n",
            "      Epoch    GPU_mem   box_loss   cls_loss   dfl_loss  Instances       Size\n"
          ]
        },
        {
          "output_type": "stream",
          "name": "stderr",
          "text": [
            "      22/50         0G     0.8646       1.22      1.189         48        640: 100%|██████████| 12/12 [02:55<00:00, 14.65s/it]\n",
            "                 Class     Images  Instances      Box(P          R      mAP50  mAP50-95): 100%|██████████| 3/3 [00:22<00:00,  7.53s/it]"
          ]
        },
        {
          "output_type": "stream",
          "name": "stdout",
          "text": [
            "                   all         80        160      0.826      0.821      0.872      0.692\n"
          ]
        },
        {
          "output_type": "stream",
          "name": "stderr",
          "text": [
            "\n"
          ]
        },
        {
          "output_type": "stream",
          "name": "stdout",
          "text": [
            "\n",
            "      Epoch    GPU_mem   box_loss   cls_loss   dfl_loss  Instances       Size\n"
          ]
        },
        {
          "output_type": "stream",
          "name": "stderr",
          "text": [
            "      23/50         0G     0.8324      1.178      1.192         55        640: 100%|██████████| 12/12 [02:56<00:00, 14.70s/it]\n",
            "                 Class     Images  Instances      Box(P          R      mAP50  mAP50-95): 100%|██████████| 3/3 [00:20<00:00,  6.89s/it]"
          ]
        },
        {
          "output_type": "stream",
          "name": "stdout",
          "text": [
            "                   all         80        160       0.88      0.864       0.91      0.723\n"
          ]
        },
        {
          "output_type": "stream",
          "name": "stderr",
          "text": [
            "\n"
          ]
        },
        {
          "output_type": "stream",
          "name": "stdout",
          "text": [
            "\n",
            "      Epoch    GPU_mem   box_loss   cls_loss   dfl_loss  Instances       Size\n"
          ]
        },
        {
          "output_type": "stream",
          "name": "stderr",
          "text": [
            "      24/50         0G     0.7893      1.111      1.172         47        640: 100%|██████████| 12/12 [02:50<00:00, 14.17s/it]\n",
            "                 Class     Images  Instances      Box(P          R      mAP50  mAP50-95): 100%|██████████| 3/3 [00:22<00:00,  7.42s/it]"
          ]
        },
        {
          "output_type": "stream",
          "name": "stdout",
          "text": [
            "                   all         80        160      0.813      0.836      0.908      0.728\n"
          ]
        },
        {
          "output_type": "stream",
          "name": "stderr",
          "text": [
            "\n"
          ]
        },
        {
          "output_type": "stream",
          "name": "stdout",
          "text": [
            "\n",
            "      Epoch    GPU_mem   box_loss   cls_loss   dfl_loss  Instances       Size\n"
          ]
        },
        {
          "output_type": "stream",
          "name": "stderr",
          "text": [
            "      25/50         0G     0.8164      1.147      1.182         39        640: 100%|██████████| 12/12 [02:48<00:00, 14.01s/it]\n",
            "                 Class     Images  Instances      Box(P          R      mAP50  mAP50-95): 100%|██████████| 3/3 [00:20<00:00,  6.95s/it]"
          ]
        },
        {
          "output_type": "stream",
          "name": "stdout",
          "text": [
            "                   all         80        160      0.915      0.803      0.906      0.716\n"
          ]
        },
        {
          "output_type": "stream",
          "name": "stderr",
          "text": [
            "\n"
          ]
        },
        {
          "output_type": "stream",
          "name": "stdout",
          "text": [
            "\n",
            "      Epoch    GPU_mem   box_loss   cls_loss   dfl_loss  Instances       Size\n"
          ]
        },
        {
          "output_type": "stream",
          "name": "stderr",
          "text": [
            "      26/50         0G     0.7776      1.076      1.162         34        640: 100%|██████████| 12/12 [02:51<00:00, 14.32s/it]\n",
            "                 Class     Images  Instances      Box(P          R      mAP50  mAP50-95): 100%|██████████| 3/3 [00:21<00:00,  7.16s/it]"
          ]
        },
        {
          "output_type": "stream",
          "name": "stdout",
          "text": [
            "                   all         80        160      0.931      0.835      0.915      0.755\n"
          ]
        },
        {
          "output_type": "stream",
          "name": "stderr",
          "text": [
            "\n"
          ]
        },
        {
          "output_type": "stream",
          "name": "stdout",
          "text": [
            "\n",
            "      Epoch    GPU_mem   box_loss   cls_loss   dfl_loss  Instances       Size\n"
          ]
        },
        {
          "output_type": "stream",
          "name": "stderr",
          "text": [
            "      27/50         0G     0.7569      1.057      1.136         36        640: 100%|██████████| 12/12 [02:56<00:00, 14.67s/it]\n",
            "                 Class     Images  Instances      Box(P          R      mAP50  mAP50-95): 100%|██████████| 3/3 [00:21<00:00,  7.09s/it]"
          ]
        },
        {
          "output_type": "stream",
          "name": "stdout",
          "text": [
            "                   all         80        160      0.916      0.885       0.91       0.75\n"
          ]
        },
        {
          "output_type": "stream",
          "name": "stderr",
          "text": [
            "\n"
          ]
        },
        {
          "output_type": "stream",
          "name": "stdout",
          "text": [
            "\n",
            "      Epoch    GPU_mem   box_loss   cls_loss   dfl_loss  Instances       Size\n"
          ]
        },
        {
          "output_type": "stream",
          "name": "stderr",
          "text": [
            "      28/50         0G     0.7198      0.992      1.117         50        640: 100%|██████████| 12/12 [02:49<00:00, 14.09s/it]\n",
            "                 Class     Images  Instances      Box(P          R      mAP50  mAP50-95): 100%|██████████| 3/3 [00:22<00:00,  7.43s/it]"
          ]
        },
        {
          "output_type": "stream",
          "name": "stdout",
          "text": [
            "                   all         80        160      0.922      0.866      0.911      0.746\n"
          ]
        },
        {
          "output_type": "stream",
          "name": "stderr",
          "text": [
            "\n"
          ]
        },
        {
          "output_type": "stream",
          "name": "stdout",
          "text": [
            "\n",
            "      Epoch    GPU_mem   box_loss   cls_loss   dfl_loss  Instances       Size\n"
          ]
        },
        {
          "output_type": "stream",
          "name": "stderr",
          "text": [
            "      29/50         0G     0.7603      1.039      1.141         55        640: 100%|██████████| 12/12 [02:51<00:00, 14.31s/it]\n",
            "                 Class     Images  Instances      Box(P          R      mAP50  mAP50-95): 100%|██████████| 3/3 [00:20<00:00,  6.76s/it]"
          ]
        },
        {
          "output_type": "stream",
          "name": "stdout",
          "text": [
            "                   all         80        160      0.904      0.881      0.915      0.758\n"
          ]
        },
        {
          "output_type": "stream",
          "name": "stderr",
          "text": [
            "\n"
          ]
        },
        {
          "output_type": "stream",
          "name": "stdout",
          "text": [
            "\n",
            "      Epoch    GPU_mem   box_loss   cls_loss   dfl_loss  Instances       Size\n"
          ]
        },
        {
          "output_type": "stream",
          "name": "stderr",
          "text": [
            "      30/50         0G     0.7124      0.953      1.101         51        640: 100%|██████████| 12/12 [02:50<00:00, 14.21s/it]\n",
            "                 Class     Images  Instances      Box(P          R      mAP50  mAP50-95): 100%|██████████| 3/3 [00:22<00:00,  7.37s/it]"
          ]
        },
        {
          "output_type": "stream",
          "name": "stdout",
          "text": [
            "                   all         80        160      0.888      0.867      0.907      0.758\n"
          ]
        },
        {
          "output_type": "stream",
          "name": "stderr",
          "text": [
            "\n"
          ]
        },
        {
          "output_type": "stream",
          "name": "stdout",
          "text": [
            "\n",
            "      Epoch    GPU_mem   box_loss   cls_loss   dfl_loss  Instances       Size\n"
          ]
        },
        {
          "output_type": "stream",
          "name": "stderr",
          "text": [
            "      31/50         0G     0.7252     0.9878      1.124         63        640: 100%|██████████| 12/12 [02:56<00:00, 14.67s/it]\n",
            "                 Class     Images  Instances      Box(P          R      mAP50  mAP50-95): 100%|██████████| 3/3 [00:22<00:00,  7.63s/it]"
          ]
        },
        {
          "output_type": "stream",
          "name": "stdout",
          "text": [
            "                   all         80        160      0.845      0.872      0.903      0.761\n"
          ]
        },
        {
          "output_type": "stream",
          "name": "stderr",
          "text": [
            "\n"
          ]
        },
        {
          "output_type": "stream",
          "name": "stdout",
          "text": [
            "\n",
            "      Epoch    GPU_mem   box_loss   cls_loss   dfl_loss  Instances       Size\n"
          ]
        },
        {
          "output_type": "stream",
          "name": "stderr",
          "text": [
            "      32/50         0G     0.6964     0.9281      1.071         57        640: 100%|██████████| 12/12 [03:02<00:00, 15.18s/it]\n",
            "                 Class     Images  Instances      Box(P          R      mAP50  mAP50-95): 100%|██████████| 3/3 [00:22<00:00,  7.65s/it]"
          ]
        },
        {
          "output_type": "stream",
          "name": "stdout",
          "text": [
            "                   all         80        160      0.854      0.879      0.913      0.771\n"
          ]
        },
        {
          "output_type": "stream",
          "name": "stderr",
          "text": [
            "\n"
          ]
        },
        {
          "output_type": "stream",
          "name": "stdout",
          "text": [
            "\n",
            "      Epoch    GPU_mem   box_loss   cls_loss   dfl_loss  Instances       Size\n"
          ]
        },
        {
          "output_type": "stream",
          "name": "stderr",
          "text": [
            "      33/50         0G     0.6871     0.9265      1.093         53        640: 100%|██████████| 12/12 [02:58<00:00, 14.91s/it]\n",
            "                 Class     Images  Instances      Box(P          R      mAP50  mAP50-95): 100%|██████████| 3/3 [00:23<00:00,  7.71s/it]"
          ]
        },
        {
          "output_type": "stream",
          "name": "stdout",
          "text": [
            "                   all         80        160      0.906      0.856      0.906      0.777\n"
          ]
        },
        {
          "output_type": "stream",
          "name": "stderr",
          "text": [
            "\n"
          ]
        },
        {
          "output_type": "stream",
          "name": "stdout",
          "text": [
            "\n",
            "      Epoch    GPU_mem   box_loss   cls_loss   dfl_loss  Instances       Size\n"
          ]
        },
        {
          "output_type": "stream",
          "name": "stderr",
          "text": [
            "      34/50         0G     0.7015     0.9344      1.082         45        640: 100%|██████████| 12/12 [02:58<00:00, 14.85s/it]\n",
            "                 Class     Images  Instances      Box(P          R      mAP50  mAP50-95): 100%|██████████| 3/3 [00:22<00:00,  7.48s/it]"
          ]
        },
        {
          "output_type": "stream",
          "name": "stdout",
          "text": [
            "                   all         80        160      0.896      0.887      0.926      0.783\n"
          ]
        },
        {
          "output_type": "stream",
          "name": "stderr",
          "text": [
            "\n"
          ]
        },
        {
          "output_type": "stream",
          "name": "stdout",
          "text": [
            "\n",
            "      Epoch    GPU_mem   box_loss   cls_loss   dfl_loss  Instances       Size\n"
          ]
        },
        {
          "output_type": "stream",
          "name": "stderr",
          "text": [
            "      35/50         0G     0.6899     0.9397      1.101         41        640: 100%|██████████| 12/12 [02:50<00:00, 14.17s/it]\n",
            "                 Class     Images  Instances      Box(P          R      mAP50  mAP50-95): 100%|██████████| 3/3 [00:22<00:00,  7.52s/it]"
          ]
        },
        {
          "output_type": "stream",
          "name": "stdout",
          "text": [
            "                   all         80        160      0.904      0.913      0.935      0.797\n"
          ]
        },
        {
          "output_type": "stream",
          "name": "stderr",
          "text": [
            "\n"
          ]
        },
        {
          "output_type": "stream",
          "name": "stdout",
          "text": [
            "\n",
            "      Epoch    GPU_mem   box_loss   cls_loss   dfl_loss  Instances       Size\n"
          ]
        },
        {
          "output_type": "stream",
          "name": "stderr",
          "text": [
            "      36/50         0G     0.6658     0.9308      1.089         32        640: 100%|██████████| 12/12 [02:51<00:00, 14.26s/it]\n",
            "                 Class     Images  Instances      Box(P          R      mAP50  mAP50-95): 100%|██████████| 3/3 [00:20<00:00,  6.71s/it]"
          ]
        },
        {
          "output_type": "stream",
          "name": "stdout",
          "text": [
            "                   all         80        160      0.979      0.863      0.933      0.794\n"
          ]
        },
        {
          "output_type": "stream",
          "name": "stderr",
          "text": [
            "\n"
          ]
        },
        {
          "output_type": "stream",
          "name": "stdout",
          "text": [
            "\n",
            "      Epoch    GPU_mem   box_loss   cls_loss   dfl_loss  Instances       Size\n"
          ]
        },
        {
          "output_type": "stream",
          "name": "stderr",
          "text": [
            "      37/50         0G     0.6519     0.9082      1.081         38        640: 100%|██████████| 12/12 [02:52<00:00, 14.41s/it]\n",
            "                 Class     Images  Instances      Box(P          R      mAP50  mAP50-95): 100%|██████████| 3/3 [00:20<00:00,  6.69s/it]"
          ]
        },
        {
          "output_type": "stream",
          "name": "stdout",
          "text": [
            "                   all         80        160      0.958      0.869      0.929      0.799\n"
          ]
        },
        {
          "output_type": "stream",
          "name": "stderr",
          "text": [
            "\n"
          ]
        },
        {
          "output_type": "stream",
          "name": "stdout",
          "text": [
            "\n",
            "      Epoch    GPU_mem   box_loss   cls_loss   dfl_loss  Instances       Size\n"
          ]
        },
        {
          "output_type": "stream",
          "name": "stderr",
          "text": [
            "      38/50         0G     0.6478     0.8879      1.067         45        640: 100%|██████████| 12/12 [02:54<00:00, 14.51s/it]\n",
            "                 Class     Images  Instances      Box(P          R      mAP50  mAP50-95): 100%|██████████| 3/3 [00:20<00:00,  6.84s/it]"
          ]
        },
        {
          "output_type": "stream",
          "name": "stdout",
          "text": [
            "                   all         80        160       0.96      0.873      0.934      0.805\n"
          ]
        },
        {
          "output_type": "stream",
          "name": "stderr",
          "text": [
            "\n"
          ]
        },
        {
          "output_type": "stream",
          "name": "stdout",
          "text": [
            "\n",
            "      Epoch    GPU_mem   box_loss   cls_loss   dfl_loss  Instances       Size\n"
          ]
        },
        {
          "output_type": "stream",
          "name": "stderr",
          "text": [
            "      39/50         0G     0.6161     0.8594      1.048         54        640: 100%|██████████| 12/12 [02:56<00:00, 14.68s/it]\n",
            "                 Class     Images  Instances      Box(P          R      mAP50  mAP50-95): 100%|██████████| 3/3 [00:20<00:00,  6.74s/it]"
          ]
        },
        {
          "output_type": "stream",
          "name": "stdout",
          "text": [
            "                   all         80        160       0.96      0.864      0.935      0.808\n"
          ]
        },
        {
          "output_type": "stream",
          "name": "stderr",
          "text": [
            "\n"
          ]
        },
        {
          "output_type": "stream",
          "name": "stdout",
          "text": [
            "\n",
            "      Epoch    GPU_mem   box_loss   cls_loss   dfl_loss  Instances       Size\n"
          ]
        },
        {
          "output_type": "stream",
          "name": "stderr",
          "text": [
            "      40/50         0G     0.6133     0.8705      1.057         36        640: 100%|██████████| 12/12 [02:50<00:00, 14.18s/it]\n",
            "                 Class     Images  Instances      Box(P          R      mAP50  mAP50-95): 100%|██████████| 3/3 [00:20<00:00,  6.74s/it]"
          ]
        },
        {
          "output_type": "stream",
          "name": "stdout",
          "text": [
            "                   all         80        160      0.912      0.889      0.934      0.827\n"
          ]
        },
        {
          "output_type": "stream",
          "name": "stderr",
          "text": [
            "\n"
          ]
        },
        {
          "output_type": "stream",
          "name": "stdout",
          "text": [
            "Closing dataloader mosaic\n",
            "\u001b[34m\u001b[1malbumentations: \u001b[0mBlur(p=0.01, blur_limit=(3, 7)), MedianBlur(p=0.01, blur_limit=(3, 7)), ToGray(p=0.01), CLAHE(p=0.01, clip_limit=(1, 4.0), tile_grid_size=(8, 8))\n",
            "\n",
            "      Epoch    GPU_mem   box_loss   cls_loss   dfl_loss  Instances       Size\n"
          ]
        },
        {
          "output_type": "stream",
          "name": "stderr",
          "text": [
            "      41/50         0G     0.6107      1.067       1.08         20        640: 100%|██████████| 12/12 [02:53<00:00, 14.45s/it]\n",
            "                 Class     Images  Instances      Box(P          R      mAP50  mAP50-95): 100%|██████████| 3/3 [00:21<00:00,  7.11s/it]"
          ]
        },
        {
          "output_type": "stream",
          "name": "stdout",
          "text": [
            "                   all         80        160      0.964      0.821      0.932       0.79\n"
          ]
        },
        {
          "output_type": "stream",
          "name": "stderr",
          "text": [
            "\n"
          ]
        },
        {
          "output_type": "stream",
          "name": "stdout",
          "text": [
            "\n",
            "      Epoch    GPU_mem   box_loss   cls_loss   dfl_loss  Instances       Size\n"
          ]
        },
        {
          "output_type": "stream",
          "name": "stderr",
          "text": [
            "      42/50         0G     0.5626      1.057      1.042         22        640: 100%|██████████| 12/12 [02:50<00:00, 14.17s/it]\n",
            "                 Class     Images  Instances      Box(P          R      mAP50  mAP50-95): 100%|██████████| 3/3 [00:22<00:00,  7.57s/it]"
          ]
        },
        {
          "output_type": "stream",
          "name": "stdout",
          "text": [
            "                   all         80        160      0.867      0.896       0.93       0.77\n"
          ]
        },
        {
          "output_type": "stream",
          "name": "stderr",
          "text": [
            "\n"
          ]
        },
        {
          "output_type": "stream",
          "name": "stdout",
          "text": [
            "\n",
            "      Epoch    GPU_mem   box_loss   cls_loss   dfl_loss  Instances       Size\n"
          ]
        },
        {
          "output_type": "stream",
          "name": "stderr",
          "text": [
            "      43/50         0G     0.5619      1.056      1.058         20        640: 100%|██████████| 12/12 [02:46<00:00, 13.88s/it]\n",
            "                 Class     Images  Instances      Box(P          R      mAP50  mAP50-95): 100%|██████████| 3/3 [00:19<00:00,  6.62s/it]"
          ]
        },
        {
          "output_type": "stream",
          "name": "stdout",
          "text": [
            "                   all         80        160      0.943      0.881      0.936       0.81\n"
          ]
        },
        {
          "output_type": "stream",
          "name": "stderr",
          "text": [
            "\n"
          ]
        },
        {
          "output_type": "stream",
          "name": "stdout",
          "text": [
            "\n",
            "      Epoch    GPU_mem   box_loss   cls_loss   dfl_loss  Instances       Size\n"
          ]
        },
        {
          "output_type": "stream",
          "name": "stderr",
          "text": [
            "      44/50         0G     0.5248     0.9334      1.005         22        640: 100%|██████████| 12/12 [02:49<00:00, 14.13s/it]\n",
            "                 Class     Images  Instances      Box(P          R      mAP50  mAP50-95): 100%|██████████| 3/3 [00:20<00:00,  6.75s/it]"
          ]
        },
        {
          "output_type": "stream",
          "name": "stdout",
          "text": [
            "                   all         80        160      0.958       0.88      0.935      0.816\n"
          ]
        },
        {
          "output_type": "stream",
          "name": "stderr",
          "text": [
            "\n"
          ]
        },
        {
          "output_type": "stream",
          "name": "stdout",
          "text": [
            "\n",
            "      Epoch    GPU_mem   box_loss   cls_loss   dfl_loss  Instances       Size\n"
          ]
        },
        {
          "output_type": "stream",
          "name": "stderr",
          "text": [
            "      45/50         0G     0.5038     0.9163       1.01         25        640: 100%|██████████| 12/12 [02:48<00:00, 14.02s/it]\n",
            "                 Class     Images  Instances      Box(P          R      mAP50  mAP50-95): 100%|██████████| 3/3 [00:21<00:00,  7.04s/it]"
          ]
        },
        {
          "output_type": "stream",
          "name": "stdout",
          "text": [
            "                   all         80        160      0.893      0.928      0.938      0.815\n"
          ]
        },
        {
          "output_type": "stream",
          "name": "stderr",
          "text": [
            "\n"
          ]
        },
        {
          "output_type": "stream",
          "name": "stdout",
          "text": [
            "\n",
            "      Epoch    GPU_mem   box_loss   cls_loss   dfl_loss  Instances       Size\n"
          ]
        },
        {
          "output_type": "stream",
          "name": "stderr",
          "text": [
            "      46/50         0G     0.4847     0.8796     0.9909         23        640: 100%|██████████| 12/12 [02:48<00:00, 14.08s/it]\n",
            "                 Class     Images  Instances      Box(P          R      mAP50  mAP50-95): 100%|██████████| 3/3 [00:21<00:00,  7.27s/it]"
          ]
        },
        {
          "output_type": "stream",
          "name": "stdout",
          "text": [
            "                   all         80        160      0.885       0.93      0.936      0.812\n"
          ]
        },
        {
          "output_type": "stream",
          "name": "stderr",
          "text": [
            "\n"
          ]
        },
        {
          "output_type": "stream",
          "name": "stdout",
          "text": [
            "\n",
            "      Epoch    GPU_mem   box_loss   cls_loss   dfl_loss  Instances       Size\n"
          ]
        },
        {
          "output_type": "stream",
          "name": "stderr",
          "text": [
            "      47/50         0G     0.4745     0.8816      1.004         20        640: 100%|██████████| 12/12 [02:47<00:00, 13.97s/it]\n",
            "                 Class     Images  Instances      Box(P          R      mAP50  mAP50-95): 100%|██████████| 3/3 [00:24<00:00,  8.22s/it]"
          ]
        },
        {
          "output_type": "stream",
          "name": "stdout",
          "text": [
            "                   all         80        160      0.928      0.894      0.934      0.818\n"
          ]
        },
        {
          "output_type": "stream",
          "name": "stderr",
          "text": [
            "\n"
          ]
        },
        {
          "output_type": "stream",
          "name": "stdout",
          "text": [
            "\n",
            "      Epoch    GPU_mem   box_loss   cls_loss   dfl_loss  Instances       Size\n"
          ]
        },
        {
          "output_type": "stream",
          "name": "stderr",
          "text": [
            "      48/50         0G     0.4525     0.8693      0.971         22        640: 100%|██████████| 12/12 [02:46<00:00, 13.89s/it]\n",
            "                 Class     Images  Instances      Box(P          R      mAP50  mAP50-95): 100%|██████████| 3/3 [00:21<00:00,  7.13s/it]"
          ]
        },
        {
          "output_type": "stream",
          "name": "stdout",
          "text": [
            "                   all         80        160      0.927      0.895      0.936      0.823\n"
          ]
        },
        {
          "output_type": "stream",
          "name": "stderr",
          "text": [
            "\n"
          ]
        },
        {
          "output_type": "stream",
          "name": "stdout",
          "text": [
            "\n",
            "      Epoch    GPU_mem   box_loss   cls_loss   dfl_loss  Instances       Size\n"
          ]
        },
        {
          "output_type": "stream",
          "name": "stderr",
          "text": [
            "      49/50         0G     0.4519      0.843     0.9729         18        640: 100%|██████████| 12/12 [02:47<00:00, 13.96s/it]\n",
            "                 Class     Images  Instances      Box(P          R      mAP50  mAP50-95): 100%|██████████| 3/3 [00:21<00:00,  7.02s/it]"
          ]
        },
        {
          "output_type": "stream",
          "name": "stdout",
          "text": [
            "                   all         80        160      0.919      0.904      0.935      0.826\n"
          ]
        },
        {
          "output_type": "stream",
          "name": "stderr",
          "text": [
            "\n"
          ]
        },
        {
          "output_type": "stream",
          "name": "stdout",
          "text": [
            "\n",
            "      Epoch    GPU_mem   box_loss   cls_loss   dfl_loss  Instances       Size\n"
          ]
        },
        {
          "output_type": "stream",
          "name": "stderr",
          "text": [
            "      50/50         0G     0.4525     0.8518      0.973         22        640: 100%|██████████| 12/12 [02:48<00:00, 14.02s/it]\n",
            "                 Class     Images  Instances      Box(P          R      mAP50  mAP50-95): 100%|██████████| 3/3 [00:20<00:00,  6.75s/it]"
          ]
        },
        {
          "output_type": "stream",
          "name": "stdout",
          "text": [
            "                   all         80        160      0.976      0.862      0.936      0.828\n"
          ]
        },
        {
          "output_type": "stream",
          "name": "stderr",
          "text": [
            "\n"
          ]
        },
        {
          "output_type": "stream",
          "name": "stdout",
          "text": [
            "\n",
            "50 epochs completed in 2.720 hours.\n",
            "Optimizer stripped from runs/detect/train6/weights/last.pt, 6.3MB\n",
            "Optimizer stripped from runs/detect/train6/weights/best.pt, 6.3MB\n",
            "\n",
            "Validating runs/detect/train6/weights/best.pt...\n",
            "Ultralytics YOLOv8.2.17 🚀 Python-3.10.12 torch-2.2.1+cu121 CPU (Intel Xeon 2.20GHz)\n",
            "Model summary (fused): 168 layers, 3007793 parameters, 0 gradients, 8.1 GFLOPs\n"
          ]
        },
        {
          "output_type": "stream",
          "name": "stderr",
          "text": [
            "                 Class     Images  Instances      Box(P          R      mAP50  mAP50-95): 100%|██████████| 3/3 [00:20<00:00,  6.76s/it]\n"
          ]
        },
        {
          "output_type": "stream",
          "name": "stdout",
          "text": [
            "                   all         80        160      0.976      0.862      0.936      0.828\n",
            " {0: 'BUMPER DAMAGES'}         80         15      0.922      0.667      0.796      0.728\n",
            " {4: 'FENDER BENDERS'}         80         12      0.998       0.75      0.842      0.663\n",
            "{5: 'CRACKED WINDSHIELDS'}         80         26      0.994          1      0.995      0.899\n",
            "{6: 'SUSPENSION DAMAGE'}         80          3      0.949          1      0.995      0.995\n",
            "   {7: 'HOOD DAMAGES'}         80         51      0.983      0.961      0.992      0.863\n",
            "{8: 'WEATHER DAMAGES'}         80         15      0.983          1      0.995      0.888\n",
            "{9: 'WINDOW GLASS DAMAGES'}         80          6      0.976          1      0.995      0.979\n",
            "{11: 'HEADLIGHT DAMAGES'}         80         32          1      0.521      0.873      0.609\n",
            "Speed: 2.7ms preprocess, 226.6ms inference, 0.0ms loss, 1.9ms postprocess per image\n",
            "Results saved to \u001b[1mruns/detect/train6\u001b[0m\n"
          ]
        }
      ]
    },
    {
      "cell_type": "code",
      "source": [
        "import os\n",
        "\n",
        "# Define the ROOT_DIR\n",
        "ROOT_DIR = \"/content/gdrive/My Drive/Colab Notebooks/Reva/Capstone\"\n",
        "\n",
        "# Define the new folder path\n",
        "new_folder_path = os.path.join(ROOT_DIR, 'TrainYolov8CustomDataset')\n",
        "\n",
        "# Create the new folder\n",
        "os.makedirs(new_folder_path, exist_ok=True)\n",
        "\n",
        "# Save the trained model\n",
        "!scp -r runs/detect/train6 '/content/gdrive/My Drive/Colab Notebooks/Reva/Capstone/TrainYolov8CustomDataset'"
      ],
      "metadata": {
        "id": "kzZSST9xdyVN"
      },
      "execution_count": null,
      "outputs": []
    },
    {
      "cell_type": "markdown",
      "source": [
        "#Model Testing"
      ],
      "metadata": {
        "id": "hxPe9yfl0w7E"
      }
    },
    {
      "cell_type": "code",
      "source": [
        "import os\n",
        "from ultralytics import YOLO\n",
        "import cv2\n",
        "from google.colab.patches import cv2_imshow\n",
        "\n",
        "# Load the trained model\n",
        "model_path = 'runs/detect/train6/weights/best.pt'\n",
        "model = YOLO(model_path)\n",
        "\n",
        "# Path to the image you want to test\n",
        "image_path = '/content/gdrive/My Drive/Colab Notebooks/Reva/Capstone/0642.JPEG'\n",
        "\n",
        "# Run inference on the image\n",
        "results = model(image_path)\n",
        "\n",
        "# Display the results\n",
        "result_image = results[0].plot(line_width=1)  # Get the image with bounding boxes and labels.Adjust the line_width parameter as needed.\n",
        "cv2_imshow(result_image)  # Display the image in the notebook"
      ],
      "metadata": {
        "colab": {
          "base_uri": "https://localhost:8080/",
          "height": 260
        },
        "id": "UB8q7eiRWLut",
        "outputId": "37a9424c-e847-49d4-f063-5a7f200136d8"
      },
      "execution_count": null,
      "outputs": [
        {
          "output_type": "stream",
          "name": "stdout",
          "text": [
            "\n",
            "image 1/1 /content/gdrive/My Drive/Colab Notebooks/Reva/Capstone/0642.JPEG: 384x640 1 {5: 'CRACKED WINDSHIELDS'}, 1 {8: 'WEATHER DAMAGES'}, 198.6ms\n",
            "Speed: 4.2ms preprocess, 198.6ms inference, 1.2ms postprocess per image at shape (1, 3, 384, 640)\n"
          ]
        },
        {
          "output_type": "display_data",
          "data": {
            "text/plain": [
              "<PIL.Image.Image image mode=RGB size=299x168>"
            ],
            "image/png": "[encoded data removed]"
          },
          "metadata": {}
        }
      ]
    },
    {
      "cell_type": "code",
      "source": [
        "import os\n",
        "from ultralytics import YOLO\n",
        "import cv2\n",
        "from google.colab.patches import cv2_imshow\n",
        "\n",
        "# Load the trained model\n",
        "model_path = 'runs/detect/train6/weights/best.pt'\n",
        "model = YOLO(model_path)\n",
        "\n",
        "# Path to the image you want to test\n",
        "image_path = '/content/gdrive/My Drive/Colab Notebooks/Reva/Capstone/0210.JPEG'\n",
        "\n",
        "# Run inference on the image\n",
        "results = model(image_path)\n",
        "\n",
        "# Display the results\n",
        "result_image = results[0].plot(line_width=1)  # Get the image with bounding boxes and labels\n",
        "cv2_imshow(result_image)  # Display the image in the notebook"
      ],
      "metadata": {
        "colab": {
          "base_uri": "https://localhost:8080/",
          "height": 266
        },
        "id": "2aj7Wk33G6Hr",
        "outputId": "576b9fa5-09ee-4e86-c2a8-8c792af7ff66"
      },
      "execution_count": null,
      "outputs": [
        {
          "output_type": "stream",
          "name": "stdout",
          "text": [
            "\n",
            "image 1/1 /content/gdrive/My Drive/Colab Notebooks/Reva/Capstone/0210.JPEG: 480x640 1 {7: 'HOOD DAMAGES'}, 1 {11: 'HEADLIGHT DAMAGES'}, 171.5ms\n",
            "Speed: 3.1ms preprocess, 171.5ms inference, 0.9ms postprocess per image at shape (1, 3, 480, 640)\n"
          ]
        },
        {
          "output_type": "display_data",
          "data": {
            "text/plain": [
              "<PIL.Image.Image image mode=RGB size=260x194>"
            ],
            "image/png": "[encoded data removed]"
          },
          "metadata": {}
        }
      ]
    },
    {
      "cell_type": "code",
      "source": [
        "import os\n",
        "from ultralytics import YOLO\n",
        "import cv2\n",
        "from google.colab.patches import cv2_imshow\n",
        "\n",
        "# Load the trained model\n",
        "model_path = 'runs/detect/train6/weights/best.pt'\n",
        "model = YOLO(model_path)\n",
        "\n",
        "# Path to the image you want to test\n",
        "image_path = '/content/gdrive/My Drive/Colab Notebooks/Reva/Capstone/0200.JPEG'\n",
        "\n",
        "# Display the image to ensure it is correctly loaded\n",
        "image = cv2.imread(image_path)\n",
        "cv2_imshow(image)\n",
        "\n",
        "# Run inference on the image with adjusted confidence threshold\n",
        "results = model(image_path, conf=0.25)\n",
        "\n",
        "# Display the results\n",
        "result_image = results[0].plot(line_width=1)  # Get the image with bounding boxes and labels\n",
        "cv2_imshow(result_image)  # Display the image in the notebook"
      ],
      "metadata": {
        "colab": {
          "base_uri": "https://localhost:8080/",
          "height": 460
        },
        "id": "hNhZNTM8WMKA",
        "outputId": "5d79a7b8-9540-44cf-a8d5-eb41b99bc5e4"
      },
      "execution_count": null,
      "outputs": [
        {
          "output_type": "display_data",
          "data": {
            "text/plain": [
              "<PIL.Image.Image image mode=RGB size=259x194>"
            ],
            "image/png": "[encoded data removed]"
          },
          "metadata": {}
        },
        {
          "output_type": "stream",
          "name": "stdout",
          "text": [
            "\n",
            "image 1/1 /content/gdrive/My Drive/Colab Notebooks/Reva/Capstone/0200.JPEG: 480x640 1 {5: 'CRACKED WINDSHIELDS'}, 1 {7: 'HOOD DAMAGES'}, 320.7ms\n",
            "Speed: 5.4ms preprocess, 320.7ms inference, 1.1ms postprocess per image at shape (1, 3, 480, 640)\n"
          ]
        },
        {
          "output_type": "display_data",
          "data": {
            "text/plain": [
              "<PIL.Image.Image image mode=RGB size=259x194>"
            ],
            "image/png": "[encoded data removed]"
          },
          "metadata": {}
        }
      ]
    },
    {
      "cell_type": "code",
      "source": [],
      "metadata": {
        "id": "b2aAqkplIscV"
      },
      "execution_count": null,
      "outputs": []
    }
  ],
  "metadata": {
    "colab": {
      "provenance": [],
      "authorship_tag": "ABX9TyMYjrm+k4HRRvhEopx4MsdJ",
      "include_colab_link": true
    },
    "kernelspec": {
      "display_name": "Python 3",
      "name": "python3"
    },
    "language_info": {
      "name": "python"
    }
  },
  "nbformat": 4,
  "nbformat_minor": 0
}